{
 "cells": [
  {
   "cell_type": "markdown",
   "metadata": {},
   "source": [
    "# Python"
   ]
  },
  {
   "cell_type": "markdown",
   "metadata": {},
   "source": [
    "# stdlib\n",
    "\n",
    "- standard library \n",
    "- great data types and operator overloading\n",
    "- great program constructs: much more of a \"coding\" or \"programming\" language relative to R"
   ]
  },
  {
   "cell_type": "code",
   "execution_count": null,
   "metadata": {},
   "outputs": [],
   "source": [
    "#  e.g., loops, dictionaries\n",
    "# e.g., strings are super easy to use like \"arrays\" or lists\n",
    "\n",
    "x=[]\n",
    "y=\"\"\n",
    "z=dict()\n",
    "n=10\n",
    "for i in range(n):\n",
    "    x += [i]\n",
    "    y += str(i)\n",
    "    z[i]=i\n",
    "    \n",
    "print(len(x), x, type(x))\n",
    "print(len(y), y, type(y))\n",
    "print(len(z), z, type(z))"
   ]
  },
  {
   "cell_type": "code",
   "execution_count": null,
   "metadata": {},
   "outputs": [],
   "source": [
    "# e.g., functions, recurssion, conditionals\n",
    "\n",
    "def fibonacci(sequence=[0,1], steps=6):\n",
    "    if steps==0:\n",
    "        return sequence\n",
    "    else:\n",
    "        return fibonacci(sequence+[sum(sequence[-2:])], steps=steps-1)\n",
    "    \n",
    "print(fibonacci())"
   ]
  },
  {
   "cell_type": "markdown",
   "metadata": {},
   "source": [
    "# numpy\n",
    "- 3-4x slower than C++\n",
    "- ndarrays, broadcasting"
   ]
  },
  {
   "cell_type": "code",
   "execution_count": null,
   "metadata": {},
   "outputs": [],
   "source": [
    "import numpy as np"
   ]
  },
  {
   "cell_type": "code",
   "execution_count": null,
   "metadata": {},
   "outputs": [],
   "source": [
    "n=1000000"
   ]
  },
  {
   "cell_type": "code",
   "execution_count": null,
   "metadata": {},
   "outputs": [],
   "source": [
    "%%timeit\n",
    "_ = np.arange(n)*np.arange(n)"
   ]
  },
  {
   "cell_type": "code",
   "execution_count": null,
   "metadata": {},
   "outputs": [],
   "source": [
    "%%timeit\n",
    "_ = [i*j for i,j in zip(range(n),range(n))]"
   ]
  },
  {
   "cell_type": "code",
   "execution_count": null,
   "metadata": {},
   "outputs": [],
   "source": [
    "print(np.zeros(10).reshape(5,2,1,1))\n"
   ]
  },
  {
   "cell_type": "code",
   "execution_count": null,
   "metadata": {},
   "outputs": [],
   "source": [
    "print(np.ones([1,10]))\n",
    "print(np.ones([10,1]))\n",
    "\n",
    "np.ones([1,10])*np.ones([10,1])"
   ]
  },
  {
   "cell_type": "markdown",
   "metadata": {},
   "source": [
    "# scipy\n",
    "\n",
    "$$\\huge \\int_{-1}^{1} \\frac{1}{\\sqrt{2\\pi}}e^{-\\frac{x^2}{2}} dx$$\n"
   ]
  },
  {
   "cell_type": "code",
   "execution_count": null,
   "metadata": {},
   "outputs": [],
   "source": [
    "import scipy\n",
    "from scipy import stats\n",
    "\n",
    "print(scipy.integrate.quad(lambda x: stats.norm.pdf(x), -1, 1))\n",
    "\n",
    "scipy.special.erf(1/np.sqrt(2)), 2*(stats.norm.cdf(1)-.5)\n"
   ]
  },
  {
   "cell_type": "code",
   "execution_count": null,
   "metadata": {},
   "outputs": [],
   "source": [
    "scipy.special.erf?"
   ]
  },
  {
   "cell_type": "code",
   "execution_count": null,
   "metadata": {},
   "outputs": [],
   "source": [
    "n = 1000\n",
    "print(stats.norm(loc=1, scale=2).rvs(n))\n",
    "\n",
    "stats.norm.fit(stats.norm(loc=1, scale=2).rvs(n))"
   ]
  },
  {
   "cell_type": "markdown",
   "metadata": {},
   "source": [
    "# pandas\n",
    "\n",
    "- DataFrame functionality\n",
    "    - everything is \"methods\" based, though\n",
    "- \"SQL\"-like capabilities\n",
    "- design focusses on timeseries (and correspondingly, indexes)"
   ]
  },
  {
   "cell_type": "code",
   "execution_count": null,
   "metadata": {},
   "outputs": [],
   "source": [
    "import pandas as pd\n",
    "\n",
    "dataset = 'https://raw.githubusercontent.com/mwaskom/seaborn-data/master/penguins.csv'\n",
    "penguins = pd.read_csv(dataset, dtype={key:'category' for key in ['species','island','sex']})\n",
    "penguins.head()"
   ]
  },
  {
   "cell_type": "code",
   "execution_count": null,
   "metadata": {},
   "outputs": [],
   "source": [
    "penguins.info()"
   ]
  },
  {
   "cell_type": "code",
   "execution_count": null,
   "metadata": {},
   "outputs": [],
   "source": [
    "# like the R `summrary()` function\n",
    "penguins.describe()"
   ]
  },
  {
   "cell_type": "code",
   "execution_count": null,
   "metadata": {},
   "outputs": [],
   "source": [
    "import matplotlib.pyplot as plt\n",
    "tabs = []\n",
    "fig = plt.figure(figsize=[8,4])\n",
    "ax = fig.subplots(2,2).flatten()\n",
    "i = 0\n",
    "for col in penguins:\n",
    "    if penguins.dtypes[col]=='float64':\n",
    "        penguins[[col]].plot(kind='kde', ax=ax[i])\n",
    "        i+=1\n",
    "    elif penguins.dtypes[col]=='category':\n",
    "        tabs += [pd.DataFrame(penguins[col].value_counts(), columns=[col])]\n",
    "    else:\n",
    "        pass\n",
    "\n",
    "plt.tight_layout()\n",
    "plt.show()\n",
    "_=[display(tab) for tab in tabs]\n"
   ]
  },
  {
   "cell_type": "code",
   "execution_count": null,
   "metadata": {},
   "outputs": [],
   "source": [
    "strikes_path = 'http://lib.stat.cmu.edu/datasets/strikes'\n",
    "strikes = pd.read_csv(strikes_path, skiprows=18, header=None,\n",
    "                      delim_whitespace=True)\n",
    "strikes.columns = ['Country', 'Year', 'Stike_Volume', 'Unemplyment',\n",
    "                    'Inflation', 'Socialist_Party_Representation',\n",
    "                    'Unionization']\n",
    "strikes[['Year']] = strikes[['Year']].astype(type(0))\n",
    "\n",
    "strikes.head()"
   ]
  },
  {
   "cell_type": "code",
   "execution_count": null,
   "metadata": {},
   "outputs": [],
   "source": [
    "SnP_path = 'http://lib.stat.cmu.edu/datasets/spdc2693'\n",
    "SnP = pd.read_csv(SnP_path, skiprows=5, header=None,\n",
    "                  delim_whitespace=True)\n",
    "SnP.columns = ['Date', 'Close']\n",
    "SnP['Date'] = SnP.Date.apply(lambda x: pd.to_datetime('19'+str(x), format='%Y%m%d'))\n",
    "SnP['Year'] = SnP.Date.apply(lambda x: x.year)\n",
    "\n",
    "SnP.head()"
   ]
  },
  {
   "cell_type": "code",
   "execution_count": null,
   "metadata": {},
   "outputs": [],
   "source": [
    "SnP_strikes = SnP.merge(strikes, on='Year', how='inner')\n",
    "SnP_strikes.set_index('Date', inplace=True)\n",
    "country_codes = {1.0: 'AusT',\n",
    "                 2.0: 'AusA',\n",
    "                 3.0: 'Bel',\n",
    "                 4.0: 'Can',\n",
    "                 5.0: 'Den',\n",
    "                 6.0: 'Fin',\n",
    "                 7.0: 'Fra',\n",
    "                 8.0: 'Ger',\n",
    "                 9.0: 'Ire',\n",
    "                 10.0: 'Ita',\n",
    "                 11.0: 'Jap',\n",
    "                 12.0: 'Ned',\n",
    "                 13.0: 'Nwz',\n",
    "                 14.0: 'Nor',\n",
    "                 15.0: 'Swe',\n",
    "                 16.0: 'Swi',\n",
    "                 17.0: 'UK',\n",
    "                 18.0: 'Usa'}\n",
    "SnP_strikes['Country'] = SnP_strikes.Country.map(country_codes)\n",
    "strikes[['Country']] = pd.Categorical(strikes['Country'])\n",
    "\n",
    "fig, ax = plt.subplots(2,1, figsize=(15,13))\n",
    "#apply(lambda x: np.log(x) if x.name=='Stike_Volume' else x).\\\n",
    "SnP_strikes.groupby('Country').rolling(200).mean().reset_index(0).groupby('Country')['Unemplyment'].plot(ax=ax[0])\n",
    "ax[0].set_title('Unemployment (%)')\n",
    "ax[0].legend(loc='upper center')\n",
    "\n",
    "SnP_strikes['Close'].plot(ax=ax[1])\n",
    "ax[1].set_title('S&P 500 Closing Values')"
   ]
  },
  {
   "cell_type": "markdown",
   "metadata": {},
   "source": [
    "# seaborn\n",
    "- matplotlib 2.0"
   ]
  },
  {
   "cell_type": "code",
   "execution_count": null,
   "metadata": {},
   "outputs": [],
   "source": [
    "SnP_strikes[SnP_strikes.Country.apply(lambda x: x in ['Usa','UK'])].\\\n",
    "    groupby(by=['Year','Country']).max()"
   ]
  },
  {
   "cell_type": "code",
   "execution_count": null,
   "metadata": {},
   "outputs": [],
   "source": [
    "import seaborn as sns\n",
    "SnP_strikes_US_UK = SnP_strikes[SnP_strikes.Country.apply(lambda x: x in ['Usa','UK'])].\\\n",
    "    groupby(by=['Year','Country']).max().reset_index(1).dropna()\n",
    "#SnP_strikes_US_UK.Country.cat.remove_unused_categories(inplace=True)\n",
    "\n",
    "p = sns.pairplot(SnP_strikes_US_UK.iloc[:,:-1], hue=\"Country\")\n",
    "p.map_lower(sns.kdeplot, levels=4, color=\".2\")\n",
    "p.map_upper(sns.histplot)\n"
   ]
  },
  {
   "cell_type": "markdown",
   "metadata": {},
   "source": [
    "# Scikit-Learn\n",
    "- do Machine Learning with `sklearn`\n",
    "- do stats with `pandas+statsmodels` (not shown)"
   ]
  },
  {
   "cell_type": "code",
   "execution_count": null,
   "metadata": {},
   "outputs": [],
   "source": [
    "#https://scikit-learn.org/stable/auto_examples/gaussian_process/plot_gpc_iris.html#sphx-glr-auto-examples-gaussian-process-plot-gpc-iris-py\n",
    "    \n",
    "from sklearn import datasets    \n",
    "from sklearn.gaussian_process import GaussianProcessClassifier\n",
    "from sklearn.gaussian_process.kernels import RBF\n",
    "\n",
    "# import some data to play with\n",
    "iris = datasets.load_iris()\n",
    "X = iris.data[:, :2]  # we only take the first two features.\n",
    "y = np.array(iris.target, dtype=int)\n",
    "\n",
    "h = .02  # step size in the mesh\n",
    "\n",
    "kernel = 1.0 * RBF([1.0])\n",
    "gpc_rbf_isotropic = GaussianProcessClassifier(kernel=kernel).fit(X, y)\n",
    "kernel = 1.0 * RBF([1.0, 1.0])\n",
    "gpc_rbf_anisotropic = GaussianProcessClassifier(kernel=kernel).fit(X, y)\n",
    "\n",
    "# create a mesh to plot in\n",
    "x_min, x_max = X[:, 0].min() - 1, X[:, 0].max() + 1\n",
    "y_min, y_max = X[:, 1].min() - 1, X[:, 1].max() + 1\n",
    "xx, yy = np.meshgrid(np.arange(x_min, x_max, h),\n",
    "                     np.arange(y_min, y_max, h))\n",
    "\n",
    "titles = [\"Isotropic RBF\", \"Anisotropic RBF\"]\n",
    "plt.figure(figsize=(10, 5))\n",
    "for i, clf in enumerate((gpc_rbf_isotropic, gpc_rbf_anisotropic)):\n",
    "    # Plot the predicted probabilities. For that, we will assign a color to\n",
    "    # each point in the mesh [x_min, m_max]x[y_min, y_max].\n",
    "    plt.subplot(1, 2, i + 1)\n",
    "\n",
    "    Z = clf.predict_proba(np.c_[xx.ravel(), yy.ravel()])\n",
    "\n",
    "    # Put the result into a color plot\n",
    "    Z = Z.reshape((xx.shape[0], xx.shape[1], 3))\n",
    "    plt.imshow(Z, extent=(x_min, x_max, y_min, y_max), origin=\"lower\")\n",
    "\n",
    "    # Plot also the training points\n",
    "    plt.scatter(X[:, 0], X[:, 1], c=np.array([\"r\", \"g\", \"b\"])[y],\n",
    "                edgecolors=(0, 0, 0))\n",
    "    plt.xlabel('Sepal length')\n",
    "    plt.ylabel('Sepal width')\n",
    "    plt.xlim(xx.min(), xx.max())\n",
    "    plt.ylim(yy.min(), yy.max())\n",
    "    plt.xticks(())\n",
    "    plt.yticks(())\n",
    "    plt.title(\"%s, LML: %.3f\" %\n",
    "              (titles[i], clf.log_marginal_likelihood(clf.kernel_.theta)))\n",
    "\n",
    "plt.tight_layout()"
   ]
  },
  {
   "cell_type": "code",
   "execution_count": null,
   "metadata": {},
   "outputs": [],
   "source": [
    "#https://scikit-learn.org/stable/auto_examples/ensemble/plot_gradient_boosting_regularization.html#sphx-glr-auto-examples-ensemble-plot-gradient-boosting-regularization-py\n",
    "    \n",
    "from sklearn import ensemble\n",
    "\n",
    "X, y = datasets.make_hastie_10_2(n_samples=12000, random_state=1)\n",
    "X = X.astype(np.float32)\n",
    "\n",
    "# map labels from {-1, 1} to {0, 1}\n",
    "labels, y = np.unique(y, return_inverse=True)\n",
    "\n",
    "X_train, X_test = X[:2000], X[2000:]\n",
    "y_train, y_test = y[:2000], y[2000:]\n",
    "\n",
    "original_params = {'n_estimators': 1000, 'max_leaf_nodes': 4, 'max_depth': None, 'random_state': 2,\n",
    "                   'min_samples_split': 5}\n",
    "\n",
    "plt.figure()\n",
    "\n",
    "for label, color, setting in [('No shrinkage', 'orange',\n",
    "                               {'learning_rate': 1.0, 'subsample': 1.0}),\n",
    "                              ('learning_rate=0.1', 'turquoise',\n",
    "                               {'learning_rate': 0.1, 'subsample': 1.0}),\n",
    "                              ('subsample=0.5', 'blue',\n",
    "                               {'learning_rate': 1.0, 'subsample': 0.5}),\n",
    "                              ('learning_rate=0.1, subsample=0.5', 'gray',\n",
    "                               {'learning_rate': 0.1, 'subsample': 0.5}),\n",
    "                              ('learning_rate=0.1, max_features=2', 'magenta',\n",
    "                               {'learning_rate': 0.1, 'max_features': 2})]:\n",
    "    params = dict(original_params)\n",
    "    params.update(setting)\n",
    "\n",
    "    clf = ensemble.GradientBoostingClassifier(**params)\n",
    "    clf.fit(X_train, y_train)\n",
    "\n",
    "    # compute test set deviance\n",
    "    test_deviance = np.zeros((params['n_estimators'],), dtype=np.float64)\n",
    "\n",
    "    for i, y_pred in enumerate(clf.staged_decision_function(X_test)):\n",
    "        # clf.loss_ assumes that y_test[i] in {0, 1}\n",
    "        test_deviance[i] = clf.loss_(y_test, y_pred)\n",
    "\n",
    "    plt.plot((np.arange(test_deviance.shape[0]) + 1)[::5], test_deviance[::5],\n",
    "            '-', color=color, label=label)\n",
    "\n",
    "plt.legend(loc='upper left')\n",
    "plt.xlabel('Boosting Iterations')\n",
    "plt.ylabel('Test Set Deviance')"
   ]
  },
  {
   "cell_type": "markdown",
   "metadata": {},
   "source": [
    "# plotly\n",
    "- primary language _is_ python"
   ]
  },
  {
   "cell_type": "code",
   "execution_count": null,
   "metadata": {},
   "outputs": [],
   "source": [
    "# https://plotly.com/python/visualizing-mri-volume-slices/\n",
    "# https://www.geeksforgeeks.org/animated-data-visualization-using-plotly-express/\n",
    "\n",
    "import time\n",
    "import numpy as np\n",
    "\n",
    "from skimage import io\n",
    "\n",
    "vol = io.imread(\"https://s3.amazonaws.com/assets.datacamp.com/blog_assets/attention-mri.tif\")\n",
    "volume = vol.T\n",
    "r, c = volume[0].shape\n",
    "\n",
    "# Define frames\n",
    "import plotly.graph_objects as go\n",
    "nb_frames = 68\n",
    "\n",
    "fig = go.Figure(frames=[go.Frame(data=go.Surface(\n",
    "    z=(6.7 - k * 0.1) * np.ones((r, c)),\n",
    "    surfacecolor=np.flipud(volume[67 - k]),\n",
    "    cmin=0, cmax=200\n",
    "    ),\n",
    "    name=str(k) # you need to name the frame for the animation to behave properly\n",
    "    )\n",
    "    for k in range(nb_frames)])\n",
    "\n",
    "# Add data to be displayed before animation starts\n",
    "fig.add_trace(go.Surface(\n",
    "    z=6.7 * np.ones((r, c)),\n",
    "    surfacecolor=np.flipud(volume[67]),\n",
    "    colorscale='Gray',\n",
    "    cmin=0, cmax=200,\n",
    "    colorbar=dict(thickness=20, ticklen=4)\n",
    "    ))\n",
    "\n",
    "\n",
    "def frame_args(duration):\n",
    "    return {\n",
    "            \"frame\": {\"duration\": duration},\n",
    "            \"mode\": \"immediate\",\n",
    "            \"fromcurrent\": True,\n",
    "            \"transition\": {\"duration\": duration, \"easing\": \"linear\"},\n",
    "        }\n",
    "\n",
    "sliders = [\n",
    "            {\n",
    "                \"pad\": {\"b\": 10, \"t\": 60},\n",
    "                \"len\": 0.9,\n",
    "                \"x\": 0.1,\n",
    "                \"y\": 0,\n",
    "                \"steps\": [\n",
    "                    {\n",
    "                        \"args\": [[f.name], frame_args(0)],\n",
    "                        \"label\": str(k),\n",
    "                        \"method\": \"animate\",\n",
    "                    }\n",
    "                    for k, f in enumerate(fig.frames)\n",
    "                ],\n",
    "            }\n",
    "        ]\n",
    "\n",
    "# Layout\n",
    "fig.update_layout(\n",
    "         title='Slices in volumetric data',\n",
    "         width=600,\n",
    "         height=600,\n",
    "         scene=dict(\n",
    "                    zaxis=dict(range=[-0.1, 6.8], autorange=False),\n",
    "                    aspectratio=dict(x=1, y=1, z=1),\n",
    "                    ),\n",
    "         updatemenus = [\n",
    "            {\n",
    "                \"buttons\": [\n",
    "                    {\n",
    "                        \"args\": [None, frame_args(50)],\n",
    "                        \"label\": \"&#9654;\", # play symbol\n",
    "                        \"method\": \"animate\",\n",
    "                    },\n",
    "                    {\n",
    "                        \"args\": [[None], frame_args(0)],\n",
    "                        \"label\": \"&#9724;\", # pause symbol\n",
    "                        \"method\": \"animate\",\n",
    "                    },\n",
    "                ],\n",
    "                \"direction\": \"left\",\n",
    "                \"pad\": {\"r\": 10, \"t\": 70},\n",
    "                \"type\": \"buttons\",\n",
    "                \"x\": 0.1,\n",
    "                \"y\": 0,\n",
    "            }\n",
    "         ],\n",
    "         sliders=sliders\n",
    ")\n",
    "\n",
    "fig.show()"
   ]
  },
  {
   "cell_type": "code",
   "execution_count": null,
   "metadata": {},
   "outputs": [],
   "source": [
    "! yes y | conda install -c conda-forge ffmpeg\n"
   ]
  },
  {
   "cell_type": "code",
   "execution_count": null,
   "metadata": {},
   "outputs": [],
   "source": [
    "! conda env list"
   ]
  },
  {
   "cell_type": "code",
   "execution_count": null,
   "metadata": {},
   "outputs": [],
   "source": [
    "! conda activate base"
   ]
  },
  {
   "cell_type": "code",
   "execution_count": null,
   "metadata": {},
   "outputs": [],
   "source": [
    "# https://matplotlib.org/3.1.0/gallery/animation/unchained.html\n",
    "\n",
    "import numpy as np\n",
    "import matplotlib.pyplot as plt\n",
    "from IPython.display import HTML\n",
    "from matplotlib import animation, rc\n",
    "rc('animation', html='html5')\n",
    "%matplotlib notebook\n",
    "\n",
    "# Fixing random state for reproducibility\n",
    "np.random.seed(19680801)\n",
    "\n",
    "\n",
    "# Create new Figure with black background\n",
    "fig = plt.figure(figsize=(8, 8), facecolor='black')\n",
    "\n",
    "# Add a subplot with no frame\n",
    "ax = plt.subplot(111, frameon=False)\n",
    "\n",
    "# Generate random data\n",
    "data = np.random.uniform(0, 1, (64, 75))\n",
    "X = np.linspace(-1, 1, data.shape[-1])\n",
    "G = 1.5 * np.exp(-4 * X ** 2)\n",
    "\n",
    "# Generate line plots\n",
    "lines = []\n",
    "for i in range(len(data)):\n",
    "    # Small reduction of the X extents to get a cheap perspective effect\n",
    "    xscale = 1 - i / 200.\n",
    "    # Same for linewidth (thicker strokes on bottom)\n",
    "    lw = 1.5 - i / 100.0\n",
    "    line, = ax.plot(xscale * X, i + G * data[i], color=\"w\", lw=lw)\n",
    "    lines.append(line)\n",
    "\n",
    "# Set y limit (or first line is cropped because of thickness)\n",
    "ax.set_ylim(-1, 70)\n",
    "\n",
    "# No ticks\n",
    "ax.set_xticks([])\n",
    "ax.set_yticks([])\n",
    "\n",
    "# 2 part titles to get different font weights\n",
    "ax.text(0.5, 1.0, \"MATPLOTLIB \", transform=ax.transAxes,\n",
    "        ha=\"right\", va=\"bottom\", color=\"w\",\n",
    "        family=\"sans-serif\", fontweight=\"light\", fontsize=16)\n",
    "ax.text(0.5, 1.0, \"UNCHAINED\", transform=ax.transAxes,\n",
    "        ha=\"left\", va=\"bottom\", color=\"w\",\n",
    "        family=\"sans-serif\", fontweight=\"bold\", fontsize=16)\n",
    "\n",
    "\n",
    "def update(*args):\n",
    "    # Shift all data to the right\n",
    "    data[:, 1:] = data[:, :-1]\n",
    "\n",
    "    # Fill-in new values\n",
    "    data[:, 0] = np.random.uniform(0, 1, len(data))\n",
    "\n",
    "    # Update data\n",
    "    for i in range(len(data)):\n",
    "        lines[i].set_ydata(i + G * data[i])\n",
    "\n",
    "    # Return modified artists\n",
    "    return lines\n",
    "\n",
    "# Construct the animation, using the update function as the animation director.\n",
    "anim = animation.FuncAnimation(fig, update, interval=50)\n",
    "#HTML(anim.to_html5_video())\n",
    "anim"
   ]
  }
 ],
 "metadata": {
  "kernelspec": {
   "display_name": "Python 3",
   "language": "python",
   "name": "python3"
  },
  "language_info": {
   "codemirror_mode": {
    "name": "ipython",
    "version": 3
   },
   "file_extension": ".py",
   "mimetype": "text/x-python",
   "name": "python",
   "nbconvert_exporter": "python",
   "pygments_lexer": "ipython3",
   "version": "3.8.3"
  }
 },
 "nbformat": 4,
 "nbformat_minor": 4
}
