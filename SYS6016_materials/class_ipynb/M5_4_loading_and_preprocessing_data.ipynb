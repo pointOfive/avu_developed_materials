{
  "nbformat": 4,
  "nbformat_minor": 0,
  "metadata": {
    "kernelspec": {
      "display_name": "Python 3",
      "language": "python",
      "name": "python3"
    },
    "language_info": {
      "codemirror_mode": {
        "name": "ipython",
        "version": 3
      },
      "file_extension": ".py",
      "mimetype": "text/x-python",
      "name": "python",
      "nbconvert_exporter": "python",
      "pygments_lexer": "ipython3",
      "version": "3.7.6"
    },
    "nav_menu": {
      "height": "264px",
      "width": "369px"
    },
    "toc": {
      "navigate_menu": true,
      "number_sections": true,
      "sideBar": true,
      "threshold": 6,
      "toc_cell": false,
      "toc_section_display": "block",
      "toc_window_display": false
    },
    "colab": {
      "name": "M5.4 loading_and_preprocessing_data.ipynb",
      "provenance": [],
      "collapsed_sections": [
        "tL5VpTL8hcOn",
        "u1UyS7UQhcPk",
        "wUFLqrIUhcP0",
        "QcPZecVihcQL",
        "0kE7BsRBhcQO",
        "Z8-AAikfhcQd",
        "squYtlNDhcQo",
        "9HUuV7GohcQz",
        "gJsKrebchcRl",
        "ZuxQ3ng8hcQ_",
        "Q02aFdKmhcRZ",
        "GKyhZnvOhcRj",
        "pWs_y-gShcRr"
      ],
      "toc_visible": true
    },
    "widgets": {
      "application/vnd.jupyter.widget-state+json": {
        "4528bae607c7432aaea8ef47ed031a39": {
          "model_module": "@jupyter-widgets/controls",
          "model_name": "HBoxModel",
          "state": {
            "_view_name": "HBoxView",
            "_dom_classes": [],
            "_model_name": "HBoxModel",
            "_view_module": "@jupyter-widgets/controls",
            "_model_module_version": "1.5.0",
            "_view_count": null,
            "_view_module_version": "1.5.0",
            "box_style": "",
            "layout": "IPY_MODEL_5232e3f38e1e4f9ab61d4193ce4c01b1",
            "_model_module": "@jupyter-widgets/controls",
            "children": [
              "IPY_MODEL_031fee51143a4fc680cb1bede38213e1",
              "IPY_MODEL_a416c5895225485586affe8a92b6ea1a"
            ]
          }
        },
        "5232e3f38e1e4f9ab61d4193ce4c01b1": {
          "model_module": "@jupyter-widgets/base",
          "model_name": "LayoutModel",
          "state": {
            "_view_name": "LayoutView",
            "grid_template_rows": null,
            "right": null,
            "justify_content": null,
            "_view_module": "@jupyter-widgets/base",
            "overflow": null,
            "_model_module_version": "1.2.0",
            "_view_count": null,
            "flex_flow": null,
            "width": null,
            "min_width": null,
            "border": null,
            "align_items": null,
            "bottom": null,
            "_model_module": "@jupyter-widgets/base",
            "top": null,
            "grid_column": null,
            "overflow_y": null,
            "overflow_x": null,
            "grid_auto_flow": null,
            "grid_area": null,
            "grid_template_columns": null,
            "flex": null,
            "_model_name": "LayoutModel",
            "justify_items": null,
            "grid_row": null,
            "max_height": null,
            "align_content": null,
            "visibility": null,
            "align_self": null,
            "height": null,
            "min_height": null,
            "padding": null,
            "grid_auto_rows": null,
            "grid_gap": null,
            "max_width": null,
            "order": null,
            "_view_module_version": "1.2.0",
            "grid_template_areas": null,
            "object_position": null,
            "object_fit": null,
            "grid_auto_columns": null,
            "margin": null,
            "display": null,
            "left": null
          }
        },
        "031fee51143a4fc680cb1bede38213e1": {
          "model_module": "@jupyter-widgets/controls",
          "model_name": "FloatProgressModel",
          "state": {
            "_view_name": "ProgressView",
            "style": "IPY_MODEL_405baa5851ae41c1a3033e9e0411772f",
            "_dom_classes": [],
            "description": "Dl Completed...: 100%",
            "_model_name": "FloatProgressModel",
            "bar_style": "success",
            "max": 4,
            "_view_module": "@jupyter-widgets/controls",
            "_model_module_version": "1.5.0",
            "value": 4,
            "_view_count": null,
            "_view_module_version": "1.5.0",
            "orientation": "horizontal",
            "min": 0,
            "description_tooltip": null,
            "_model_module": "@jupyter-widgets/controls",
            "layout": "IPY_MODEL_d9587c95bfe642e0af58c0690ec2d1bc"
          }
        },
        "a416c5895225485586affe8a92b6ea1a": {
          "model_module": "@jupyter-widgets/controls",
          "model_name": "HTMLModel",
          "state": {
            "_view_name": "HTMLView",
            "style": "IPY_MODEL_caa2c5baef614e1aa949d7e9055bef5c",
            "_dom_classes": [],
            "description": "",
            "_model_name": "HTMLModel",
            "placeholder": "​",
            "_view_module": "@jupyter-widgets/controls",
            "_model_module_version": "1.5.0",
            "value": " 4/4 [00:02&lt;00:00,  1.36 file/s]",
            "_view_count": null,
            "_view_module_version": "1.5.0",
            "description_tooltip": null,
            "_model_module": "@jupyter-widgets/controls",
            "layout": "IPY_MODEL_5426cb94fce7418faf6c7b387c9a7f93"
          }
        },
        "405baa5851ae41c1a3033e9e0411772f": {
          "model_module": "@jupyter-widgets/controls",
          "model_name": "ProgressStyleModel",
          "state": {
            "_view_name": "StyleView",
            "_model_name": "ProgressStyleModel",
            "description_width": "initial",
            "_view_module": "@jupyter-widgets/base",
            "_model_module_version": "1.5.0",
            "_view_count": null,
            "_view_module_version": "1.2.0",
            "bar_color": null,
            "_model_module": "@jupyter-widgets/controls"
          }
        },
        "d9587c95bfe642e0af58c0690ec2d1bc": {
          "model_module": "@jupyter-widgets/base",
          "model_name": "LayoutModel",
          "state": {
            "_view_name": "LayoutView",
            "grid_template_rows": null,
            "right": null,
            "justify_content": null,
            "_view_module": "@jupyter-widgets/base",
            "overflow": null,
            "_model_module_version": "1.2.0",
            "_view_count": null,
            "flex_flow": null,
            "width": null,
            "min_width": null,
            "border": null,
            "align_items": null,
            "bottom": null,
            "_model_module": "@jupyter-widgets/base",
            "top": null,
            "grid_column": null,
            "overflow_y": null,
            "overflow_x": null,
            "grid_auto_flow": null,
            "grid_area": null,
            "grid_template_columns": null,
            "flex": null,
            "_model_name": "LayoutModel",
            "justify_items": null,
            "grid_row": null,
            "max_height": null,
            "align_content": null,
            "visibility": null,
            "align_self": null,
            "height": null,
            "min_height": null,
            "padding": null,
            "grid_auto_rows": null,
            "grid_gap": null,
            "max_width": null,
            "order": null,
            "_view_module_version": "1.2.0",
            "grid_template_areas": null,
            "object_position": null,
            "object_fit": null,
            "grid_auto_columns": null,
            "margin": null,
            "display": null,
            "left": null
          }
        },
        "caa2c5baef614e1aa949d7e9055bef5c": {
          "model_module": "@jupyter-widgets/controls",
          "model_name": "DescriptionStyleModel",
          "state": {
            "_view_name": "StyleView",
            "_model_name": "DescriptionStyleModel",
            "description_width": "",
            "_view_module": "@jupyter-widgets/base",
            "_model_module_version": "1.5.0",
            "_view_count": null,
            "_view_module_version": "1.2.0",
            "_model_module": "@jupyter-widgets/controls"
          }
        },
        "5426cb94fce7418faf6c7b387c9a7f93": {
          "model_module": "@jupyter-widgets/base",
          "model_name": "LayoutModel",
          "state": {
            "_view_name": "LayoutView",
            "grid_template_rows": null,
            "right": null,
            "justify_content": null,
            "_view_module": "@jupyter-widgets/base",
            "overflow": null,
            "_model_module_version": "1.2.0",
            "_view_count": null,
            "flex_flow": null,
            "width": null,
            "min_width": null,
            "border": null,
            "align_items": null,
            "bottom": null,
            "_model_module": "@jupyter-widgets/base",
            "top": null,
            "grid_column": null,
            "overflow_y": null,
            "overflow_x": null,
            "grid_auto_flow": null,
            "grid_area": null,
            "grid_template_columns": null,
            "flex": null,
            "_model_name": "LayoutModel",
            "justify_items": null,
            "grid_row": null,
            "max_height": null,
            "align_content": null,
            "visibility": null,
            "align_self": null,
            "height": null,
            "min_height": null,
            "padding": null,
            "grid_auto_rows": null,
            "grid_gap": null,
            "max_width": null,
            "order": null,
            "_view_module_version": "1.2.0",
            "grid_template_areas": null,
            "object_position": null,
            "object_fit": null,
            "grid_auto_columns": null,
            "margin": null,
            "display": null,
            "left": null
          }
        }
      }
    }
  },
  "cells": [
    {
      "cell_type": "markdown",
      "metadata": {
        "id": "Fy4Ij94VhcNl"
      },
      "source": [
        "#5.4 Tutorial: Loading and Preprocessing Data with TensorFlow\n",
        "\n",
        "This tutorial provides hands-on coding experience to load and preprocess large datasets. First, you will build an input pipeline for the California Housing dataset to load it as batches from multiple CSV files. Next, you will learn how to process the loaded data and feed them into a neural network for training. Then, you will get familiar with the TFRecord binary format using the protocol buffers. You will learn how to provide support for both image and sequence (text) data. Finally, you will take a quick look at both TFTransform and TFDS projects."
      ]
    },
    {
      "cell_type": "markdown",
      "metadata": {
        "id": "PHr2wumthcNo"
      },
      "source": [
        "# Setup"
      ]
    },
    {
      "cell_type": "markdown",
      "metadata": {
        "id": "OeQVcA2nhcNq"
      },
      "source": [
        "First, let's import a few common modules, ensure MatplotLib plots figures inline and prepare a function to save the figures. We also check that Python 3.5 or later is installed (although Python 2.x may work, it is deprecated so we strongly recommend you use Python 3 instead), as well as Scikit-Learn ≥0.20 and TensorFlow ≥2.0."
      ]
    },
    {
      "cell_type": "code",
      "metadata": {
        "id": "2H4pQSdvhcNr",
        "colab": {
          "base_uri": "https://localhost:8080/"
        },
        "outputId": "b4a9119e-263a-4168-befb-ddd5556fa48e"
      },
      "source": [
        "# Python ≥3.5 is required\n",
        "import sys\n",
        "assert sys.version_info >= (3, 5)\n",
        "\n",
        "# Scikit-Learn ≥0.20 is required\n",
        "import sklearn\n",
        "assert sklearn.__version__ >= \"0.20\"\n",
        "\n",
        "try:\n",
        "    # %tensorflow_version only exists in Colab.\n",
        "    %tensorflow_version 2.x\n",
        "    !pip install -q -U tfx==0.21.2\n",
        "    print(\"You can safely ignore the package incompatibility errors.\")\n",
        "except Exception:\n",
        "    pass\n",
        "\n",
        "# TensorFlow ≥2.0 is required\n",
        "import tensorflow as tf\n",
        "from tensorflow import keras\n",
        "assert tf.__version__ >= \"2.0\"\n",
        "\n",
        "# Common imports\n",
        "import numpy as np\n",
        "import os\n",
        "\n",
        "# to make this notebook's output stable across runs\n",
        "np.random.seed(42)\n",
        "\n",
        "# To plot pretty figures\n",
        "%matplotlib inline\n",
        "import matplotlib as mpl\n",
        "import matplotlib.pyplot as plt\n",
        "mpl.rc('axes', labelsize=14)\n",
        "mpl.rc('xtick', labelsize=12)\n",
        "mpl.rc('ytick', labelsize=12)\n",
        "\n",
        "# Where to save the figures\n",
        "PROJECT_ROOT_DIR = \".\"\n",
        "CHAPTER_ID = \"data\"\n",
        "IMAGES_PATH = os.path.join(PROJECT_ROOT_DIR, \"images\", CHAPTER_ID)\n",
        "os.makedirs(IMAGES_PATH, exist_ok=True)\n",
        "\n",
        "def save_fig(fig_id, tight_layout=True, fig_extension=\"png\", resolution=300):\n",
        "    path = os.path.join(IMAGES_PATH, fig_id + \".\" + fig_extension)\n",
        "    print(\"Saving figure\", fig_id)\n",
        "    if tight_layout:\n",
        "        plt.tight_layout()\n",
        "    plt.savefig(path, format=fig_extension, dpi=resolution)"
      ],
      "execution_count": null,
      "outputs": [
        {
          "output_type": "stream",
          "text": [
            "\u001b[K     |████████████████████████████████| 1.1MB 5.3MB/s \n",
            "\u001b[K     |████████████████████████████████| 3.0MB 14.0MB/s \n",
            "\u001b[K     |████████████████████████████████| 112kB 37.8MB/s \n",
            "\u001b[K     |████████████████████████████████| 645kB 39.7MB/s \n",
            "\u001b[K     |████████████████████████████████| 59.2MB 87kB/s \n",
            "\u001b[K     |████████████████████████████████| 1.5MB 55.7MB/s \n",
            "\u001b[K     |████████████████████████████████| 2.4MB 50.8MB/s \n",
            "\u001b[K     |████████████████████████████████| 4.9MB 39.3MB/s \n",
            "\u001b[K     |████████████████████████████████| 1.9MB 35.7MB/s \n",
            "\u001b[K     |████████████████████████████████| 245kB 44.4MB/s \n",
            "\u001b[K     |████████████████████████████████| 153kB 57.7MB/s \n",
            "\u001b[K     |████████████████████████████████| 81kB 9.4MB/s \n",
            "\u001b[K     |████████████████████████████████| 61kB 8.4MB/s \n",
            "\u001b[K     |████████████████████████████████| 1.2MB 47.9MB/s \n",
            "\u001b[K     |████████████████████████████████| 225kB 61.3MB/s \n",
            "\u001b[K     |████████████████████████████████| 153kB 57.0MB/s \n",
            "\u001b[K     |████████████████████████████████| 143kB 50.3MB/s \n",
            "\u001b[K     |████████████████████████████████| 122kB 49.1MB/s \n",
            "\u001b[K     |████████████████████████████████| 235kB 40.2MB/s \n",
            "\u001b[K     |████████████████████████████████| 174kB 53.5MB/s \n",
            "\u001b[K     |████████████████████████████████| 92kB 11.2MB/s \n",
            "\u001b[K     |████████████████████████████████| 296kB 47.1MB/s \n",
            "\u001b[K     |████████████████████████████████| 6.7MB 43.4MB/s \n",
            "\u001b[K     |████████████████████████████████| 204kB 59.2MB/s \n",
            "\u001b[K     |████████████████████████████████| 112kB 57.8MB/s \n",
            "\u001b[?25h  Building wheel for absl-py (setup.py) ... \u001b[?25l\u001b[?25hdone\n",
            "  Building wheel for tensorflow-transform (setup.py) ... \u001b[?25l\u001b[?25hdone\n",
            "  Building wheel for oauth2client (setup.py) ... \u001b[?25l\u001b[?25hdone\n",
            "  Building wheel for avro-python3 (setup.py) ... \u001b[?25l\u001b[?25hdone\n",
            "  Building wheel for httplib2 (setup.py) ... \u001b[?25l\u001b[?25hdone\n",
            "  Building wheel for dill (setup.py) ... \u001b[?25l\u001b[?25hdone\n",
            "  Building wheel for google-apitools (setup.py) ... \u001b[?25l\u001b[?25hdone\n",
            "  Building wheel for grpc-google-iam-v1 (setup.py) ... \u001b[?25l\u001b[?25hdone\n",
            "\u001b[31mERROR: umap-learn 0.5.1 has requirement scikit-learn>=0.22, but you'll have scikit-learn 0.21.3 which is incompatible.\u001b[0m\n",
            "\u001b[31mERROR: tensorflow 2.4.1 has requirement absl-py~=0.10, but you'll have absl-py 0.8.1 which is incompatible.\u001b[0m\n",
            "\u001b[31mERROR: pydrive 1.3.1 has requirement oauth2client>=4.0.0, but you'll have oauth2client 3.0.0 which is incompatible.\u001b[0m\n",
            "\u001b[31mERROR: multiprocess 0.70.11.1 has requirement dill>=0.3.3, but you'll have dill 0.3.0 which is incompatible.\u001b[0m\n",
            "\u001b[31mERROR: google-api-python-client 1.7.12 has requirement httplib2<1dev,>=0.17.0, but you'll have httplib2 0.12.0 which is incompatible.\u001b[0m\n",
            "\u001b[31mERROR: tensorflow-transform 0.21.2 has requirement tensorflow<2.2,>=1.15, but you'll have tensorflow 2.4.1 which is incompatible.\u001b[0m\n",
            "\u001b[31mERROR: tensorflow-data-validation 0.21.5 has requirement pandas<1,>=0.24, but you'll have pandas 1.1.5 which is incompatible.\u001b[0m\n",
            "You can safely ignore the package incompatibility errors.\n"
          ],
          "name": "stdout"
        }
      ]
    },
    {
      "cell_type": "markdown",
      "metadata": {
        "id": "5SQsOaS8hcNw"
      },
      "source": [
        "## Datasets"
      ]
    },
    {
      "cell_type": "code",
      "metadata": {
        "id": "34cRrydrhcNx",
        "colab": {
          "base_uri": "https://localhost:8080/"
        },
        "outputId": "4c429c4f-a188-4230-d83a-21f4688007bd"
      },
      "source": [
        "X = tf.range(10)\n",
        "dataset = tf.data.Dataset.from_tensor_slices(X)\n",
        "dataset\n",
        "X"
      ],
      "execution_count": null,
      "outputs": [
        {
          "output_type": "execute_result",
          "data": {
            "text/plain": [
              "<tf.Tensor: shape=(10,), dtype=int32, numpy=array([0, 1, 2, 3, 4, 5, 6, 7, 8, 9], dtype=int32)>"
            ]
          },
          "metadata": {
            "tags": []
          },
          "execution_count": 2
        }
      ]
    },
    {
      "cell_type": "markdown",
      "metadata": {
        "id": "0WOId9wqhcN1"
      },
      "source": [
        "Equivalently:"
      ]
    },
    {
      "cell_type": "code",
      "metadata": {
        "id": "Niyb18uyhcN1"
      },
      "source": [
        "dataset = tf.data.Dataset.range(10)"
      ],
      "execution_count": null,
      "outputs": []
    },
    {
      "cell_type": "code",
      "metadata": {
        "id": "DPZUM_NrhcN4",
        "colab": {
          "base_uri": "https://localhost:8080/"
        },
        "outputId": "32f2e671-5343-4d5d-deaf-9469e3acc154"
      },
      "source": [
        "for item in dataset:\n",
        "    print(item)"
      ],
      "execution_count": null,
      "outputs": [
        {
          "output_type": "stream",
          "text": [
            "tf.Tensor(0, shape=(), dtype=int64)\n",
            "tf.Tensor(1, shape=(), dtype=int64)\n",
            "tf.Tensor(2, shape=(), dtype=int64)\n",
            "tf.Tensor(3, shape=(), dtype=int64)\n",
            "tf.Tensor(4, shape=(), dtype=int64)\n",
            "tf.Tensor(5, shape=(), dtype=int64)\n",
            "tf.Tensor(6, shape=(), dtype=int64)\n",
            "tf.Tensor(7, shape=(), dtype=int64)\n",
            "tf.Tensor(8, shape=(), dtype=int64)\n",
            "tf.Tensor(9, shape=(), dtype=int64)\n"
          ],
          "name": "stdout"
        }
      ]
    },
    {
      "cell_type": "code",
      "metadata": {
        "tags": [
          "raises-exception"
        ],
        "id": "rkjQdhaMhcN-",
        "colab": {
          "base_uri": "https://localhost:8080/"
        },
        "outputId": "dd43bec6-eb8c-474f-eeee-40794ae34c52"
      },
      "source": [
        "dataset = dataset.repeat(3).batch(7)\n",
        "for item in dataset:\n",
        "    print(item)"
      ],
      "execution_count": null,
      "outputs": [
        {
          "output_type": "stream",
          "text": [
            "tf.Tensor([0 1 2 3 4 5 6], shape=(7,), dtype=int64)\n",
            "tf.Tensor([7 8 9 0 1 2 3], shape=(7,), dtype=int64)\n",
            "tf.Tensor([4 5 6 7 8 9 0], shape=(7,), dtype=int64)\n",
            "tf.Tensor([1 2 3 4 5 6 7], shape=(7,), dtype=int64)\n",
            "tf.Tensor([8 9], shape=(2,), dtype=int64)\n"
          ],
          "name": "stdout"
        }
      ]
    },
    {
      "cell_type": "code",
      "metadata": {
        "id": "Q6VgZiRShcOB"
      },
      "source": [
        "dataset = dataset.map(lambda x: x * 2) # Items: [0,2,4,6,8,10,12]"
      ],
      "execution_count": null,
      "outputs": []
    },
    {
      "cell_type": "code",
      "metadata": {
        "id": "AFwJ7vIshcOD",
        "colab": {
          "base_uri": "https://localhost:8080/"
        },
        "outputId": "0e53632a-5909-42c7-a673-b67cc0aa61bc"
      },
      "source": [
        "for item in dataset:\n",
        "    print(item)"
      ],
      "execution_count": null,
      "outputs": [
        {
          "output_type": "stream",
          "text": [
            "tf.Tensor([ 0  2  4  6  8 10 12], shape=(7,), dtype=int64)\n",
            "tf.Tensor([14 16 18  0  2  4  6], shape=(7,), dtype=int64)\n",
            "tf.Tensor([ 8 10 12 14 16 18  0], shape=(7,), dtype=int64)\n",
            "tf.Tensor([ 2  4  6  8 10 12 14], shape=(7,), dtype=int64)\n",
            "tf.Tensor([16 18], shape=(2,), dtype=int64)\n"
          ],
          "name": "stdout"
        }
      ]
    },
    {
      "cell_type": "code",
      "metadata": {
        "id": "IjSaCh2ahcOG"
      },
      "source": [
        "dataset = dataset.unbatch() # Unbatch the dataset into individual single-integer tensor instead of a batch of seven integers"
      ],
      "execution_count": null,
      "outputs": []
    },
    {
      "cell_type": "code",
      "metadata": {
        "id": "g0A1seeWhcOI"
      },
      "source": [
        "dataset = dataset.filter(lambda x: x < 10)  # Items: [0,2,4,6,8,0,2,4,6]"
      ],
      "execution_count": null,
      "outputs": []
    },
    {
      "cell_type": "code",
      "metadata": {
        "id": "1c9rH2mGhcOM",
        "colab": {
          "base_uri": "https://localhost:8080/"
        },
        "outputId": "7629fe59-1b44-4813-a75d-7add3916731f"
      },
      "source": [
        "for item in dataset.take(10):\n",
        "    print(item)"
      ],
      "execution_count": null,
      "outputs": [
        {
          "output_type": "stream",
          "text": [
            "tf.Tensor(0, shape=(), dtype=int64)\n",
            "tf.Tensor(2, shape=(), dtype=int64)\n",
            "tf.Tensor(4, shape=(), dtype=int64)\n",
            "tf.Tensor(6, shape=(), dtype=int64)\n",
            "tf.Tensor(8, shape=(), dtype=int64)\n",
            "tf.Tensor(0, shape=(), dtype=int64)\n",
            "tf.Tensor(2, shape=(), dtype=int64)\n",
            "tf.Tensor(4, shape=(), dtype=int64)\n",
            "tf.Tensor(6, shape=(), dtype=int64)\n",
            "tf.Tensor(8, shape=(), dtype=int64)\n"
          ],
          "name": "stdout"
        }
      ]
    },
    {
      "cell_type": "code",
      "metadata": {
        "id": "Uvfob93jhcOP",
        "colab": {
          "base_uri": "https://localhost:8080/"
        },
        "outputId": "96cbac1f-2b59-4613-f622-f71a0ac2009a"
      },
      "source": [
        "tf.random.set_seed(42)\n",
        "dataset = tf.data.Dataset.range(10).repeat(3)\n",
        "dataset = dataset.shuffle(buffer_size=3, seed=42).batch(7)\n",
        "for item in dataset:\n",
        "    print(item)"
      ],
      "execution_count": null,
      "outputs": [
        {
          "output_type": "stream",
          "text": [
            "tf.Tensor([1 3 0 4 2 5 6], shape=(7,), dtype=int64)\n",
            "tf.Tensor([8 7 1 0 3 2 5], shape=(7,), dtype=int64)\n",
            "tf.Tensor([4 6 9 8 9 7 0], shape=(7,), dtype=int64)\n",
            "tf.Tensor([3 1 4 5 2 8 7], shape=(7,), dtype=int64)\n",
            "tf.Tensor([6 9], shape=(2,), dtype=int64)\n"
          ],
          "name": "stdout"
        }
      ]
    },
    {
      "cell_type": "markdown",
      "metadata": {
        "id": "c5Pj2n7MhcOV"
      },
      "source": [
        "## Split the California dataset to multiple CSV files"
      ]
    },
    {
      "cell_type": "markdown",
      "metadata": {
        "id": "zeGs0XhdhcOW"
      },
      "source": [
        "Let's start by loading and preparing the California housing dataset. We first load it, then split it into a training set, a validation set and a test set, and finally we scale it:"
      ]
    },
    {
      "cell_type": "code",
      "metadata": {
        "id": "98rmsPURhcOW",
        "colab": {
          "base_uri": "https://localhost:8080/"
        },
        "outputId": "217417a4-4e06-48b3-e96e-03dffd027938"
      },
      "source": [
        "from sklearn.datasets import fetch_california_housing\n",
        "from sklearn.model_selection import train_test_split\n",
        "from sklearn.preprocessing import StandardScaler\n",
        "\n",
        "housing = fetch_california_housing()\n",
        "X_train_full, X_test, y_train_full, y_test = train_test_split(\n",
        "    housing.data, housing.target.reshape(-1, 1), random_state=42)\n",
        "X_train, X_valid, y_train, y_valid = train_test_split(\n",
        "    X_train_full, y_train_full, random_state=42)\n",
        "\n",
        "scaler = StandardScaler()\n",
        "scaler.fit(X_train)\n",
        "X_mean = scaler.mean_\n",
        "X_std = scaler.scale_\n",
        "X_train.shape"
      ],
      "execution_count": null,
      "outputs": [
        {
          "output_type": "stream",
          "text": [
            "Downloading Cal. housing from https://ndownloader.figshare.com/files/5976036 to /root/scikit_learn_data\n",
            "/usr/local/lib/python3.7/dist-packages/sklearn/utils/deprecation.py:87: FutureWarning: Function safe_indexing is deprecated; safe_indexing is deprecated in version 0.22 and will be removed in version 0.24.\n",
            "  \n"
          ],
          "name": "stderr"
        },
        {
          "output_type": "execute_result",
          "data": {
            "text/plain": [
              "(11610, 8)"
            ]
          },
          "metadata": {
            "tags": []
          },
          "execution_count": 13
        }
      ]
    },
    {
      "cell_type": "markdown",
      "metadata": {
        "id": "HO7-yM94hcOY"
      },
      "source": [
        "For a very large dataset that does not fit in memory, you will typically want to split it into many files first, then have TensorFlow read these files in parallel. To demonstrate this, let's start by splitting the housing dataset and save it to 20 CSV files:"
      ]
    },
    {
      "cell_type": "code",
      "metadata": {
        "id": "ihhqLXHrhcOZ"
      },
      "source": [
        "def save_to_multiple_csv_files(data, name_prefix, header=None, n_parts=10):\n",
        "    housing_dir = os.path.join(\"datasets\", \"housing\")\n",
        "    os.makedirs(housing_dir, exist_ok=True)\n",
        "    path_format = os.path.join(housing_dir, \"my_{}_{:02d}.csv\")\n",
        "\n",
        "    filepaths = []\n",
        "    m = len(data)\n",
        "    for file_idx, row_indices in enumerate(np.array_split(np.arange(m), n_parts)):\n",
        "        part_csv = path_format.format(name_prefix, file_idx)\n",
        "        filepaths.append(part_csv)\n",
        "        with open(part_csv, \"wt\", encoding=\"utf-8\") as f:\n",
        "            if header is not None:\n",
        "                f.write(header)\n",
        "                f.write(\"\\n\")\n",
        "            for row_idx in row_indices:\n",
        "                f.write(\",\".join([repr(col) for col in data[row_idx]]))\n",
        "                f.write(\"\\n\")\n",
        "    return filepaths"
      ],
      "execution_count": null,
      "outputs": []
    },
    {
      "cell_type": "code",
      "metadata": {
        "id": "BoWoqbIfhcOc"
      },
      "source": [
        "train_data = np.c_[X_train, y_train]\n",
        "valid_data = np.c_[X_valid, y_valid]\n",
        "test_data = np.c_[X_test, y_test]\n",
        "header_cols = housing.feature_names + [\"MedianHouseValue\"]\n",
        "header = \",\".join(header_cols)\n",
        "\n",
        "train_filepaths = save_to_multiple_csv_files(train_data, \"train\", header, n_parts=20)\n",
        "valid_filepaths = save_to_multiple_csv_files(valid_data, \"valid\", header, n_parts=10)\n",
        "test_filepaths = save_to_multiple_csv_files(test_data, \"test\", header, n_parts=10)\n",
        "\n",
        "# train_data.shape"
      ],
      "execution_count": null,
      "outputs": []
    },
    {
      "cell_type": "markdown",
      "metadata": {
        "id": "0aHMe9YxhcOe"
      },
      "source": [
        "Okay, now let's take a peek at the first few lines of one of these CSV files:"
      ]
    },
    {
      "cell_type": "code",
      "metadata": {
        "id": "NBKnsDLQhcOe",
        "colab": {
          "base_uri": "https://localhost:8080/",
          "height": 666
        },
        "outputId": "8ed7ba01-4ff8-4a9f-d1cd-3d8e69d6fdf7"
      },
      "source": [
        "import pandas as pd\n",
        "\n",
        "pd.read_csv(train_filepaths[0]).head(20)"
      ],
      "execution_count": null,
      "outputs": [
        {
          "output_type": "execute_result",
          "data": {
            "text/html": [
              "<div>\n",
              "<style scoped>\n",
              "    .dataframe tbody tr th:only-of-type {\n",
              "        vertical-align: middle;\n",
              "    }\n",
              "\n",
              "    .dataframe tbody tr th {\n",
              "        vertical-align: top;\n",
              "    }\n",
              "\n",
              "    .dataframe thead th {\n",
              "        text-align: right;\n",
              "    }\n",
              "</style>\n",
              "<table border=\"1\" class=\"dataframe\">\n",
              "  <thead>\n",
              "    <tr style=\"text-align: right;\">\n",
              "      <th></th>\n",
              "      <th>MedInc</th>\n",
              "      <th>HouseAge</th>\n",
              "      <th>AveRooms</th>\n",
              "      <th>AveBedrms</th>\n",
              "      <th>Population</th>\n",
              "      <th>AveOccup</th>\n",
              "      <th>Latitude</th>\n",
              "      <th>Longitude</th>\n",
              "      <th>MedianHouseValue</th>\n",
              "    </tr>\n",
              "  </thead>\n",
              "  <tbody>\n",
              "    <tr>\n",
              "      <th>0</th>\n",
              "      <td>3.5214</td>\n",
              "      <td>15.0</td>\n",
              "      <td>3.049945</td>\n",
              "      <td>1.106548</td>\n",
              "      <td>1447.0</td>\n",
              "      <td>1.605993</td>\n",
              "      <td>37.63</td>\n",
              "      <td>-122.43</td>\n",
              "      <td>1.44200</td>\n",
              "    </tr>\n",
              "    <tr>\n",
              "      <th>1</th>\n",
              "      <td>5.3275</td>\n",
              "      <td>5.0</td>\n",
              "      <td>6.490060</td>\n",
              "      <td>0.991054</td>\n",
              "      <td>3464.0</td>\n",
              "      <td>3.443340</td>\n",
              "      <td>33.69</td>\n",
              "      <td>-117.39</td>\n",
              "      <td>1.68700</td>\n",
              "    </tr>\n",
              "    <tr>\n",
              "      <th>2</th>\n",
              "      <td>3.1000</td>\n",
              "      <td>29.0</td>\n",
              "      <td>7.542373</td>\n",
              "      <td>1.591525</td>\n",
              "      <td>1328.0</td>\n",
              "      <td>2.250847</td>\n",
              "      <td>38.44</td>\n",
              "      <td>-122.98</td>\n",
              "      <td>1.62100</td>\n",
              "    </tr>\n",
              "    <tr>\n",
              "      <th>3</th>\n",
              "      <td>7.1736</td>\n",
              "      <td>12.0</td>\n",
              "      <td>6.289003</td>\n",
              "      <td>0.997442</td>\n",
              "      <td>1054.0</td>\n",
              "      <td>2.695652</td>\n",
              "      <td>33.55</td>\n",
              "      <td>-117.70</td>\n",
              "      <td>2.62100</td>\n",
              "    </tr>\n",
              "    <tr>\n",
              "      <th>4</th>\n",
              "      <td>2.0549</td>\n",
              "      <td>13.0</td>\n",
              "      <td>5.312457</td>\n",
              "      <td>1.085092</td>\n",
              "      <td>3297.0</td>\n",
              "      <td>2.244384</td>\n",
              "      <td>33.93</td>\n",
              "      <td>-116.93</td>\n",
              "      <td>0.95600</td>\n",
              "    </tr>\n",
              "    <tr>\n",
              "      <th>5</th>\n",
              "      <td>2.9583</td>\n",
              "      <td>50.0</td>\n",
              "      <td>5.380282</td>\n",
              "      <td>1.117371</td>\n",
              "      <td>579.0</td>\n",
              "      <td>2.718310</td>\n",
              "      <td>33.98</td>\n",
              "      <td>-118.06</td>\n",
              "      <td>1.72600</td>\n",
              "    </tr>\n",
              "    <tr>\n",
              "      <th>6</th>\n",
              "      <td>3.5200</td>\n",
              "      <td>23.0</td>\n",
              "      <td>4.698217</td>\n",
              "      <td>1.034294</td>\n",
              "      <td>2202.0</td>\n",
              "      <td>3.020576</td>\n",
              "      <td>34.14</td>\n",
              "      <td>-118.01</td>\n",
              "      <td>1.87300</td>\n",
              "    </tr>\n",
              "    <tr>\n",
              "      <th>7</th>\n",
              "      <td>2.7188</td>\n",
              "      <td>32.0</td>\n",
              "      <td>5.511628</td>\n",
              "      <td>1.067829</td>\n",
              "      <td>1337.0</td>\n",
              "      <td>2.591085</td>\n",
              "      <td>34.94</td>\n",
              "      <td>-120.42</td>\n",
              "      <td>1.33700</td>\n",
              "    </tr>\n",
              "    <tr>\n",
              "      <th>8</th>\n",
              "      <td>2.6563</td>\n",
              "      <td>26.0</td>\n",
              "      <td>4.294893</td>\n",
              "      <td>1.123558</td>\n",
              "      <td>1401.0</td>\n",
              "      <td>2.308072</td>\n",
              "      <td>37.68</td>\n",
              "      <td>-122.08</td>\n",
              "      <td>1.84100</td>\n",
              "    </tr>\n",
              "    <tr>\n",
              "      <th>9</th>\n",
              "      <td>1.6944</td>\n",
              "      <td>11.0</td>\n",
              "      <td>21.372093</td>\n",
              "      <td>4.627907</td>\n",
              "      <td>69.0</td>\n",
              "      <td>1.604651</td>\n",
              "      <td>40.19</td>\n",
              "      <td>-121.08</td>\n",
              "      <td>1.37500</td>\n",
              "    </tr>\n",
              "    <tr>\n",
              "      <th>10</th>\n",
              "      <td>3.4138</td>\n",
              "      <td>14.0</td>\n",
              "      <td>6.012030</td>\n",
              "      <td>1.069173</td>\n",
              "      <td>1509.0</td>\n",
              "      <td>2.269173</td>\n",
              "      <td>34.13</td>\n",
              "      <td>-117.20</td>\n",
              "      <td>1.26700</td>\n",
              "    </tr>\n",
              "    <tr>\n",
              "      <th>11</th>\n",
              "      <td>4.2083</td>\n",
              "      <td>44.0</td>\n",
              "      <td>4.924051</td>\n",
              "      <td>1.000000</td>\n",
              "      <td>733.0</td>\n",
              "      <td>3.092827</td>\n",
              "      <td>33.90</td>\n",
              "      <td>-118.08</td>\n",
              "      <td>1.68300</td>\n",
              "    </tr>\n",
              "    <tr>\n",
              "      <th>12</th>\n",
              "      <td>5.8269</td>\n",
              "      <td>16.0</td>\n",
              "      <td>7.136986</td>\n",
              "      <td>1.000000</td>\n",
              "      <td>1099.0</td>\n",
              "      <td>3.763699</td>\n",
              "      <td>38.35</td>\n",
              "      <td>-121.95</td>\n",
              "      <td>1.50200</td>\n",
              "    </tr>\n",
              "    <tr>\n",
              "      <th>13</th>\n",
              "      <td>5.8792</td>\n",
              "      <td>17.0</td>\n",
              "      <td>5.510319</td>\n",
              "      <td>1.046904</td>\n",
              "      <td>1662.0</td>\n",
              "      <td>3.118199</td>\n",
              "      <td>37.40</td>\n",
              "      <td>-121.97</td>\n",
              "      <td>2.55500</td>\n",
              "    </tr>\n",
              "    <tr>\n",
              "      <th>14</th>\n",
              "      <td>5.6573</td>\n",
              "      <td>19.0</td>\n",
              "      <td>6.713080</td>\n",
              "      <td>1.177215</td>\n",
              "      <td>891.0</td>\n",
              "      <td>3.759494</td>\n",
              "      <td>33.87</td>\n",
              "      <td>-117.86</td>\n",
              "      <td>2.16000</td>\n",
              "    </tr>\n",
              "    <tr>\n",
              "      <th>15</th>\n",
              "      <td>3.6875</td>\n",
              "      <td>18.0</td>\n",
              "      <td>5.100000</td>\n",
              "      <td>1.231405</td>\n",
              "      <td>2164.0</td>\n",
              "      <td>1.788430</td>\n",
              "      <td>34.17</td>\n",
              "      <td>-119.23</td>\n",
              "      <td>5.00001</td>\n",
              "    </tr>\n",
              "    <tr>\n",
              "      <th>16</th>\n",
              "      <td>3.7583</td>\n",
              "      <td>37.0</td>\n",
              "      <td>5.661098</td>\n",
              "      <td>1.059666</td>\n",
              "      <td>1056.0</td>\n",
              "      <td>2.520286</td>\n",
              "      <td>32.63</td>\n",
              "      <td>-117.07</td>\n",
              "      <td>1.45500</td>\n",
              "    </tr>\n",
              "    <tr>\n",
              "      <th>17</th>\n",
              "      <td>2.3068</td>\n",
              "      <td>23.0</td>\n",
              "      <td>3.485057</td>\n",
              "      <td>1.050575</td>\n",
              "      <td>1977.0</td>\n",
              "      <td>4.544828</td>\n",
              "      <td>33.97</td>\n",
              "      <td>-118.16</td>\n",
              "      <td>1.57800</td>\n",
              "    </tr>\n",
              "    <tr>\n",
              "      <th>18</th>\n",
              "      <td>3.2417</td>\n",
              "      <td>28.0</td>\n",
              "      <td>4.698718</td>\n",
              "      <td>1.184295</td>\n",
              "      <td>1198.0</td>\n",
              "      <td>1.919872</td>\n",
              "      <td>37.67</td>\n",
              "      <td>-122.07</td>\n",
              "      <td>2.10800</td>\n",
              "    </tr>\n",
              "    <tr>\n",
              "      <th>19</th>\n",
              "      <td>2.8203</td>\n",
              "      <td>27.0</td>\n",
              "      <td>4.148265</td>\n",
              "      <td>1.138801</td>\n",
              "      <td>1414.0</td>\n",
              "      <td>2.230284</td>\n",
              "      <td>37.65</td>\n",
              "      <td>-122.09</td>\n",
              "      <td>1.95200</td>\n",
              "    </tr>\n",
              "  </tbody>\n",
              "</table>\n",
              "</div>"
            ],
            "text/plain": [
              "    MedInc  HouseAge   AveRooms  ...  Latitude  Longitude  MedianHouseValue\n",
              "0   3.5214      15.0   3.049945  ...     37.63    -122.43           1.44200\n",
              "1   5.3275       5.0   6.490060  ...     33.69    -117.39           1.68700\n",
              "2   3.1000      29.0   7.542373  ...     38.44    -122.98           1.62100\n",
              "3   7.1736      12.0   6.289003  ...     33.55    -117.70           2.62100\n",
              "4   2.0549      13.0   5.312457  ...     33.93    -116.93           0.95600\n",
              "5   2.9583      50.0   5.380282  ...     33.98    -118.06           1.72600\n",
              "6   3.5200      23.0   4.698217  ...     34.14    -118.01           1.87300\n",
              "7   2.7188      32.0   5.511628  ...     34.94    -120.42           1.33700\n",
              "8   2.6563      26.0   4.294893  ...     37.68    -122.08           1.84100\n",
              "9   1.6944      11.0  21.372093  ...     40.19    -121.08           1.37500\n",
              "10  3.4138      14.0   6.012030  ...     34.13    -117.20           1.26700\n",
              "11  4.2083      44.0   4.924051  ...     33.90    -118.08           1.68300\n",
              "12  5.8269      16.0   7.136986  ...     38.35    -121.95           1.50200\n",
              "13  5.8792      17.0   5.510319  ...     37.40    -121.97           2.55500\n",
              "14  5.6573      19.0   6.713080  ...     33.87    -117.86           2.16000\n",
              "15  3.6875      18.0   5.100000  ...     34.17    -119.23           5.00001\n",
              "16  3.7583      37.0   5.661098  ...     32.63    -117.07           1.45500\n",
              "17  2.3068      23.0   3.485057  ...     33.97    -118.16           1.57800\n",
              "18  3.2417      28.0   4.698718  ...     37.67    -122.07           2.10800\n",
              "19  2.8203      27.0   4.148265  ...     37.65    -122.09           1.95200\n",
              "\n",
              "[20 rows x 9 columns]"
            ]
          },
          "metadata": {
            "tags": []
          },
          "execution_count": 65
        }
      ]
    },
    {
      "cell_type": "markdown",
      "metadata": {
        "id": "VzYxwVdghcOh"
      },
      "source": [
        "Or in text mode:"
      ]
    },
    {
      "cell_type": "code",
      "metadata": {
        "id": "d5QvUvk0hcOi",
        "colab": {
          "base_uri": "https://localhost:8080/",
          "height": 103
        },
        "outputId": "1f492673-59c2-45fc-b909-9cc65b4cb42f"
      },
      "source": [
        "with open(train_filepaths[0]) as f:\n",
        "    for i in range(5):\n",
        "        print(f.readline(), end=\"\")"
      ],
      "execution_count": null,
      "outputs": [
        {
          "output_type": "stream",
          "text": [
            "MedInc,HouseAge,AveRooms,AveBedrms,Population,AveOccup,Latitude,Longitude,MedianHouseValue\n",
            "3.5214,15.0,3.0499445061043287,1.106548279689234,1447.0,1.6059933407325193,37.63,-122.43,1.442\n",
            "5.3275,5.0,6.490059642147117,0.9910536779324056,3464.0,3.4433399602385686,33.69,-117.39,1.687\n",
            "3.1,29.0,7.5423728813559325,1.5915254237288134,1328.0,2.2508474576271187,38.44,-122.98,1.621\n",
            "7.1736,12.0,6.289002557544757,0.9974424552429667,1054.0,2.6956521739130435,33.55,-117.7,2.621\n"
          ],
          "name": "stdout"
        }
      ]
    },
    {
      "cell_type": "code",
      "metadata": {
        "id": "xoES8oqghcOl",
        "colab": {
          "base_uri": "https://localhost:8080/",
          "height": 360
        },
        "outputId": "c058be16-e9a6-4e99-a91e-c67a1a5aee6a"
      },
      "source": [
        "train_filepaths"
      ],
      "execution_count": null,
      "outputs": [
        {
          "output_type": "execute_result",
          "data": {
            "text/plain": [
              "['datasets/housing/my_train_00.csv',\n",
              " 'datasets/housing/my_train_01.csv',\n",
              " 'datasets/housing/my_train_02.csv',\n",
              " 'datasets/housing/my_train_03.csv',\n",
              " 'datasets/housing/my_train_04.csv',\n",
              " 'datasets/housing/my_train_05.csv',\n",
              " 'datasets/housing/my_train_06.csv',\n",
              " 'datasets/housing/my_train_07.csv',\n",
              " 'datasets/housing/my_train_08.csv',\n",
              " 'datasets/housing/my_train_09.csv',\n",
              " 'datasets/housing/my_train_10.csv',\n",
              " 'datasets/housing/my_train_11.csv',\n",
              " 'datasets/housing/my_train_12.csv',\n",
              " 'datasets/housing/my_train_13.csv',\n",
              " 'datasets/housing/my_train_14.csv',\n",
              " 'datasets/housing/my_train_15.csv',\n",
              " 'datasets/housing/my_train_16.csv',\n",
              " 'datasets/housing/my_train_17.csv',\n",
              " 'datasets/housing/my_train_18.csv',\n",
              " 'datasets/housing/my_train_19.csv']"
            ]
          },
          "metadata": {
            "tags": []
          },
          "execution_count": 32
        }
      ]
    },
    {
      "cell_type": "markdown",
      "metadata": {
        "id": "tL5VpTL8hcOn"
      },
      "source": [
        "## Building an Input Pipeline"
      ]
    },
    {
      "cell_type": "code",
      "metadata": {
        "id": "mVUABCrKhcOn"
      },
      "source": [
        "filepath_dataset = tf.data.Dataset.list_files(train_filepaths, seed=42)"
      ],
      "execution_count": null,
      "outputs": []
    },
    {
      "cell_type": "code",
      "metadata": {
        "id": "3FKRXpZShcOp",
        "colab": {
          "base_uri": "https://localhost:8080/",
          "height": 360
        },
        "outputId": "651d8e92-882d-4968-ce66-0b0eda3eaa56"
      },
      "source": [
        "for filepath in filepath_dataset:\n",
        "    print(filepath)"
      ],
      "execution_count": null,
      "outputs": [
        {
          "output_type": "stream",
          "text": [
            "tf.Tensor(b'datasets/housing/my_train_15.csv', shape=(), dtype=string)\n",
            "tf.Tensor(b'datasets/housing/my_train_08.csv', shape=(), dtype=string)\n",
            "tf.Tensor(b'datasets/housing/my_train_03.csv', shape=(), dtype=string)\n",
            "tf.Tensor(b'datasets/housing/my_train_01.csv', shape=(), dtype=string)\n",
            "tf.Tensor(b'datasets/housing/my_train_10.csv', shape=(), dtype=string)\n",
            "tf.Tensor(b'datasets/housing/my_train_05.csv', shape=(), dtype=string)\n",
            "tf.Tensor(b'datasets/housing/my_train_19.csv', shape=(), dtype=string)\n",
            "tf.Tensor(b'datasets/housing/my_train_16.csv', shape=(), dtype=string)\n",
            "tf.Tensor(b'datasets/housing/my_train_02.csv', shape=(), dtype=string)\n",
            "tf.Tensor(b'datasets/housing/my_train_09.csv', shape=(), dtype=string)\n",
            "tf.Tensor(b'datasets/housing/my_train_00.csv', shape=(), dtype=string)\n",
            "tf.Tensor(b'datasets/housing/my_train_07.csv', shape=(), dtype=string)\n",
            "tf.Tensor(b'datasets/housing/my_train_12.csv', shape=(), dtype=string)\n",
            "tf.Tensor(b'datasets/housing/my_train_04.csv', shape=(), dtype=string)\n",
            "tf.Tensor(b'datasets/housing/my_train_17.csv', shape=(), dtype=string)\n",
            "tf.Tensor(b'datasets/housing/my_train_11.csv', shape=(), dtype=string)\n",
            "tf.Tensor(b'datasets/housing/my_train_14.csv', shape=(), dtype=string)\n",
            "tf.Tensor(b'datasets/housing/my_train_18.csv', shape=(), dtype=string)\n",
            "tf.Tensor(b'datasets/housing/my_train_06.csv', shape=(), dtype=string)\n",
            "tf.Tensor(b'datasets/housing/my_train_13.csv', shape=(), dtype=string)\n"
          ],
          "name": "stdout"
        }
      ]
    },
    {
      "cell_type": "code",
      "metadata": {
        "id": "UsbpGoJwhcOs"
      },
      "source": [
        "n_readers = 5\n",
        "dataset = filepath_dataset.interleave(\n",
        "    lambda filepath: tf.data.TextLineDataset(filepath).skip(1),\n",
        "    cycle_length=n_readers)"
      ],
      "execution_count": null,
      "outputs": []
    },
    {
      "cell_type": "code",
      "metadata": {
        "id": "8Brlk21qhcOu",
        "colab": {
          "base_uri": "https://localhost:8080/",
          "height": 103
        },
        "outputId": "8c226e80-d772-4ddd-c5f0-f42f289997f9"
      },
      "source": [
        "for line in dataset.take(5):\n",
        "    print(line.numpy())"
      ],
      "execution_count": null,
      "outputs": [
        {
          "output_type": "stream",
          "text": [
            "b'4.6477,38.0,5.03728813559322,0.911864406779661,745.0,2.5254237288135593,32.64,-117.07,1.504'\n",
            "b'8.72,44.0,6.163179916317992,1.0460251046025104,668.0,2.794979079497908,34.2,-118.18,4.159'\n",
            "b'3.8456,35.0,5.461346633416459,0.9576059850374065,1154.0,2.8778054862842892,37.96,-122.05,1.598'\n",
            "b'3.3456,37.0,4.514084507042254,0.9084507042253521,458.0,3.2253521126760565,36.67,-121.7,2.526'\n",
            "b'3.6875,44.0,4.524475524475524,0.993006993006993,457.0,3.195804195804196,34.04,-118.15,1.625'\n"
          ],
          "name": "stdout"
        }
      ]
    },
    {
      "cell_type": "markdown",
      "metadata": {
        "id": "146K5LhDhcOw"
      },
      "source": [
        "Notice that field 4 is interpreted as a string."
      ]
    },
    {
      "cell_type": "code",
      "metadata": {
        "id": "svbNaoXYhcOx",
        "colab": {
          "base_uri": "https://localhost:8080/",
          "height": 103
        },
        "outputId": "6e20055a-24bd-434a-bbdf-e6ebded1c6d2"
      },
      "source": [
        "record_defaults=[0, np.nan, tf.constant(np.nan, dtype=tf.float64), \"Hello\", tf.constant([])]\n",
        "parsed_fields = tf.io.decode_csv('1,2,3,4,5', record_defaults)\n",
        "parsed_fields"
      ],
      "execution_count": null,
      "outputs": [
        {
          "output_type": "execute_result",
          "data": {
            "text/plain": [
              "[<tf.Tensor: shape=(), dtype=int32, numpy=1>,\n",
              " <tf.Tensor: shape=(), dtype=float32, numpy=2.0>,\n",
              " <tf.Tensor: shape=(), dtype=float64, numpy=3.0>,\n",
              " <tf.Tensor: shape=(), dtype=string, numpy=b'4'>,\n",
              " <tf.Tensor: shape=(), dtype=float32, numpy=5.0>]"
            ]
          },
          "metadata": {
            "tags": []
          },
          "execution_count": 18
        }
      ]
    },
    {
      "cell_type": "markdown",
      "metadata": {
        "id": "1xcl0q7ghcOy"
      },
      "source": [
        "Notice that all missing fields are replaced with their default value, when provided:"
      ]
    },
    {
      "cell_type": "code",
      "metadata": {
        "id": "WP990tpihcOz",
        "colab": {
          "base_uri": "https://localhost:8080/",
          "height": 103
        },
        "outputId": "47a501a3-8ca6-4879-a1c4-8e1249042d00"
      },
      "source": [
        "parsed_fields = tf.io.decode_csv(',,,,5', record_defaults)\n",
        "parsed_fields"
      ],
      "execution_count": null,
      "outputs": [
        {
          "output_type": "execute_result",
          "data": {
            "text/plain": [
              "[<tf.Tensor: shape=(), dtype=int32, numpy=0>,\n",
              " <tf.Tensor: shape=(), dtype=float32, numpy=nan>,\n",
              " <tf.Tensor: shape=(), dtype=float64, numpy=nan>,\n",
              " <tf.Tensor: shape=(), dtype=string, numpy=b'Hello'>,\n",
              " <tf.Tensor: shape=(), dtype=float32, numpy=5.0>]"
            ]
          },
          "metadata": {
            "tags": []
          },
          "execution_count": 71
        }
      ]
    },
    {
      "cell_type": "markdown",
      "metadata": {
        "id": "dUO5q_dUhcO1"
      },
      "source": [
        "The 5th field is compulsory (since we provided `tf.constant([])` as the \"default value\"), so we get an exception if we do not provide it:"
      ]
    },
    {
      "cell_type": "code",
      "metadata": {
        "id": "72xl_qZmhcO1",
        "colab": {
          "base_uri": "https://localhost:8080/",
          "height": 34
        },
        "outputId": "38d97cb2-efe8-40e2-b2a6-c23e53d609d0"
      },
      "source": [
        "try:\n",
        "    parsed_fields = tf.io.decode_csv(',,,,', record_defaults)\n",
        "except tf.errors.InvalidArgumentError as ex:\n",
        "    print(ex)"
      ],
      "execution_count": null,
      "outputs": [
        {
          "output_type": "stream",
          "text": [
            "Field 4 is required but missing in record 0! [Op:DecodeCSV]\n"
          ],
          "name": "stdout"
        }
      ]
    },
    {
      "cell_type": "markdown",
      "metadata": {
        "id": "af2jtSLVhcO3"
      },
      "source": [
        "The number of fields should match exactly the number of fields in the `record_defaults`:"
      ]
    },
    {
      "cell_type": "code",
      "metadata": {
        "id": "YUf4s3O9hcO4",
        "colab": {
          "base_uri": "https://localhost:8080/",
          "height": 34
        },
        "outputId": "a1ea9a5f-151f-4c9d-e96e-c42c9df1ef73"
      },
      "source": [
        "try:\n",
        "    parsed_fields = tf.io.decode_csv('1,2,3,4,5,6,7', record_defaults)\n",
        "except tf.errors.InvalidArgumentError as ex:\n",
        "    print(ex)"
      ],
      "execution_count": null,
      "outputs": [
        {
          "output_type": "stream",
          "text": [
            "Expect 5 fields but have 7 in record 0 [Op:DecodeCSV]\n"
          ],
          "name": "stdout"
        }
      ]
    },
    {
      "cell_type": "code",
      "metadata": {
        "id": "cS0RkLu1hcO6"
      },
      "source": [
        "n_inputs = 8 # X_train.shape[-1]\n",
        "\n",
        "@tf.function\n",
        "def preprocess(line):\n",
        "    defs = [0.] * n_inputs + [tf.constant([], dtype=tf.float32)]\n",
        "    fields = tf.io.decode_csv(line, record_defaults=defs)\n",
        "    x = tf.stack(fields[:-1])\n",
        "    y = tf.stack(fields[-1:])\n",
        "    return (x - X_mean) / X_std, y"
      ],
      "execution_count": null,
      "outputs": []
    },
    {
      "cell_type": "code",
      "metadata": {
        "id": "zd0RLBYWhcO7",
        "colab": {
          "base_uri": "https://localhost:8080/",
          "height": 86
        },
        "outputId": "e88bc7fe-4405-494f-e7d8-8dfb69f737c4"
      },
      "source": [
        "preprocess(b'4.2083,44.0,5.3232,0.9171,846.0,2.3370,37.47,-122.2,2.782')"
      ],
      "execution_count": null,
      "outputs": [
        {
          "output_type": "execute_result",
          "data": {
            "text/plain": [
              "(<tf.Tensor: shape=(8,), dtype=float32, numpy=\n",
              " array([ 0.16579157,  1.216324  , -0.05204565, -0.39215982, -0.5277444 ,\n",
              "        -0.2633488 ,  0.8543046 , -1.3072058 ], dtype=float32)>,\n",
              " <tf.Tensor: shape=(1,), dtype=float32, numpy=array([2.782], dtype=float32)>)"
            ]
          },
          "metadata": {
            "tags": []
          },
          "execution_count": 72
        }
      ]
    },
    {
      "cell_type": "code",
      "metadata": {
        "id": "PChp5Vd0hcO-"
      },
      "source": [
        "def csv_reader_dataset(filepaths, repeat=1, n_readers=5,\n",
        "                       n_read_threads=None, shuffle_buffer_size=10000,\n",
        "                       n_parse_threads=5, batch_size=32):\n",
        "    dataset = tf.data.Dataset.list_files(filepaths).repeat(repeat)\n",
        "    dataset = dataset.interleave(\n",
        "        lambda filepath: tf.data.TextLineDataset(filepath).skip(1),\n",
        "        cycle_length=n_readers, num_parallel_calls=n_read_threads)\n",
        "    dataset = dataset.shuffle(shuffle_buffer_size)\n",
        "    dataset = dataset.map(preprocess, num_parallel_calls=n_parse_threads)\n",
        "    dataset = dataset.batch(batch_size)\n",
        "    return dataset.prefetch(1)"
      ],
      "execution_count": null,
      "outputs": []
    },
    {
      "cell_type": "code",
      "metadata": {
        "id": "wly3MZ0ehcPB",
        "colab": {
          "base_uri": "https://localhost:8080/",
          "height": 1000
        },
        "outputId": "551ab454-3189-4f54-ce67-de78786150fc"
      },
      "source": [
        "tf.random.set_seed(42)\n",
        "\n",
        "train_set = csv_reader_dataset(train_filepaths, batch_size=16)\n",
        "for X_batch, y_batch in train_set.take(3):\n",
        "    print(\"X =\", X_batch)\n",
        "    print(\"y =\", y_batch)\n",
        "    print()"
      ],
      "execution_count": null,
      "outputs": [
        {
          "output_type": "stream",
          "text": [
            "X = tf.Tensor(\n",
            "[[ 0.5804519  -0.20762321  0.05616303 -0.15191229  0.01343246  0.00604472\n",
            "   1.2525111  -1.3671792 ]\n",
            " [ 5.818099    1.8491895   1.1784915   0.28173092 -1.2496178  -0.3571987\n",
            "   0.7231292  -1.0023477 ]\n",
            " [-0.9253566   0.5834586  -0.7807257  -0.28213993 -0.36530012  0.27389365\n",
            "  -0.76194876  0.72684526]\n",
            " [-0.8324941   0.6625668  -0.20741376 -0.18699841 -0.14536144  0.09635526\n",
            "   0.9807942  -0.67250353]\n",
            " [-0.62183803  0.5834586  -0.19862501 -0.3500319  -1.1437552  -0.3363751\n",
            "   1.107282   -0.8674123 ]\n",
            " [ 0.8683102   0.02970133  0.3427381  -0.29872298  0.7124906   0.28026953\n",
            "  -0.72915536  0.86178064]\n",
            " [-1.0344558   1.0581076  -0.8869343  -0.08743899  0.6157541   0.4368748\n",
            "  -0.75726473  0.64688075]\n",
            " [ 0.4675818   0.6625668   0.03120424 -0.02621728 -0.8498953  -0.11217064\n",
            "  -0.860329    0.72684526]\n",
            " [-0.75702035  0.26702586 -0.60196173 -0.07209105  0.28082678  0.36254692\n",
            "  -0.7338394   0.7768212 ]\n",
            " [-0.6998258   1.0581076  -0.06096248 -0.1992738  -0.07052753  0.05529945\n",
            "   0.43267268 -0.00781267]\n",
            " [-1.1393124   0.10880951 -0.43533015 -0.20079458 -0.21928273  0.29451177\n",
            "   0.4186189   0.09713791]\n",
            " [ 1.1547542   0.42524222  0.3780844  -0.15107377 -0.46294922  0.01190154\n",
            "  -0.6588828   0.5469289 ]\n",
            " [ 0.4805185  -0.44494775  0.07415562 -0.06817665 -0.13441013  0.41606656\n",
            "   0.78403205 -1.1073021 ]\n",
            " [ 3.6206136   1.216324    0.01525614 -0.36909655 -1.0342422   0.01741922\n",
            "  -0.7432092   0.5819124 ]\n",
            " [ 0.02002929 -1.3942459   0.39928478  0.09793722  0.0289468  -0.1195894\n",
            "   1.4820668  -0.7274782 ]\n",
            " [ 0.94247437 -0.52405596  0.43731314 -0.13152766  0.8648963  -0.00829403\n",
            "  -0.6495148   0.521939  ]], shape=(16, 8), dtype=float32)\n",
            "y = tf.Tensor(\n",
            "[[1.752  ]\n",
            " [1.313  ]\n",
            " [1.535  ]\n",
            " [0.919  ]\n",
            " [1.028  ]\n",
            " [2.182  ]\n",
            " [1.364  ]\n",
            " [2.314  ]\n",
            " [1.696  ]\n",
            " [0.697  ]\n",
            " [0.591  ]\n",
            " [2.623  ]\n",
            " [2.174  ]\n",
            " [5.00001]\n",
            " [1.634  ]\n",
            " [3.118  ]], shape=(16, 1), dtype=float32)\n",
            "\n",
            "X = tf.Tensor(\n",
            "[[-8.7669933e-01  3.4613404e-01 -1.3144961e-01 -1.5232052e-01\n",
            "   1.0757089e+00  3.3077088e-01  8.0277163e-01 -4.9758589e-01]\n",
            " [ 9.7327155e-01 -2.8673139e-01  6.2506351e+00  7.2227535e+00\n",
            "  -1.1510561e+00 -3.6805713e-01  1.6413497e+00 -2.8268597e-01]\n",
            " [-3.8289887e-01  3.4613404e-01 -1.5951468e-02 -1.3780802e-02\n",
            "  -8.8001138e-01  3.9783448e-01 -7.9942793e-01  7.4183762e-01]\n",
            " [-8.8607466e-01  1.0581076e+00 -8.7670690e-01 -6.4373881e-01\n",
            "  -1.1565318e+00  7.6706611e-02 -8.6032897e-01  7.9681230e-01]\n",
            " [-3.1365788e-01 -1.2851503e-01 -1.5183015e-01 -2.6894178e-02\n",
            "   5.2723110e-01 -2.1276747e-01  4.9825948e-01 -1.0373350e+00]\n",
            " [-6.7437112e-01  1.3745404e+00 -3.7891322e-01 -1.8375682e-02\n",
            "   2.0325504e-01  7.0454814e-02  1.0042177e+00 -1.3172033e+00]\n",
            " [-4.8059504e-02  5.8345860e-01 -2.0667711e-02 -2.4004534e-01\n",
            "  -5.7976311e-01  9.4260521e-02  9.3394518e-01 -1.2472363e+00]\n",
            " [ 9.3158036e-01  5.0435042e-01  2.8284732e-01 -2.0643798e-01\n",
            "  -5.5877310e-01 -3.3638760e-02 -8.1348175e-01  6.0689843e-01]\n",
            " [ 6.2125272e-01  4.2524222e-01  1.2250268e-02 -2.3524402e-01\n",
            "  -1.8734144e-01 -2.3483181e-01  1.0698045e+00 -1.4671310e+00]\n",
            " [-3.9049348e-01 -7.6138049e-01 -1.0549916e+00  4.1706849e-02\n",
            "   5.9750193e-01 -6.5410078e-01  9.9953198e-01 -1.4171551e+00]\n",
            " [-4.5570153e-01 -1.5524622e+00 -1.7629217e-01 -6.1205063e-02\n",
            "   1.6798557e+00 -1.6000761e-01  9.5736879e-01 -7.2747821e-01]\n",
            " [ 4.7287172e-01 -3.6583957e-01  3.3536074e-01 -1.3492523e-01\n",
            "   3.1956987e+00  2.7557796e-02 -8.5564494e-01  8.7177807e-01]\n",
            " [ 2.1956739e+00 -9.9870503e-01  7.7077931e-01 -3.0086097e-01\n",
            "  -2.2567099e-01  5.6558996e-03  1.0229574e+00 -1.2022552e+00]\n",
            " [-5.0797266e-01 -4.9406853e-02 -5.1069206e-01 -1.2131935e-01\n",
            "  -2.0650621e-01 -3.6404517e-02 -6.7762238e-01  5.7191491e-01]\n",
            " [-6.4231700e-01  1.8491895e+00 -1.7519112e-01  1.0967682e-01\n",
            "  -3.8994053e-01 -2.8907284e-01 -7.4789494e-01  6.2189466e-01]\n",
            " [-6.8191326e-01  1.1372159e+00 -1.1748262e-02 -1.3593252e-01\n",
            "  -4.2827010e-01 -2.0257093e-01  1.3462074e+00 -9.2238694e-01]], shape=(16, 8), dtype=float32)\n",
            "y = tf.Tensor(\n",
            "[[0.675]\n",
            " [1.766]\n",
            " [1.89 ]\n",
            " [1.531]\n",
            " [1.575]\n",
            " [1.247]\n",
            " [1.72 ]\n",
            " [3.037]\n",
            " [3.339]\n",
            " [1.875]\n",
            " [1.609]\n",
            " [2.512]\n",
            " [3.72 ]\n",
            " [2.413]\n",
            " [2.594]\n",
            " [0.721]], shape=(16, 1), dtype=float32)\n",
            "\n",
            "X = tf.Tensor(\n",
            "[[ 0.38802257  0.02970133 -0.26393074 -0.3080495   0.88679886  0.3323833\n",
            "  -0.8415911   0.7868148 ]\n",
            " [ 0.01049678  0.26702586  0.02788688 -0.07756925  0.0499368   0.22069015\n",
            "  -0.7994279   1.0716819 ]\n",
            " [-0.32209048  0.5043504   0.22720592 -0.21880966 -0.12254623 -0.04441655\n",
            "   1.2712507  -1.2022552 ]\n",
            " [ 0.4308139   0.5043504   0.25374886 -0.1476109  -0.7777992  -0.00440968\n",
            "   0.938631   -1.2522311 ]\n",
            " [ 1.5111201  -1.3151377   0.9439028  -0.03043158 -0.77049834 -0.20337008\n",
            "  -1.2210581   1.2665906 ]\n",
            " [ 1.2055589  -1.7897868   0.32153153 -0.18218097 -0.45382315 -0.08813684\n",
            "  -0.00301306  0.9567376 ]\n",
            " [-0.5662671  -0.36583957 -0.22324221 -0.16056907  0.06545115 -0.37677544\n",
            "   1.4071101  -0.8724111 ]\n",
            " [ 0.04977877 -0.91959685 -0.6294757  -0.13760056 -0.75407135 -0.351808\n",
            "  -0.8322213   0.6118972 ]\n",
            " [-0.9948595   1.0581076  -0.9954723  -0.14469253  1.8760666   0.03293947\n",
            "  -0.74789494  0.63188833]\n",
            " [-1.0153909   0.9789995  -0.6388873   0.00516908 -1.0050387   0.1427351\n",
            "   1.0744886  -0.8624136 ]\n",
            " [-1.1503112   1.1372159  -0.25802574  0.07392199  0.13115896  0.15978093\n",
            "  -0.76194876  0.6368871 ]\n",
            " [-0.5434313   0.6625668  -0.57236296 -0.09136798  1.854164    0.6042738\n",
            "   0.48420566 -1.0123452 ]\n",
            " [-0.27065727  0.5834586  -0.20183654 -0.84594226 -1.2733457  -0.53061515\n",
            "  -0.5511328   0.5519238 ]\n",
            " [ 2.0254521  -1.6315705   0.36110815 -0.12916479 -0.4711627  -0.08426774\n",
            "  -0.9259175   0.8867705 ]\n",
            " [ 1.5400841   1.8491895   0.7309439  -0.09615597 -0.5587731  -0.20465012\n",
            "   0.97610843 -1.4371462 ]\n",
            " [-1.087303    0.34613404  0.09205884  0.29536062 -0.9831361   0.26190317\n",
            "  -0.41995922  1.2216134 ]], shape=(16, 8), dtype=float32)\n",
            "y = tf.Tensor(\n",
            "[[1.952]\n",
            " [1.141]\n",
            " [1.176]\n",
            " [1.938]\n",
            " [4.   ]\n",
            " [1.157]\n",
            " [1.832]\n",
            " [2.819]\n",
            " [2.5  ]\n",
            " [0.45 ]\n",
            " [1.152]\n",
            " [1.276]\n",
            " [1.875]\n",
            " [3.429]\n",
            " [3.941]\n",
            " [1.   ]], shape=(16, 1), dtype=float32)\n",
            "\n"
          ],
          "name": "stdout"
        }
      ]
    },
    {
      "cell_type": "code",
      "metadata": {
        "id": "UlswHibJhcPD"
      },
      "source": [
        "train_set = csv_reader_dataset(train_filepaths, repeat=None)\n",
        "valid_set = csv_reader_dataset(valid_filepaths)\n",
        "test_set = csv_reader_dataset(test_filepaths)\n"
      ],
      "execution_count": null,
      "outputs": []
    },
    {
      "cell_type": "code",
      "metadata": {
        "id": "ZITdsa9LhcPG"
      },
      "source": [
        "keras.backend.clear_session()\n",
        "np.random.seed(42)\n",
        "tf.random.set_seed(42)\n",
        "\n",
        "model = keras.models.Sequential([\n",
        "    keras.layers.Dense(30, activation=\"relu\", input_shape=X_train.shape[1:]),\n",
        "    keras.layers.Dense(1),\n",
        "])"
      ],
      "execution_count": null,
      "outputs": []
    },
    {
      "cell_type": "code",
      "metadata": {
        "id": "uO0ABjujhcPI"
      },
      "source": [
        "model.compile(loss=\"mse\", optimizer=keras.optimizers.SGD(lr=1e-3))"
      ],
      "execution_count": null,
      "outputs": []
    },
    {
      "cell_type": "code",
      "metadata": {
        "id": "cCT763H9hcPL",
        "colab": {
          "base_uri": "https://localhost:8080/",
          "height": 394
        },
        "outputId": "2fe2b611-3b11-46f8-e3c6-0b8bc93b9736"
      },
      "source": [
        "batch_size = 32\n",
        "print (len(X_train))\n",
        "model.fit(train_set, steps_per_epoch=len(X_train) // batch_size, epochs=10,\n",
        "          validation_data=valid_set)"
      ],
      "execution_count": null,
      "outputs": [
        {
          "output_type": "stream",
          "text": [
            "11610\n",
            "Epoch 1/10\n",
            "362/362 [==============================] - 1s 3ms/step - loss: 1.4679 - val_loss: 21.5124\n",
            "Epoch 2/10\n",
            "362/362 [==============================] - 1s 3ms/step - loss: 0.8735 - val_loss: 0.6648\n",
            "Epoch 3/10\n",
            "362/362 [==============================] - 1s 2ms/step - loss: 0.6317 - val_loss: 0.6196\n",
            "Epoch 4/10\n",
            "362/362 [==============================] - 1s 3ms/step - loss: 0.5933 - val_loss: 0.5669\n",
            "Epoch 5/10\n",
            "362/362 [==============================] - 1s 2ms/step - loss: 0.5629 - val_loss: 0.5402\n",
            "Epoch 6/10\n",
            "362/362 [==============================] - 1s 2ms/step - loss: 0.5693 - val_loss: 0.5209\n",
            "Epoch 7/10\n",
            "362/362 [==============================] - 1s 3ms/step - loss: 0.5231 - val_loss: 0.6130\n",
            "Epoch 8/10\n",
            "362/362 [==============================] - 1s 2ms/step - loss: 0.5074 - val_loss: 0.4818\n",
            "Epoch 9/10\n",
            "362/362 [==============================] - 1s 2ms/step - loss: 0.4963 - val_loss: 0.4904\n",
            "Epoch 10/10\n",
            "362/362 [==============================] - 1s 3ms/step - loss: 0.5023 - val_loss: 0.4585\n"
          ],
          "name": "stdout"
        },
        {
          "output_type": "execute_result",
          "data": {
            "text/plain": [
              "<tensorflow.python.keras.callbacks.History at 0x7f02252c5d30>"
            ]
          },
          "metadata": {
            "tags": []
          },
          "execution_count": 78
        }
      ]
    },
    {
      "cell_type": "code",
      "metadata": {
        "id": "McU38p2uhcPN",
        "colab": {
          "base_uri": "https://localhost:8080/",
          "height": 51
        },
        "outputId": "541fff2f-4d56-4919-d585-764fdeaf89d5"
      },
      "source": [
        "model.evaluate(test_set, steps=len(X_test) // batch_size)"
      ],
      "execution_count": null,
      "outputs": [
        {
          "output_type": "stream",
          "text": [
            "161/161 [==============================] - 0s 2ms/step - loss: 0.4221\n"
          ],
          "name": "stdout"
        },
        {
          "output_type": "execute_result",
          "data": {
            "text/plain": [
              "0.42207881808280945"
            ]
          },
          "metadata": {
            "tags": []
          },
          "execution_count": 35
        }
      ]
    },
    {
      "cell_type": "code",
      "metadata": {
        "scrolled": true,
        "id": "ZF0shiZghcPQ",
        "colab": {
          "base_uri": "https://localhost:8080/",
          "height": 137
        },
        "outputId": "54a815cf-0f50-49f3-c076-7102c99e7f79"
      },
      "source": [
        "new_set = test_set.map(lambda X, y: X) # we could instead just pass test_set, Keras would ignore the labels\n",
        "X_new = X_test\n",
        "model.predict(new_set, steps=len(X_new) // batch_size)"
      ],
      "execution_count": null,
      "outputs": [
        {
          "output_type": "execute_result",
          "data": {
            "text/plain": [
              "array([[2.265547  ],\n",
              "       [2.2653377 ],\n",
              "       [1.4911745 ],\n",
              "       ...,\n",
              "       [0.52893484],\n",
              "       [3.976914  ],\n",
              "       [0.96556497]], dtype=float32)"
            ]
          },
          "metadata": {
            "tags": []
          },
          "execution_count": 36
        }
      ]
    },
    {
      "cell_type": "code",
      "metadata": {
        "id": "PvF1qPPFhcPV",
        "colab": {
          "base_uri": "https://localhost:8080/",
          "height": 34
        },
        "outputId": "65b682f9-f556-4a33-f0f7-dd1c5c6b11ed"
      },
      "source": [
        "optimizer = keras.optimizers.Nadam(lr=0.01)\n",
        "loss_fn = keras.losses.mean_squared_error\n",
        "\n",
        "n_epochs = 5\n",
        "batch_size = 32\n",
        "n_steps_per_epoch = len(X_train) // batch_size\n",
        "total_steps = n_epochs * n_steps_per_epoch\n",
        "global_step = 0\n",
        "for X_batch, y_batch in train_set.take(total_steps):\n",
        "    global_step += 1\n",
        "    print(\"\\rGlobal step {}/{}\".format(global_step, total_steps), end=\"\")\n",
        "    with tf.GradientTape() as tape:\n",
        "        y_pred = model(X_batch)\n",
        "        main_loss = tf.reduce_mean(loss_fn(y_batch, y_pred))\n",
        "        loss = tf.add_n([main_loss] + model.losses)\n",
        "    gradients = tape.gradient(loss, model.trainable_variables)\n",
        "    optimizer.apply_gradients(zip(gradients, model.trainable_variables))"
      ],
      "execution_count": null,
      "outputs": [
        {
          "output_type": "stream",
          "text": [
            "Global step 1810/1810"
          ],
          "name": "stdout"
        }
      ]
    },
    {
      "cell_type": "code",
      "metadata": {
        "id": "yKb3xqG6hcPX"
      },
      "source": [
        "keras.backend.clear_session()\n",
        "np.random.seed(42)\n",
        "tf.random.set_seed(42)"
      ],
      "execution_count": null,
      "outputs": []
    },
    {
      "cell_type": "code",
      "metadata": {
        "id": "siCerliNhcPZ"
      },
      "source": [
        "optimizer = keras.optimizers.Nadam(lr=0.01)\n",
        "loss_fn = keras.losses.mean_squared_error\n",
        "\n",
        "@tf.function\n",
        "def train(model, n_epochs, batch_size=32,\n",
        "          n_readers=5, n_read_threads=5, shuffle_buffer_size=10000, n_parse_threads=5):\n",
        "    train_set = csv_reader_dataset(train_filepaths, repeat=n_epochs, n_readers=n_readers,\n",
        "                       n_read_threads=n_read_threads, shuffle_buffer_size=shuffle_buffer_size,\n",
        "                       n_parse_threads=n_parse_threads, batch_size=batch_size)\n",
        "    for X_batch, y_batch in train_set:\n",
        "        with tf.GradientTape() as tape:\n",
        "            y_pred = model(X_batch)\n",
        "            main_loss = tf.reduce_mean(loss_fn(y_batch, y_pred))\n",
        "            loss = tf.add_n([main_loss] + model.losses)\n",
        "        gradients = tape.gradient(loss, model.trainable_variables)\n",
        "        optimizer.apply_gradients(zip(gradients, model.trainable_variables))\n",
        "\n",
        "train(model, 5)"
      ],
      "execution_count": null,
      "outputs": []
    },
    {
      "cell_type": "code",
      "metadata": {
        "id": "cff0kwtQhcPb"
      },
      "source": [
        "keras.backend.clear_session()\n",
        "np.random.seed(42)\n",
        "tf.random.set_seed(42)"
      ],
      "execution_count": null,
      "outputs": []
    },
    {
      "cell_type": "code",
      "metadata": {
        "id": "WttQR_AChcPe",
        "colab": {
          "base_uri": "https://localhost:8080/",
          "height": 326
        },
        "outputId": "8b41661f-6a46-47a5-a08d-b8850468ca2d"
      },
      "source": [
        "optimizer = keras.optimizers.Nadam(lr=0.01)\n",
        "loss_fn = keras.losses.mean_squared_error\n",
        "\n",
        "@tf.function\n",
        "def train(model, n_epochs, batch_size=32,\n",
        "          n_readers=5, n_read_threads=5, shuffle_buffer_size=10000, n_parse_threads=5):\n",
        "    train_set = csv_reader_dataset(train_filepaths, repeat=n_epochs, n_readers=n_readers,\n",
        "                       n_read_threads=n_read_threads, shuffle_buffer_size=shuffle_buffer_size,\n",
        "                       n_parse_threads=n_parse_threads, batch_size=batch_size)\n",
        "    n_steps_per_epoch = len(X_train) // batch_size\n",
        "    total_steps = n_epochs * n_steps_per_epoch\n",
        "    global_step = 0\n",
        "    for X_batch, y_batch in train_set.take(total_steps):\n",
        "        global_step += 1\n",
        "        if tf.equal(global_step % 100, 0):\n",
        "            tf.print(\"\\rGlobal step\", global_step, \"/\", total_steps)\n",
        "        with tf.GradientTape() as tape:\n",
        "            y_pred = model(X_batch)\n",
        "            main_loss = tf.reduce_mean(loss_fn(y_batch, y_pred))\n",
        "            loss = tf.add_n([main_loss] + model.losses)\n",
        "        gradients = tape.gradient(loss, model.trainable_variables)\n",
        "        optimizer.apply_gradients(zip(gradients, model.trainable_variables))\n",
        "\n",
        "train(model, 5)"
      ],
      "execution_count": null,
      "outputs": [
        {
          "output_type": "stream",
          "text": [
            "Global step 100 / 1810\n",
            "Global step 200 / 1810\n",
            "Global step 300 / 1810\n",
            "Global step 400 / 1810\n",
            "Global step 500 / 1810\n",
            "Global step 600 / 1810\n",
            "Global step 700 / 1810\n",
            "Global step 800 / 1810\n",
            "Global step 900 / 1810\n",
            "Global step 1000 / 1810\n",
            "Global step 1100 / 1810\n",
            "Global step 1200 / 1810\n",
            "Global step 1300 / 1810\n",
            "Global step 1400 / 1810\n",
            "Global step 1500 / 1810\n",
            "Global step 1600 / 1810\n",
            "Global step 1700 / 1810\n",
            "Global step 1800 / 1810\n"
          ],
          "name": "stdout"
        }
      ]
    },
    {
      "cell_type": "markdown",
      "metadata": {
        "id": "Bpz0rwuzhcPi"
      },
      "source": [
        "Here is a short description of each method in the `Dataset` class:"
      ]
    },
    {
      "cell_type": "code",
      "metadata": {
        "scrolled": true,
        "id": "MzUc0anOhcPi",
        "outputId": "3e97e3ff-9d38-4991-ca11-562cf9688b89"
      },
      "source": [
        "for m in dir(tf.data.Dataset):\n",
        "    if not (m.startswith(\"_\") or m.endswith(\"_\")):\n",
        "        func = getattr(tf.data.Dataset, m)\n",
        "        if hasattr(func, \"__doc__\"):\n",
        "            print(\"● {:21s}{}\".format(m + \"()\", func.__doc__.split(\"\\n\")[0]))"
      ],
      "execution_count": null,
      "outputs": [
        {
          "output_type": "stream",
          "text": [
            "● apply()              Applies a transformation function to this dataset.\n",
            "● as_numpy_iterator()  Returns an iterator which converts all elements of the dataset to numpy.\n",
            "● batch()              Combines consecutive elements of this dataset into batches.\n",
            "● cache()              Caches the elements in this dataset.\n",
            "● concatenate()        Creates a `Dataset` by concatenating the given dataset with this dataset.\n",
            "● element_spec()       The type specification of an element of this dataset.\n",
            "● enumerate()          Enumerates the elements of this dataset.\n",
            "● filter()             Filters this dataset according to `predicate`.\n",
            "● flat_map()           Maps `map_func` across this dataset and flattens the result.\n",
            "● from_generator()     Creates a `Dataset` whose elements are generated by `generator`.\n",
            "● from_tensor_slices() Creates a `Dataset` whose elements are slices of the given tensors.\n",
            "● from_tensors()       Creates a `Dataset` with a single element, comprising the given tensors.\n",
            "● interleave()         Maps `map_func` across this dataset, and interleaves the results.\n",
            "● list_files()         A dataset of all files matching one or more glob patterns.\n",
            "● map()                Maps `map_func` across the elements of this dataset.\n",
            "● options()            Returns the options for this dataset and its inputs.\n",
            "● padded_batch()       Combines consecutive elements of this dataset into padded batches.\n",
            "● prefetch()           Creates a `Dataset` that prefetches elements from this dataset.\n",
            "● range()              Creates a `Dataset` of a step-separated range of values.\n",
            "● reduce()             Reduces the input dataset to a single element.\n",
            "● repeat()             Repeats this dataset so each original value is seen `count` times.\n",
            "● shard()              Creates a `Dataset` that includes only 1/`num_shards` of this dataset.\n",
            "● shuffle()            Randomly shuffles the elements of this dataset.\n",
            "● skip()               Creates a `Dataset` that skips `count` elements from this dataset.\n",
            "● take()               Creates a `Dataset` with at most `count` elements from this dataset.\n",
            "● unbatch()            Splits elements of a dataset into multiple elements.\n",
            "● window()             Combines (nests of) input elements into a dataset of (nests of) windows.\n",
            "● with_options()       Returns a new `tf.data.Dataset` with the given options set.\n",
            "● zip()                Creates a `Dataset` by zipping together the given datasets.\n"
          ],
          "name": "stdout"
        }
      ]
    },
    {
      "cell_type": "markdown",
      "metadata": {
        "id": "u1UyS7UQhcPk"
      },
      "source": [
        "## The `TFRecord` binary format"
      ]
    },
    {
      "cell_type": "markdown",
      "metadata": {
        "id": "0JG2TI_chcPl"
      },
      "source": [
        "A TFRecord file is just a list of binary records. You can create one using a `tf.io.TFRecordWriter`:"
      ]
    },
    {
      "cell_type": "code",
      "metadata": {
        "id": "QFKf_2XghcPl"
      },
      "source": [
        "with tf.io.TFRecordWriter(\"my_data.tfrecord\") as f:\n",
        "    f.write(b\"This is the first record\")\n",
        "    f.write(b\"And this is the second record\")"
      ],
      "execution_count": null,
      "outputs": []
    },
    {
      "cell_type": "markdown",
      "metadata": {
        "id": "1Nu6nJVyhcPp"
      },
      "source": [
        "And you can read it using a `tf.data.TFRecordDataset`:"
      ]
    },
    {
      "cell_type": "code",
      "metadata": {
        "id": "3vZowR0ehcPq",
        "outputId": "b8e2eda6-a9e4-4d8d-ef66-3d6b247ee8bb"
      },
      "source": [
        "filepaths = [\"my_data.tfrecord\"]\n",
        "dataset = tf.data.TFRecordDataset(filepaths)\n",
        "for item in dataset:\n",
        "    print(item)"
      ],
      "execution_count": null,
      "outputs": [
        {
          "output_type": "stream",
          "text": [
            "tf.Tensor(b'This is the first record', shape=(), dtype=string)\n",
            "tf.Tensor(b'And this is the second record', shape=(), dtype=string)\n"
          ],
          "name": "stdout"
        }
      ]
    },
    {
      "cell_type": "markdown",
      "metadata": {
        "id": "BNIV7Qa0hcPt"
      },
      "source": [
        "You can read multiple TFRecord files with just one `TFRecordDataset`. By default it will read them one at a time, but if you set `num_parallel_reads=3`, it will read 3 at a time in parallel and interleave their records:"
      ]
    },
    {
      "cell_type": "code",
      "metadata": {
        "id": "KKZURB0IhcPu",
        "outputId": "2258f4fc-866f-45ce-cbce-7f93626a22ef"
      },
      "source": [
        "filepaths = [\"my_test_{}.tfrecord\".format(i) for i in range(5)]\n",
        "for i, filepath in enumerate(filepaths):\n",
        "    with tf.io.TFRecordWriter(filepath) as f:\n",
        "        for j in range(3):\n",
        "            f.write(\"File {} record {}\".format(i, j).encode(\"utf-8\"))\n",
        "\n",
        "dataset = tf.data.TFRecordDataset(filepaths, num_parallel_reads=3)\n",
        "for item in dataset:\n",
        "    print(item)"
      ],
      "execution_count": null,
      "outputs": [
        {
          "output_type": "stream",
          "text": [
            "tf.Tensor(b'File 0 record 0', shape=(), dtype=string)\n",
            "tf.Tensor(b'File 1 record 0', shape=(), dtype=string)\n",
            "tf.Tensor(b'File 2 record 0', shape=(), dtype=string)\n",
            "tf.Tensor(b'File 0 record 1', shape=(), dtype=string)\n",
            "tf.Tensor(b'File 1 record 1', shape=(), dtype=string)\n",
            "tf.Tensor(b'File 2 record 1', shape=(), dtype=string)\n",
            "tf.Tensor(b'File 0 record 2', shape=(), dtype=string)\n",
            "tf.Tensor(b'File 1 record 2', shape=(), dtype=string)\n",
            "tf.Tensor(b'File 2 record 2', shape=(), dtype=string)\n",
            "tf.Tensor(b'File 3 record 0', shape=(), dtype=string)\n",
            "tf.Tensor(b'File 4 record 0', shape=(), dtype=string)\n",
            "tf.Tensor(b'File 3 record 1', shape=(), dtype=string)\n",
            "tf.Tensor(b'File 4 record 1', shape=(), dtype=string)\n",
            "tf.Tensor(b'File 3 record 2', shape=(), dtype=string)\n",
            "tf.Tensor(b'File 4 record 2', shape=(), dtype=string)\n"
          ],
          "name": "stdout"
        }
      ]
    },
    {
      "cell_type": "code",
      "metadata": {
        "id": "GWjarOGZhcPv"
      },
      "source": [
        "options = tf.io.TFRecordOptions(compression_type=\"GZIP\")\n",
        "with tf.io.TFRecordWriter(\"my_compressed.tfrecord\", options) as f:\n",
        "    f.write(b\"This is the first record\")\n",
        "    f.write(b\"And this is the second record\")"
      ],
      "execution_count": null,
      "outputs": []
    },
    {
      "cell_type": "code",
      "metadata": {
        "id": "_kbJhdt1hcPx",
        "outputId": "fa724dea-dce2-48e3-a6a9-6ef23ac6f823"
      },
      "source": [
        "dataset = tf.data.TFRecordDataset([\"my_compressed.tfrecord\"],\n",
        "                                  compression_type=\"GZIP\")\n",
        "for item in dataset:\n",
        "    print(item)"
      ],
      "execution_count": null,
      "outputs": [
        {
          "output_type": "stream",
          "text": [
            "tf.Tensor(b'This is the first record', shape=(), dtype=string)\n",
            "tf.Tensor(b'And this is the second record', shape=(), dtype=string)\n"
          ],
          "name": "stdout"
        }
      ]
    },
    {
      "cell_type": "markdown",
      "metadata": {
        "id": "wUFLqrIUhcP0"
      },
      "source": [
        "### A Brief Intro to Protocol Buffers"
      ]
    },
    {
      "cell_type": "markdown",
      "metadata": {
        "id": "BK55qQephcP0"
      },
      "source": [
        "For this section you need to [install protobuf](https://developers.google.com/protocol-buffers/docs/downloads). In general you will not have to do so when using TensorFlow, as it comes with functions to create and parse protocol buffers of type `tf.train.Example`, which are generally sufficient. However, in this section we will learn about protocol buffers by creating our own simple protobuf definition, so we need the protobuf compiler (`protoc`): we will use it to compile the protobuf definition to a Python module that we can then use in our code."
      ]
    },
    {
      "cell_type": "markdown",
      "metadata": {
        "id": "ySzBgQQ_hcP1"
      },
      "source": [
        "First let's write a simple protobuf definition:"
      ]
    },
    {
      "cell_type": "code",
      "metadata": {
        "id": "4O_kn2e0hcP1",
        "colab": {
          "base_uri": "https://localhost:8080/",
          "height": 34
        },
        "outputId": "66b53a08-c732-4291-fe9c-7aa7ac05d275"
      },
      "source": [
        "%%writefile person.proto\n",
        "syntax = \"proto3\";\n",
        "message Person {\n",
        "  string name = 1;\n",
        "  int32 id = 2;\n",
        "  repeated string email = 3;\n",
        "}"
      ],
      "execution_count": null,
      "outputs": [
        {
          "output_type": "stream",
          "text": [
            "Writing person.proto\n"
          ],
          "name": "stdout"
        }
      ]
    },
    {
      "cell_type": "markdown",
      "metadata": {
        "id": "FbHR7Yh8hcP3"
      },
      "source": [
        "And let's compile it (the `--descriptor_set_out` and `--include_imports` options are only required for the `tf.io.decode_proto()` example below):"
      ]
    },
    {
      "cell_type": "code",
      "metadata": {
        "id": "DubcctT5hcP3"
      },
      "source": [
        "!protoc person.proto --python_out=. --descriptor_set_out=person.desc --include_imports"
      ],
      "execution_count": null,
      "outputs": []
    },
    {
      "cell_type": "code",
      "metadata": {
        "id": "7g0jp6vIhcP5",
        "outputId": "1989a045-e9f9-440e-d9b3-0490ce779fcb"
      },
      "source": [
        "!ls person*"
      ],
      "execution_count": null,
      "outputs": [
        {
          "output_type": "stream",
          "text": [
            "person.desc   person.proto  person_pb2.py\n"
          ],
          "name": "stdout"
        }
      ]
    },
    {
      "cell_type": "code",
      "metadata": {
        "id": "9Q1dxLGlhcP-",
        "outputId": "e7add34c-db44-4ad8-93b6-c05ab7ea9242"
      },
      "source": [
        "from person_pb2 import Person\n",
        "\n",
        "person = Person(name=\"Al\", id=123, email=[\"a@b.com\"])  # create a Person\n",
        "print(person)  # display the Person"
      ],
      "execution_count": null,
      "outputs": [
        {
          "output_type": "stream",
          "text": [
            "name: \"Al\"\n",
            "id: 123\n",
            "email: \"a@b.com\"\n",
            "\n"
          ],
          "name": "stdout"
        }
      ]
    },
    {
      "cell_type": "code",
      "metadata": {
        "id": "Zy7iB6wzhcQA",
        "outputId": "e43aef16-5f9c-42d6-8f03-1b4bd31514b7"
      },
      "source": [
        "person.name  # read a field"
      ],
      "execution_count": null,
      "outputs": [
        {
          "output_type": "execute_result",
          "data": {
            "text/plain": [
              "'Al'"
            ]
          },
          "metadata": {
            "tags": []
          },
          "execution_count": 51
        }
      ]
    },
    {
      "cell_type": "code",
      "metadata": {
        "id": "Ckefq4qihcQD"
      },
      "source": [
        "person.name = \"Alice\"  # modify a field"
      ],
      "execution_count": null,
      "outputs": []
    },
    {
      "cell_type": "code",
      "metadata": {
        "id": "GLbC-zyNhcQE",
        "outputId": "2b92e6ba-18a4-464f-e8b7-35b36d6900fb"
      },
      "source": [
        "person.email[0]  # repeated fields can be accessed like arrays"
      ],
      "execution_count": null,
      "outputs": [
        {
          "output_type": "execute_result",
          "data": {
            "text/plain": [
              "'a@b.com'"
            ]
          },
          "metadata": {
            "tags": []
          },
          "execution_count": 53
        }
      ]
    },
    {
      "cell_type": "code",
      "metadata": {
        "id": "6qP1nxzXhcQF"
      },
      "source": [
        "person.email.append(\"c@d.com\")  # add an email address"
      ],
      "execution_count": null,
      "outputs": []
    },
    {
      "cell_type": "code",
      "metadata": {
        "id": "3VRIlkgHhcQG",
        "outputId": "4de87c28-84bb-4a00-c2bf-afb9ea69f44c"
      },
      "source": [
        "s = person.SerializeToString()  # serialize to a byte string\n",
        "s"
      ],
      "execution_count": null,
      "outputs": [
        {
          "output_type": "execute_result",
          "data": {
            "text/plain": [
              "b'\\n\\x05Alice\\x10{\\x1a\\x07a@b.com\\x1a\\x07c@d.com'"
            ]
          },
          "metadata": {
            "tags": []
          },
          "execution_count": 55
        }
      ]
    },
    {
      "cell_type": "code",
      "metadata": {
        "id": "M9SFZFAhhcQI",
        "outputId": "d81ce8f5-71df-479b-9d3d-06b4a40a25b8"
      },
      "source": [
        "person2 = Person()  # create a new Person\n",
        "person2.ParseFromString(s)  # parse the byte string (27 bytes)"
      ],
      "execution_count": null,
      "outputs": [
        {
          "output_type": "execute_result",
          "data": {
            "text/plain": [
              "27"
            ]
          },
          "metadata": {
            "tags": []
          },
          "execution_count": 56
        }
      ]
    },
    {
      "cell_type": "code",
      "metadata": {
        "id": "d4-QdRZGhcQK",
        "outputId": "2e45ce39-db3f-48d0-9642-1d0493f1478c"
      },
      "source": [
        "person == person2  # now they are equal"
      ],
      "execution_count": null,
      "outputs": [
        {
          "output_type": "execute_result",
          "data": {
            "text/plain": [
              "True"
            ]
          },
          "metadata": {
            "tags": []
          },
          "execution_count": 57
        }
      ]
    },
    {
      "cell_type": "markdown",
      "metadata": {
        "id": "QcPZecVihcQL"
      },
      "source": [
        "#### Custom protobuf"
      ]
    },
    {
      "cell_type": "markdown",
      "metadata": {
        "id": "7MLKT_hjhcQL"
      },
      "source": [
        "In rare cases, you may want to parse a custom protobuf (like the one we just created) in TensorFlow. For this you can use the `tf.io.decode_proto()` function:"
      ]
    },
    {
      "cell_type": "code",
      "metadata": {
        "id": "uMMR59TGhcQM",
        "outputId": "50803752-71c9-4518-ac8d-360d35c67e9f"
      },
      "source": [
        "person_tf = tf.io.decode_proto(\n",
        "    bytes=s,\n",
        "    message_type=\"Person\",\n",
        "    field_names=[\"name\", \"id\", \"email\"],\n",
        "    output_types=[tf.string, tf.int32, tf.string],\n",
        "    descriptor_source=\"person.desc\")\n",
        "\n",
        "person_tf.values"
      ],
      "execution_count": null,
      "outputs": [
        {
          "output_type": "execute_result",
          "data": {
            "text/plain": [
              "[<tf.Tensor: shape=(1,), dtype=string, numpy=array([b'Alice'], dtype=object)>,\n",
              " <tf.Tensor: shape=(1,), dtype=int32, numpy=array([123], dtype=int32)>,\n",
              " <tf.Tensor: shape=(2,), dtype=string, numpy=array([b'a@b.com', b'c@d.com'], dtype=object)>]"
            ]
          },
          "metadata": {
            "tags": []
          },
          "execution_count": 58
        }
      ]
    },
    {
      "cell_type": "markdown",
      "metadata": {
        "id": "ps54W2d4hcQO"
      },
      "source": [
        "For more details, see the [`tf.io.decode_proto()`](https://www.tensorflow.org/api_docs/python/tf/io/decode_proto) documentation."
      ]
    },
    {
      "cell_type": "markdown",
      "metadata": {
        "id": "0kE7BsRBhcQO"
      },
      "source": [
        "### TensorFlow Protobufs"
      ]
    },
    {
      "cell_type": "markdown",
      "metadata": {
        "id": "IDrfIpJ0hcQO"
      },
      "source": [
        "Here is the definition of the tf.train.Example protobuf:"
      ]
    },
    {
      "cell_type": "markdown",
      "metadata": {
        "id": "M7nD_vV4hcQO"
      },
      "source": [
        "```proto\n",
        "syntax = \"proto3\";\n",
        "\n",
        "message BytesList { repeated bytes value = 1; }\n",
        "message FloatList { repeated float value = 1 [packed = true]; }\n",
        "message Int64List { repeated int64 value = 1 [packed = true]; }\n",
        "message Feature {\n",
        "    oneof kind {\n",
        "        BytesList bytes_list = 1;\n",
        "        FloatList float_list = 2;\n",
        "        Int64List int64_list = 3;\n",
        "    }\n",
        "};\n",
        "message Features { map<string, Feature> feature = 1; };\n",
        "message Example { Features features = 1; };\n",
        "```"
      ]
    },
    {
      "cell_type": "markdown",
      "metadata": {
        "id": "kL6gvLFkhcQP"
      },
      "source": [
        "**Warning**: there's currently a bug preventing `from tensorflow.train import X` so we work around it by writing `X = tf.train.X`. See https://github.com/tensorflow/tensorflow/issues/33289 for more details."
      ]
    },
    {
      "cell_type": "code",
      "metadata": {
        "id": "MAaYYTGahcQQ"
      },
      "source": [
        "from tensorflow.train import BytesList, FloatList, Int64List\n",
        "from tensorflow.train import Feature, Features, Example\n",
        "#BytesList = tf.train.BytesList\n",
        "#FloatList = tf.train.FloatList\n",
        "#Int64List = tf.train.Int64List\n",
        "#Feature = tf.train.Feature\n",
        "#Features = tf.train.Features\n",
        "#Example = tf.train.Example\n",
        "\n",
        "person_example = Example(\n",
        "    features=Features(\n",
        "        feature={\n",
        "            \"name\": Feature(bytes_list=BytesList(value=[b\"Alice\"])),\n",
        "            \"id\": Feature(int64_list=Int64List(value=[123])),\n",
        "            \"emails\": Feature(bytes_list=BytesList(value=[b\"a@b.com\", b\"c@d.com\"]))\n",
        "        }))\n",
        "\n",
        "with tf.io.TFRecordWriter(\"my_contacts.tfrecord\") as f:\n",
        "    f.write(person_example.SerializeToString())"
      ],
      "execution_count": null,
      "outputs": []
    },
    {
      "cell_type": "code",
      "metadata": {
        "id": "6xWkyePGhcQS"
      },
      "source": [
        "feature_description = {\n",
        "    \"name\": tf.io.FixedLenFeature([], tf.string, default_value=\"\"),\n",
        "    \"id\": tf.io.FixedLenFeature([], tf.int64, default_value=0),\n",
        "    \"emails\": tf.io.VarLenFeature(tf.string),\n",
        "}\n",
        "for serialized_example in tf.data.TFRecordDataset([\"my_contacts.tfrecord\"]):\n",
        "    parsed_example = tf.io.parse_single_example(serialized_example,\n",
        "                                                feature_description)"
      ],
      "execution_count": null,
      "outputs": []
    },
    {
      "cell_type": "code",
      "metadata": {
        "id": "JnFnnLFphcQU",
        "outputId": "aaa89b2e-4169-4145-c477-23a454cfffe7"
      },
      "source": [
        "parsed_example"
      ],
      "execution_count": null,
      "outputs": [
        {
          "output_type": "execute_result",
          "data": {
            "text/plain": [
              "{'emails': <tensorflow.python.framework.sparse_tensor.SparseTensor at 0x7fa77094b490>,\n",
              " 'id': <tf.Tensor: shape=(), dtype=int64, numpy=123>,\n",
              " 'name': <tf.Tensor: shape=(), dtype=string, numpy=b'Alice'>}"
            ]
          },
          "metadata": {
            "tags": []
          },
          "execution_count": 61
        }
      ]
    },
    {
      "cell_type": "code",
      "metadata": {
        "scrolled": true,
        "id": "m8ouRDzshcQW",
        "outputId": "9849e411-ea2e-4a65-c7bc-11d8a32bead4"
      },
      "source": [
        "parsed_example"
      ],
      "execution_count": null,
      "outputs": [
        {
          "output_type": "execute_result",
          "data": {
            "text/plain": [
              "{'emails': <tensorflow.python.framework.sparse_tensor.SparseTensor at 0x7fa77094b490>,\n",
              " 'id': <tf.Tensor: shape=(), dtype=int64, numpy=123>,\n",
              " 'name': <tf.Tensor: shape=(), dtype=string, numpy=b'Alice'>}"
            ]
          },
          "metadata": {
            "tags": []
          },
          "execution_count": 62
        }
      ]
    },
    {
      "cell_type": "code",
      "metadata": {
        "id": "58mEwMcghcQX",
        "outputId": "9270c725-1c24-402e-d92d-b1f9b3e446eb"
      },
      "source": [
        "parsed_example[\"emails\"].values[0]"
      ],
      "execution_count": null,
      "outputs": [
        {
          "output_type": "execute_result",
          "data": {
            "text/plain": [
              "<tf.Tensor: shape=(), dtype=string, numpy=b'a@b.com'>"
            ]
          },
          "metadata": {
            "tags": []
          },
          "execution_count": 63
        }
      ]
    },
    {
      "cell_type": "code",
      "metadata": {
        "id": "dBD6h5r2hcQZ",
        "outputId": "cd475388-c3c4-40ba-80bd-9f6406915358"
      },
      "source": [
        "tf.sparse.to_dense(parsed_example[\"emails\"], default_value=b\"\")"
      ],
      "execution_count": null,
      "outputs": [
        {
          "output_type": "execute_result",
          "data": {
            "text/plain": [
              "<tf.Tensor: shape=(2,), dtype=string, numpy=array([b'a@b.com', b'c@d.com'], dtype=object)>"
            ]
          },
          "metadata": {
            "tags": []
          },
          "execution_count": 64
        }
      ]
    },
    {
      "cell_type": "code",
      "metadata": {
        "id": "LWYgZkVHhcQc",
        "outputId": "b5d0de27-551b-443e-aaca-ef7f77cf65cf"
      },
      "source": [
        "parsed_example[\"emails\"].values"
      ],
      "execution_count": null,
      "outputs": [
        {
          "output_type": "execute_result",
          "data": {
            "text/plain": [
              "<tf.Tensor: shape=(2,), dtype=string, numpy=array([b'a@b.com', b'c@d.com'], dtype=object)>"
            ]
          },
          "metadata": {
            "tags": []
          },
          "execution_count": 65
        }
      ]
    },
    {
      "cell_type": "markdown",
      "metadata": {
        "id": "Z8-AAikfhcQd"
      },
      "source": [
        "### Putting Images in TFRecords"
      ]
    },
    {
      "cell_type": "code",
      "metadata": {
        "id": "gJEXPVE_hcQd",
        "colab": {
          "base_uri": "https://localhost:8080/",
          "height": 264
        },
        "outputId": "440baa4a-5d59-4ea9-c498-6a37e36bc094"
      },
      "source": [
        "from sklearn.datasets import load_sample_images\n",
        "img = load_sample_images()[\"images\"][1]\n",
        "plt.imshow(img)\n",
        "plt.axis(\"off\")\n",
        "plt.title(\"Original Image\")\n",
        "plt.show()"
      ],
      "execution_count": null,
      "outputs": [
        {
          "output_type": "display_data",
          "data": {
            "image/png": "[encoded data removed]",
            "text/plain": [
              "<Figure size 432x288 with 1 Axes>"
            ]
          },
          "metadata": {
            "tags": [],
            "needs_background": "light"
          }
        }
      ]
    },
    {
      "cell_type": "code",
      "metadata": {
        "id": "95tDL-pChcQf"
      },
      "source": [
        "from sklearn.datasets import load_sample_images\n",
        "img = load_sample_images()[\"images\"][1]\n",
        "\n",
        "data = tf.io.encode_jpeg(img)\n",
        "example_with_image = Example(features=Features(feature={\n",
        "    \"image\": Feature(bytes_list=BytesList(value=[data.numpy()]))}))\n",
        "serialized_example = example_with_image.SerializeToString()\n",
        "# then save to TFRecord"
      ],
      "execution_count": null,
      "outputs": []
    },
    {
      "cell_type": "code",
      "metadata": {
        "id": "3-QaTppHhcQi"
      },
      "source": [
        "feature_description = { \"image\": tf.io.VarLenFeature(tf.string) }\n",
        "example_with_image = tf.io.parse_single_example(serialized_example, feature_description)\n",
        "decoded_img = tf.io.decode_image(example_with_image[\"image\"].values[0])\n",
        "\n",
        "decoded_img = tf.io.decode_jpeg(example_with_image[\"image\"].values[0])"
      ],
      "execution_count": null,
      "outputs": []
    },
    {
      "cell_type": "markdown",
      "metadata": {
        "id": "Nfg5adUNhcQk"
      },
      "source": [
        "Or use `decode_image()` which supports BMP, GIF, JPEG and PNG formats:"
      ]
    },
    {
      "cell_type": "code",
      "metadata": {
        "id": "Ar0MQ0xehcQk"
      },
      "source": [
        "decoded_img = tf.io.decode_image(example_with_image[\"image\"].values[0])"
      ],
      "execution_count": null,
      "outputs": []
    },
    {
      "cell_type": "code",
      "metadata": {
        "id": "g8JAHyKzhcQn",
        "colab": {
          "base_uri": "https://localhost:8080/",
          "height": 264
        },
        "outputId": "8445d4b5-27a4-4618-8149-c209f20c6141"
      },
      "source": [
        "plt.imshow(decoded_img)\n",
        "plt.title(\"Decoded Image\")\n",
        "plt.axis(\"off\")\n",
        "plt.show()"
      ],
      "execution_count": null,
      "outputs": [
        {
          "output_type": "display_data",
          "data": {
            "image/png": "[encoded data removed]",
            "text/plain": [
              "<Figure size 432x288 with 1 Axes>"
            ]
          },
          "metadata": {
            "tags": [],
            "needs_background": "light"
          }
        }
      ]
    },
    {
      "cell_type": "markdown",
      "metadata": {
        "id": "squYtlNDhcQo"
      },
      "source": [
        "### Putting Tensors and Sparse Tensors in TFRecords"
      ]
    },
    {
      "cell_type": "markdown",
      "metadata": {
        "id": "Uj7wGihVhcQp"
      },
      "source": [
        "Tensors can be serialized and parsed easily using `tf.io.serialize_tensor()` and `tf.io.parse_tensor()`:"
      ]
    },
    {
      "cell_type": "code",
      "metadata": {
        "id": "mL-kNEphhcQp",
        "outputId": "1d14cd9a-ca41-48a7-a8ae-fe4d50e59d94"
      },
      "source": [
        "t = tf.constant([[0., 1.], [2., 3.], [4., 5.]])\n",
        "s = tf.io.serialize_tensor(t)\n",
        "s"
      ],
      "execution_count": null,
      "outputs": [
        {
          "output_type": "execute_result",
          "data": {
            "text/plain": [
              "<tf.Tensor: shape=(), dtype=string, numpy=b'\\x08\\x01\\x12\\x08\\x12\\x02\\x08\\x03\\x12\\x02\\x08\\x02\"\\x18\\x00\\x00\\x00\\x00\\x00\\x00\\x80?\\x00\\x00\\x00@\\x00\\x00@@\\x00\\x00\\x80@\\x00\\x00\\xa0@'>"
            ]
          },
          "metadata": {
            "tags": []
          },
          "execution_count": 71
        }
      ]
    },
    {
      "cell_type": "code",
      "metadata": {
        "id": "PXZGXeLwhcQr",
        "outputId": "d7df78d1-6ec3-41c6-a9c9-533fff533a41"
      },
      "source": [
        "tf.io.parse_tensor(s, out_type=tf.float32)"
      ],
      "execution_count": null,
      "outputs": [
        {
          "output_type": "execute_result",
          "data": {
            "text/plain": [
              "<tf.Tensor: shape=(3, 2), dtype=float32, numpy=\n",
              "array([[0., 1.],\n",
              "       [2., 3.],\n",
              "       [4., 5.]], dtype=float32)>"
            ]
          },
          "metadata": {
            "tags": []
          },
          "execution_count": 72
        }
      ]
    },
    {
      "cell_type": "code",
      "metadata": {
        "id": "iYbJKCmhhcQt",
        "outputId": "d73dd2db-85a3-4a9d-efdf-903d0c4e5f0c"
      },
      "source": [
        "serialized_sparse = tf.io.serialize_sparse(parsed_example[\"emails\"])\n",
        "serialized_sparse"
      ],
      "execution_count": null,
      "outputs": [
        {
          "output_type": "execute_result",
          "data": {
            "text/plain": [
              "<tf.Tensor: shape=(3,), dtype=string, numpy=\n",
              "array([b'\\x08\\t\\x12\\x08\\x12\\x02\\x08\\x02\\x12\\x02\\x08\\x01\"\\x10\\x00\\x00\\x00\\x00\\x00\\x00\\x00\\x00\\x01\\x00\\x00\\x00\\x00\\x00\\x00\\x00',\n",
              "       b'\\x08\\x07\\x12\\x04\\x12\\x02\\x08\\x02\"\\x10\\x07\\x07a@b.comc@d.com',\n",
              "       b'\\x08\\t\\x12\\x04\\x12\\x02\\x08\\x01\"\\x08\\x02\\x00\\x00\\x00\\x00\\x00\\x00\\x00'],\n",
              "      dtype=object)>"
            ]
          },
          "metadata": {
            "tags": []
          },
          "execution_count": 73
        }
      ]
    },
    {
      "cell_type": "code",
      "metadata": {
        "id": "vq8BePaahcQu",
        "outputId": "4490258c-6b72-4077-b5c3-665c06167b93"
      },
      "source": [
        "BytesList(value=serialized_sparse.numpy())"
      ],
      "execution_count": null,
      "outputs": [
        {
          "output_type": "execute_result",
          "data": {
            "text/plain": [
              "value: \"\\010\\t\\022\\010\\022\\002\\010\\002\\022\\002\\010\\001\\\"\\020\\000\\000\\000\\000\\000\\000\\000\\000\\001\\000\\000\\000\\000\\000\\000\\000\"\n",
              "value: \"\\010\\007\\022\\004\\022\\002\\010\\002\\\"\\020\\007\\007a@b.comc@d.com\"\n",
              "value: \"\\010\\t\\022\\004\\022\\002\\010\\001\\\"\\010\\002\\000\\000\\000\\000\\000\\000\\000\""
            ]
          },
          "metadata": {
            "tags": []
          },
          "execution_count": 74
        }
      ]
    },
    {
      "cell_type": "code",
      "metadata": {
        "id": "lOibDYEkhcQw"
      },
      "source": [
        "dataset = tf.data.TFRecordDataset([\"my_contacts.tfrecord\"]).batch(10)\n",
        "for serialized_examples in dataset:\n",
        "    parsed_examples = tf.io.parse_example(serialized_examples,\n",
        "                                          feature_description)"
      ],
      "execution_count": null,
      "outputs": []
    },
    {
      "cell_type": "code",
      "metadata": {
        "id": "EA6QaImvhcQx",
        "outputId": "8a8bea45-853a-4929-a1e4-606184780a6b"
      },
      "source": [
        "parsed_examples"
      ],
      "execution_count": null,
      "outputs": [
        {
          "output_type": "execute_result",
          "data": {
            "text/plain": [
              "{'image': <tensorflow.python.framework.sparse_tensor.SparseTensor at 0x7fa7303247d0>}"
            ]
          },
          "metadata": {
            "tags": []
          },
          "execution_count": 76
        }
      ]
    },
    {
      "cell_type": "markdown",
      "metadata": {
        "id": "9HUuV7GohcQz"
      },
      "source": [
        "## Handling Sequential Data Using `SequenceExample`"
      ]
    },
    {
      "cell_type": "markdown",
      "metadata": {
        "id": "oRZ4tQ0PhcQz"
      },
      "source": [
        "```proto\n",
        "syntax = \"proto3\";\n",
        "\n",
        "message FeatureList { repeated Feature feature = 1; };\n",
        "message FeatureLists { map<string, FeatureList> feature_list = 1; };\n",
        "message SequenceExample {\n",
        "  Features context = 1;\n",
        "  FeatureLists feature_lists = 2;\n",
        "};\n",
        "```"
      ]
    },
    {
      "cell_type": "markdown",
      "metadata": {
        "id": "wGGp_yG_hcQz"
      },
      "source": [
        "**Warning**: there's currently a bug preventing `from tensorflow.train import X` so we work around it by writing `X = tf.train.X`. See https://github.com/tensorflow/tensorflow/issues/33289 for more details."
      ]
    },
    {
      "cell_type": "code",
      "metadata": {
        "id": "MWeewCbshcQz"
      },
      "source": [
        "FeatureList = tf.train.FeatureList\n",
        "FeatureLists = tf.train.FeatureLists\n",
        "SequenceExample = tf.train.SequenceExample\n",
        "\n",
        "context = Features(feature={\n",
        "    \"author_id\": Feature(int64_list=Int64List(value=[123])),\n",
        "    \"title\": Feature(bytes_list=BytesList(value=[b\"A\", b\"desert\", b\"place\", b\".\"])),\n",
        "    \"pub_date\": Feature(int64_list=Int64List(value=[1623, 12, 25]))\n",
        "})\n",
        "\n",
        "content = [[\"When\", \"shall\", \"we\", \"three\", \"meet\", \"again\", \"?\"],\n",
        "           [\"In\", \"thunder\", \",\", \"lightning\", \",\", \"or\", \"in\", \"rain\", \"?\"]]\n",
        "comments = [[\"When\", \"the\", \"hurlyburly\", \"'s\", \"done\", \".\"],\n",
        "            [\"When\", \"the\", \"battle\", \"'s\", \"lost\", \"and\", \"won\", \".\"]]\n",
        "\n",
        "def words_to_feature(words):\n",
        "    return Feature(bytes_list=BytesList(value=[word.encode(\"utf-8\")\n",
        "                                               for word in words]))\n",
        "\n",
        "content_features = [words_to_feature(sentence) for sentence in content]\n",
        "comments_features = [words_to_feature(comment) for comment in comments]\n",
        "            \n",
        "sequence_example = SequenceExample(\n",
        "    context=context,\n",
        "    feature_lists=FeatureLists(feature_list={\n",
        "        \"content\": FeatureList(feature=content_features),\n",
        "        \"comments\": FeatureList(feature=comments_features)\n",
        "    }))"
      ],
      "execution_count": null,
      "outputs": []
    },
    {
      "cell_type": "code",
      "metadata": {
        "id": "mJgHTDJGhcQ0",
        "outputId": "c6301944-c2a4-4714-b1c4-fa8245732b20"
      },
      "source": [
        "sequence_example"
      ],
      "execution_count": null,
      "outputs": [
        {
          "output_type": "execute_result",
          "data": {
            "text/plain": [
              "context {\n",
              "  feature {\n",
              "    key: \"author_id\"\n",
              "    value {\n",
              "      int64_list {\n",
              "        value: 123\n",
              "      }\n",
              "    }\n",
              "  }\n",
              "  feature {\n",
              "    key: \"pub_date\"\n",
              "    value {\n",
              "      int64_list {\n",
              "        value: 1623\n",
              "        value: 12\n",
              "        value: 25\n",
              "      }\n",
              "    }\n",
              "  }\n",
              "  feature {\n",
              "    key: \"title\"\n",
              "    value {\n",
              "      bytes_list {\n",
              "        value: \"A\"\n",
              "        value: \"desert\"\n",
              "        value: \"place\"\n",
              "        value: \".\"\n",
              "      }\n",
              "    }\n",
              "  }\n",
              "}\n",
              "feature_lists {\n",
              "  feature_list {\n",
              "    key: \"comments\"\n",
              "    value {\n",
              "      feature {\n",
              "        bytes_list {\n",
              "          value: \"When\"\n",
              "          value: \"the\"\n",
              "          value: \"hurlyburly\"\n",
              "          value: \"\\'s\"\n",
              "          value: \"done\"\n",
              "          value: \".\"\n",
              "        }\n",
              "      }\n",
              "      feature {\n",
              "        bytes_list {\n",
              "          value: \"When\"\n",
              "          value: \"the\"\n",
              "          value: \"battle\"\n",
              "          value: \"\\'s\"\n",
              "          value: \"lost\"\n",
              "          value: \"and\"\n",
              "          value: \"won\"\n",
              "          value: \".\"\n",
              "        }\n",
              "      }\n",
              "    }\n",
              "  }\n",
              "  feature_list {\n",
              "    key: \"content\"\n",
              "    value {\n",
              "      feature {\n",
              "        bytes_list {\n",
              "          value: \"When\"\n",
              "          value: \"shall\"\n",
              "          value: \"we\"\n",
              "          value: \"three\"\n",
              "          value: \"meet\"\n",
              "          value: \"again\"\n",
              "          value: \"?\"\n",
              "        }\n",
              "      }\n",
              "      feature {\n",
              "        bytes_list {\n",
              "          value: \"In\"\n",
              "          value: \"thunder\"\n",
              "          value: \",\"\n",
              "          value: \"lightning\"\n",
              "          value: \",\"\n",
              "          value: \"or\"\n",
              "          value: \"in\"\n",
              "          value: \"rain\"\n",
              "          value: \"?\"\n",
              "        }\n",
              "      }\n",
              "    }\n",
              "  }\n",
              "}"
            ]
          },
          "metadata": {
            "tags": []
          },
          "execution_count": 78
        }
      ]
    },
    {
      "cell_type": "code",
      "metadata": {
        "id": "VyhEqkR2hcQ2"
      },
      "source": [
        "serialized_sequence_example = sequence_example.SerializeToString()"
      ],
      "execution_count": null,
      "outputs": []
    },
    {
      "cell_type": "code",
      "metadata": {
        "id": "LduPoNiBhcQ3"
      },
      "source": [
        "context_feature_descriptions = {\n",
        "    \"author_id\": tf.io.FixedLenFeature([], tf.int64, default_value=0),\n",
        "    \"title\": tf.io.VarLenFeature(tf.string),\n",
        "    \"pub_date\": tf.io.FixedLenFeature([3], tf.int64, default_value=[0, 0, 0]),\n",
        "}\n",
        "sequence_feature_descriptions = {\n",
        "    \"content\": tf.io.VarLenFeature(tf.string),\n",
        "    \"comments\": tf.io.VarLenFeature(tf.string),\n",
        "}\n",
        "parsed_context, parsed_feature_lists = tf.io.parse_single_sequence_example(\n",
        "    serialized_sequence_example, context_feature_descriptions,\n",
        "    sequence_feature_descriptions)"
      ],
      "execution_count": null,
      "outputs": []
    },
    {
      "cell_type": "code",
      "metadata": {
        "id": "wCVPhsL9hcQ5",
        "outputId": "c7875063-2f00-4844-fd0c-644fbaf1eac0"
      },
      "source": [
        "parsed_context"
      ],
      "execution_count": null,
      "outputs": [
        {
          "output_type": "execute_result",
          "data": {
            "text/plain": [
              "{'title': <tensorflow.python.framework.sparse_tensor.SparseTensor at 0x7fa785e1cd50>,\n",
              " 'author_id': <tf.Tensor: shape=(), dtype=int64, numpy=123>,\n",
              " 'pub_date': <tf.Tensor: shape=(3,), dtype=int64, numpy=array([1623,   12,   25])>}"
            ]
          },
          "metadata": {
            "tags": []
          },
          "execution_count": 81
        }
      ]
    },
    {
      "cell_type": "code",
      "metadata": {
        "id": "MepIjWlBhcQ7",
        "outputId": "53ac74e8-98eb-4f92-e687-0b749a572bda"
      },
      "source": [
        "parsed_context[\"title\"].values"
      ],
      "execution_count": null,
      "outputs": [
        {
          "output_type": "execute_result",
          "data": {
            "text/plain": [
              "<tf.Tensor: shape=(4,), dtype=string, numpy=array([b'A', b'desert', b'place', b'.'], dtype=object)>"
            ]
          },
          "metadata": {
            "tags": []
          },
          "execution_count": 82
        }
      ]
    },
    {
      "cell_type": "code",
      "metadata": {
        "id": "hqNTM5YHhcQ8",
        "outputId": "cf1e5d7e-cdb2-409b-cf40-3c9a94c9a9d4"
      },
      "source": [
        "parsed_feature_lists"
      ],
      "execution_count": null,
      "outputs": [
        {
          "output_type": "execute_result",
          "data": {
            "text/plain": [
              "{'comments': <tensorflow.python.framework.sparse_tensor.SparseTensor at 0x7fa785e31550>,\n",
              " 'content': <tensorflow.python.framework.sparse_tensor.SparseTensor at 0x7fa785e31350>}"
            ]
          },
          "metadata": {
            "tags": []
          },
          "execution_count": 83
        }
      ]
    },
    {
      "cell_type": "code",
      "metadata": {
        "id": "TC9EkVXfhcQ9",
        "outputId": "cfd2fe9e-348e-4ca7-f5d6-a2b2b8c58a42"
      },
      "source": [
        "print(tf.RaggedTensor.from_sparse(parsed_feature_lists[\"content\"]))"
      ],
      "execution_count": null,
      "outputs": [
        {
          "output_type": "stream",
          "text": [
            "<tf.RaggedTensor [[b'When', b'shall', b'we', b'three', b'meet', b'again', b'?'], [b'In', b'thunder', b',', b'lightning', b',', b'or', b'in', b'rain', b'?']]>\n"
          ],
          "name": "stdout"
        }
      ]
    },
    {
      "cell_type": "markdown",
      "metadata": {
        "id": "gJsKrebchcRl"
      },
      "source": [
        "# TensorFlow Datasets"
      ]
    },
    {
      "cell_type": "code",
      "metadata": {
        "id": "BGVqclQ5hcRl",
        "colab": {
          "base_uri": "https://localhost:8080/",
          "height": 202,
          "referenced_widgets": [
            "4528bae607c7432aaea8ef47ed031a39",
            "5232e3f38e1e4f9ab61d4193ce4c01b1",
            "031fee51143a4fc680cb1bede38213e1",
            "a416c5895225485586affe8a92b6ea1a",
            "405baa5851ae41c1a3033e9e0411772f",
            "d9587c95bfe642e0af58c0690ec2d1bc",
            "caa2c5baef614e1aa949d7e9055bef5c",
            "5426cb94fce7418faf6c7b387c9a7f93"
          ]
        },
        "outputId": "82ef3530-e6df-4849-dc28-61793fef2bc0"
      },
      "source": [
        "import tensorflow_datasets as tfds\n",
        "\n",
        "datasets = tfds.load(name=\"mnist\")\n",
        "mnist_train, mnist_test = datasets[\"train\"], datasets[\"test\"]"
      ],
      "execution_count": null,
      "outputs": [
        {
          "output_type": "stream",
          "text": [
            "\u001b[1mDownloading and preparing dataset mnist/3.0.1 (download: 11.06 MiB, generated: 21.00 MiB, total: 32.06 MiB) to /root/tensorflow_datasets/mnist/3.0.1...\u001b[0m\n"
          ],
          "name": "stdout"
        },
        {
          "output_type": "stream",
          "text": [
            "WARNING:absl:Dataset mnist is hosted on GCS. It will automatically be downloaded to your\n",
            "local data directory. If you'd instead prefer to read directly from our public\n",
            "GCS bucket (recommended if you're running on GCP), you can instead pass\n",
            "`try_gcs=True` to `tfds.load` or set `data_dir=gs://tfds-data/datasets`.\n",
            "\n"
          ],
          "name": "stderr"
        },
        {
          "output_type": "display_data",
          "data": {
            "application/vnd.jupyter.widget-view+json": {
              "model_id": "4528bae607c7432aaea8ef47ed031a39",
              "version_minor": 0,
              "version_major": 2
            },
            "text/plain": [
              "HBox(children=(FloatProgress(value=0.0, description='Dl Completed...', max=4.0, style=ProgressStyle(descriptio…"
            ]
          },
          "metadata": {
            "tags": []
          }
        },
        {
          "output_type": "stream",
          "text": [
            "\n",
            "\n",
            "\u001b[1mDataset mnist downloaded and prepared to /root/tensorflow_datasets/mnist/3.0.1. Subsequent calls will reuse this data.\u001b[0m\n"
          ],
          "name": "stdout"
        }
      ]
    },
    {
      "cell_type": "code",
      "metadata": {
        "id": "xE2sSFnEhcRm",
        "colab": {
          "base_uri": "https://localhost:8080/"
        },
        "outputId": "6e2d7488-20f9-43ac-d649-d066b14d6eee"
      },
      "source": [
        "print(tfds.list_builders())"
      ],
      "execution_count": null,
      "outputs": [
        {
          "output_type": "stream",
          "text": [
            "['abstract_reasoning', 'accentdb', 'aeslc', 'aflw2k3d', 'ag_news_subset', 'ai2_arc', 'ai2_arc_with_ir', 'amazon_us_reviews', 'anli', 'arc', 'bair_robot_pushing_small', 'bccd', 'beans', 'big_patent', 'bigearthnet', 'billsum', 'binarized_mnist', 'binary_alpha_digits', 'blimp', 'bool_q', 'c4', 'caltech101', 'caltech_birds2010', 'caltech_birds2011', 'cars196', 'cassava', 'cats_vs_dogs', 'celeb_a', 'celeb_a_hq', 'cfq', 'chexpert', 'cifar10', 'cifar100', 'cifar10_1', 'cifar10_corrupted', 'citrus_leaves', 'cityscapes', 'civil_comments', 'clevr', 'clic', 'clinc_oos', 'cmaterdb', 'cnn_dailymail', 'coco', 'coco_captions', 'coil100', 'colorectal_histology', 'colorectal_histology_large', 'common_voice', 'coqa', 'cos_e', 'cosmos_qa', 'covid19sum', 'crema_d', 'curated_breast_imaging_ddsm', 'cycle_gan', 'deep_weeds', 'definite_pronoun_resolution', 'dementiabank', 'diabetic_retinopathy_detection', 'div2k', 'dmlab', 'downsampled_imagenet', 'dsprites', 'dtd', 'duke_ultrasound', 'emnist', 'eraser_multi_rc', 'esnli', 'eurosat', 'fashion_mnist', 'flic', 'flores', 'food101', 'forest_fires', 'fuss', 'gap', 'geirhos_conflict_stimuli', 'genomics_ood', 'german_credit_numeric', 'gigaword', 'glue', 'goemotions', 'gpt3', 'groove', 'gtzan', 'gtzan_music_speech', 'hellaswag', 'higgs', 'horses_or_humans', 'i_naturalist2017', 'imagenet2012', 'imagenet2012_corrupted', 'imagenet2012_real', 'imagenet2012_subset', 'imagenet_a', 'imagenet_r', 'imagenet_resized', 'imagenet_v2', 'imagenette', 'imagewang', 'imdb_reviews', 'irc_disentanglement', 'iris', 'kitti', 'kmnist', 'lfw', 'librispeech', 'librispeech_lm', 'libritts', 'ljspeech', 'lm1b', 'lost_and_found', 'lsun', 'malaria', 'math_dataset', 'mctaco', 'mnist', 'mnist_corrupted', 'movie_lens', 'movie_rationales', 'movielens', 'moving_mnist', 'multi_news', 'multi_nli', 'multi_nli_mismatch', 'natural_questions', 'natural_questions_open', 'newsroom', 'nsynth', 'nyu_depth_v2', 'omniglot', 'open_images_challenge2019_detection', 'open_images_v4', 'openbookqa', 'opinion_abstracts', 'opinosis', 'opus', 'oxford_flowers102', 'oxford_iiit_pet', 'para_crawl', 'patch_camelyon', 'paws_wiki', 'paws_x_wiki', 'pet_finder', 'pg19', 'places365_small', 'plant_leaves', 'plant_village', 'plantae_k', 'qa4mre', 'qasc', 'quickdraw_bitmap', 'radon', 'reddit', 'reddit_disentanglement', 'reddit_tifu', 'resisc45', 'robonet', 'rock_paper_scissors', 'rock_you', 'salient_span_wikipedia', 'samsum', 'savee', 'scan', 'scene_parse150', 'scicite', 'scientific_papers', 'sentiment140', 'shapes3d', 'smallnorb', 'snli', 'so2sat', 'speech_commands', 'spoken_digit', 'squad', 'stanford_dogs', 'stanford_online_products', 'starcraft_video', 'stl10', 'sun397', 'super_glue', 'svhn_cropped', 'ted_hrlr_translate', 'ted_multi_translate', 'tedlium', 'tf_flowers', 'the300w_lp', 'tiny_shakespeare', 'titanic', 'trec', 'trivia_qa', 'tydi_qa', 'uc_merced', 'ucf101', 'vctk', 'vgg_face2', 'visual_domain_decathlon', 'voc', 'voxceleb', 'voxforge', 'waymo_open_dataset', 'web_questions', 'wider_face', 'wiki40b', 'wikihow', 'wikipedia', 'wikipedia_toxicity_subtypes', 'wine_quality', 'winogrande', 'wmt14_translate', 'wmt15_translate', 'wmt16_translate', 'wmt17_translate', 'wmt18_translate', 'wmt19_translate', 'wmt_t2t_translate', 'wmt_translate', 'wordnet', 'xnli', 'xquad', 'xsum', 'yelp_polarity_reviews', 'yes_no']\n"
          ],
          "name": "stdout"
        }
      ]
    },
    {
      "cell_type": "code",
      "metadata": {
        "id": "xT2EaN-2hcRo",
        "colab": {
          "base_uri": "https://localhost:8080/",
          "height": 83
        },
        "outputId": "d3a076e6-6e8a-4d76-ddad-7034ecb8d7b6"
      },
      "source": [
        "plt.figure(figsize=(6,3))\n",
        "mnist_train = mnist_train.repeat(5).batch(32).prefetch(1)\n",
        "for item in mnist_train:\n",
        "    images = item[\"image\"]\n",
        "    labels = item[\"label\"]\n",
        "    for index in range(8):\n",
        "        plt.subplot(1, 8, index + 1)\n",
        "        image = images[index, ..., 0]\n",
        "        label = labels[index].numpy()\n",
        "        plt.imshow(image, cmap=\"binary\")\n",
        "        plt.title(label)\n",
        "        plt.axis(\"off\")\n",
        "    break # just showing part of the first batch"
      ],
      "execution_count": null,
      "outputs": [
        {
          "output_type": "display_data",
          "data": {
            "image/png": "[encoded data removed]",
            "text/plain": [
              "<Figure size 432x216 with 8 Axes>"
            ]
          },
          "metadata": {
            "tags": [],
            "needs_background": "light"
          }
        }
      ]
    },
    {
      "cell_type": "code",
      "metadata": {
        "id": "3OUsIcp2hcRo",
        "colab": {
          "base_uri": "https://localhost:8080/"
        },
        "outputId": "156920ef-a78a-4419-a75e-7bfb426bea2f"
      },
      "source": [
        "datasets = tfds.load(name=\"mnist\")\n",
        "mnist_train, mnist_test = datasets[\"train\"], datasets[\"test\"]\n",
        "mnist_train = mnist_train.repeat(5).batch(32)\n",
        "mnist_train = mnist_train.map(lambda items: (items[\"image\"], items[\"label\"]))\n",
        "mnist_train = mnist_train.prefetch(1)\n",
        "for images, labels in mnist_train.take(1):\n",
        "    print(images.shape)\n",
        "    print(labels.numpy())"
      ],
      "execution_count": null,
      "outputs": [
        {
          "output_type": "stream",
          "text": [
            "(32, 28, 28, 1)\n",
            "[4 1 0 7 8 1 2 7 1 6 6 4 7 7 3 3 7 9 9 1 0 6 6 9 9 4 8 9 4 7 3 3]\n"
          ],
          "name": "stdout"
        }
      ]
    },
    {
      "cell_type": "code",
      "metadata": {
        "id": "jvPIMElPhcRp"
      },
      "source": [
        "keras.backend.clear_session()\n",
        "np.random.seed(42)\n",
        "tf.random.set_seed(42)"
      ],
      "execution_count": null,
      "outputs": []
    },
    {
      "cell_type": "code",
      "metadata": {
        "id": "YnDlPC__hcRq",
        "colab": {
          "base_uri": "https://localhost:8080/"
        },
        "outputId": "a53546e9-206d-4cae-a104-f340e33a99a8"
      },
      "source": [
        "datasets = tfds.load(name=\"mnist\", batch_size=32, as_supervised=True)\n",
        "mnist_train = datasets[\"train\"].repeat().prefetch(1)\n",
        "model = keras.models.Sequential([\n",
        "    keras.layers.Flatten(input_shape=[28, 28, 1]),\n",
        "    keras.layers.Lambda(lambda images: tf.cast(images, tf.float32)),\n",
        "    keras.layers.Dense(50, activation=\"softmax\")])\n",
        "model.compile(loss=\"sparse_categorical_crossentropy\",\n",
        "              optimizer=keras.optimizers.SGD(lr=1e-3),\n",
        "              metrics=[\"accuracy\"])\n",
        "model.fit(mnist_train, steps_per_epoch=60000 // 32, epochs=5)"
      ],
      "execution_count": null,
      "outputs": [
        {
          "output_type": "stream",
          "text": [
            "Epoch 1/5\n",
            "1875/1875 [==============================] - 8s 4ms/step - loss: 41.7241 - accuracy: 0.8037\n",
            "Epoch 2/5\n",
            "1875/1875 [==============================] - 3s 1ms/step - loss: 24.8459 - accuracy: 0.8695\n",
            "Epoch 3/5\n",
            "1875/1875 [==============================] - 3s 1ms/step - loss: 24.5370 - accuracy: 0.8732\n",
            "Epoch 4/5\n",
            "1875/1875 [==============================] - 3s 1ms/step - loss: 23.6955 - accuracy: 0.8760\n",
            "Epoch 5/5\n",
            "1875/1875 [==============================] - 3s 1ms/step - loss: 23.3471 - accuracy: 0.8778\n"
          ],
          "name": "stdout"
        },
        {
          "output_type": "execute_result",
          "data": {
            "text/plain": [
              "<tensorflow.python.keras.callbacks.History at 0x7fddd2f13390>"
            ]
          },
          "metadata": {
            "tags": []
          },
          "execution_count": 20
        }
      ]
    },
    {
      "cell_type": "markdown",
      "metadata": {
        "id": "ZuxQ3ng8hcQ_"
      },
      "source": [
        "# The Features API"
      ]
    },
    {
      "cell_type": "markdown",
      "metadata": {
        "id": "faSCOxf8hcQ_"
      },
      "source": [
        "Let's use the variant of the California housing dataset that we used in Chapter 2, since it contains categorical features and missing values:"
      ]
    },
    {
      "cell_type": "code",
      "metadata": {
        "id": "MOMLrUDchcQ_"
      },
      "source": [
        "import os\n",
        "import tarfile\n",
        "import urllib\n",
        "\n",
        "DOWNLOAD_ROOT = \"https://raw.githubusercontent.com/ageron/handson-ml2/master/\"\n",
        "HOUSING_PATH = os.path.join(\"datasets\", \"housing\")\n",
        "HOUSING_URL = DOWNLOAD_ROOT + \"datasets/housing/housing.tgz\"\n",
        "\n",
        "def fetch_housing_data(housing_url=HOUSING_URL, housing_path=HOUSING_PATH):\n",
        "    os.makedirs(housing_path, exist_ok=True)\n",
        "    tgz_path = os.path.join(housing_path, \"housing.tgz\")\n",
        "    urllib.request.urlretrieve(housing_url, tgz_path)\n",
        "    housing_tgz = tarfile.open(tgz_path)\n",
        "    housing_tgz.extractall(path=housing_path)\n",
        "    housing_tgz.close()"
      ],
      "execution_count": null,
      "outputs": []
    },
    {
      "cell_type": "code",
      "metadata": {
        "id": "A_12f7AlhcRA"
      },
      "source": [
        "fetch_housing_data()"
      ],
      "execution_count": null,
      "outputs": []
    },
    {
      "cell_type": "code",
      "metadata": {
        "id": "zSwWlRNihcRB"
      },
      "source": [
        "import pandas as pd\n",
        "\n",
        "def load_housing_data(housing_path=HOUSING_PATH):\n",
        "    csv_path = os.path.join(housing_path, \"housing.csv\")\n",
        "    return pd.read_csv(csv_path)"
      ],
      "execution_count": null,
      "outputs": []
    },
    {
      "cell_type": "code",
      "metadata": {
        "id": "iBJqm1VMhcRF",
        "outputId": "24c7a813-ae58-4723-93d0-2f6ba1e46a25"
      },
      "source": [
        "housing = load_housing_data()\n",
        "housing.head()"
      ],
      "execution_count": null,
      "outputs": [
        {
          "output_type": "execute_result",
          "data": {
            "text/html": [
              "<div>\n",
              "<style scoped>\n",
              "    .dataframe tbody tr th:only-of-type {\n",
              "        vertical-align: middle;\n",
              "    }\n",
              "\n",
              "    .dataframe tbody tr th {\n",
              "        vertical-align: top;\n",
              "    }\n",
              "\n",
              "    .dataframe thead th {\n",
              "        text-align: right;\n",
              "    }\n",
              "</style>\n",
              "<table border=\"1\" class=\"dataframe\">\n",
              "  <thead>\n",
              "    <tr style=\"text-align: right;\">\n",
              "      <th></th>\n",
              "      <th>longitude</th>\n",
              "      <th>latitude</th>\n",
              "      <th>housing_median_age</th>\n",
              "      <th>total_rooms</th>\n",
              "      <th>total_bedrooms</th>\n",
              "      <th>population</th>\n",
              "      <th>households</th>\n",
              "      <th>median_income</th>\n",
              "      <th>median_house_value</th>\n",
              "      <th>ocean_proximity</th>\n",
              "    </tr>\n",
              "  </thead>\n",
              "  <tbody>\n",
              "    <tr>\n",
              "      <th>0</th>\n",
              "      <td>-122.23</td>\n",
              "      <td>37.88</td>\n",
              "      <td>41.0</td>\n",
              "      <td>880.0</td>\n",
              "      <td>129.0</td>\n",
              "      <td>322.0</td>\n",
              "      <td>126.0</td>\n",
              "      <td>8.3252</td>\n",
              "      <td>452600.0</td>\n",
              "      <td>NEAR BAY</td>\n",
              "    </tr>\n",
              "    <tr>\n",
              "      <th>1</th>\n",
              "      <td>-122.22</td>\n",
              "      <td>37.86</td>\n",
              "      <td>21.0</td>\n",
              "      <td>7099.0</td>\n",
              "      <td>1106.0</td>\n",
              "      <td>2401.0</td>\n",
              "      <td>1138.0</td>\n",
              "      <td>8.3014</td>\n",
              "      <td>358500.0</td>\n",
              "      <td>NEAR BAY</td>\n",
              "    </tr>\n",
              "    <tr>\n",
              "      <th>2</th>\n",
              "      <td>-122.24</td>\n",
              "      <td>37.85</td>\n",
              "      <td>52.0</td>\n",
              "      <td>1467.0</td>\n",
              "      <td>190.0</td>\n",
              "      <td>496.0</td>\n",
              "      <td>177.0</td>\n",
              "      <td>7.2574</td>\n",
              "      <td>352100.0</td>\n",
              "      <td>NEAR BAY</td>\n",
              "    </tr>\n",
              "    <tr>\n",
              "      <th>3</th>\n",
              "      <td>-122.25</td>\n",
              "      <td>37.85</td>\n",
              "      <td>52.0</td>\n",
              "      <td>1274.0</td>\n",
              "      <td>235.0</td>\n",
              "      <td>558.0</td>\n",
              "      <td>219.0</td>\n",
              "      <td>5.6431</td>\n",
              "      <td>341300.0</td>\n",
              "      <td>NEAR BAY</td>\n",
              "    </tr>\n",
              "    <tr>\n",
              "      <th>4</th>\n",
              "      <td>-122.25</td>\n",
              "      <td>37.85</td>\n",
              "      <td>52.0</td>\n",
              "      <td>1627.0</td>\n",
              "      <td>280.0</td>\n",
              "      <td>565.0</td>\n",
              "      <td>259.0</td>\n",
              "      <td>3.8462</td>\n",
              "      <td>342200.0</td>\n",
              "      <td>NEAR BAY</td>\n",
              "    </tr>\n",
              "  </tbody>\n",
              "</table>\n",
              "</div>"
            ],
            "text/plain": [
              "   longitude  latitude  housing_median_age  total_rooms  total_bedrooms  \\\n",
              "0    -122.23     37.88                41.0        880.0           129.0   \n",
              "1    -122.22     37.86                21.0       7099.0          1106.0   \n",
              "2    -122.24     37.85                52.0       1467.0           190.0   \n",
              "3    -122.25     37.85                52.0       1274.0           235.0   \n",
              "4    -122.25     37.85                52.0       1627.0           280.0   \n",
              "\n",
              "   population  households  median_income  median_house_value ocean_proximity  \n",
              "0       322.0       126.0         8.3252            452600.0        NEAR BAY  \n",
              "1      2401.0      1138.0         8.3014            358500.0        NEAR BAY  \n",
              "2       496.0       177.0         7.2574            352100.0        NEAR BAY  \n",
              "3       558.0       219.0         5.6431            341300.0        NEAR BAY  \n",
              "4       565.0       259.0         3.8462            342200.0        NEAR BAY  "
            ]
          },
          "metadata": {
            "tags": []
          },
          "execution_count": 88
        }
      ]
    },
    {
      "cell_type": "code",
      "metadata": {
        "id": "y41T4tdWhcRG"
      },
      "source": [
        "housing_median_age = tf.feature_column.numeric_column(\"housing_median_age\")"
      ],
      "execution_count": null,
      "outputs": []
    },
    {
      "cell_type": "code",
      "metadata": {
        "id": "zEDKGs98hcRH"
      },
      "source": [
        "age_mean, age_std = X_mean[1], X_std[1]  # The median age is column in 1\n",
        "housing_median_age = tf.feature_column.numeric_column(\n",
        "    \"housing_median_age\", normalizer_fn=lambda x: (x - age_mean) / age_std)"
      ],
      "execution_count": null,
      "outputs": []
    },
    {
      "cell_type": "code",
      "metadata": {
        "id": "msJCouu-hcRJ"
      },
      "source": [
        "median_income = tf.feature_column.numeric_column(\"median_income\")\n",
        "bucketized_income = tf.feature_column.bucketized_column(\n",
        "    median_income, boundaries=[1.5, 3., 4.5, 6.])"
      ],
      "execution_count": null,
      "outputs": []
    },
    {
      "cell_type": "code",
      "metadata": {
        "id": "oGxr-sXEhcRL",
        "outputId": "6053f066-4107-4df8-8f40-66c30f4bfdbf"
      },
      "source": [
        "bucketized_income"
      ],
      "execution_count": null,
      "outputs": [
        {
          "output_type": "execute_result",
          "data": {
            "text/plain": [
              "BucketizedColumn(source_column=NumericColumn(key='median_income', shape=(1,), default_value=None, dtype=tf.float32, normalizer_fn=None), boundaries=(1.5, 3.0, 4.5, 6.0))"
            ]
          },
          "metadata": {
            "tags": []
          },
          "execution_count": 92
        }
      ]
    },
    {
      "cell_type": "code",
      "metadata": {
        "id": "3jlUURrChcRP"
      },
      "source": [
        "ocean_prox_vocab = ['<1H OCEAN', 'INLAND', 'ISLAND', 'NEAR BAY', 'NEAR OCEAN']\n",
        "ocean_proximity = tf.feature_column.categorical_column_with_vocabulary_list(\n",
        "    \"ocean_proximity\", ocean_prox_vocab)"
      ],
      "execution_count": null,
      "outputs": []
    },
    {
      "cell_type": "code",
      "metadata": {
        "id": "l9yiCzRVhcRQ",
        "outputId": "3b56ea3c-1dc6-4bc4-8a4a-4801d9a221cb"
      },
      "source": [
        "ocean_proximity"
      ],
      "execution_count": null,
      "outputs": [
        {
          "output_type": "execute_result",
          "data": {
            "text/plain": [
              "VocabularyListCategoricalColumn(key='ocean_proximity', vocabulary_list=('<1H OCEAN', 'INLAND', 'ISLAND', 'NEAR BAY', 'NEAR OCEAN'), dtype=tf.string, default_value=-1, num_oov_buckets=0)"
            ]
          },
          "metadata": {
            "tags": []
          },
          "execution_count": 94
        }
      ]
    },
    {
      "cell_type": "code",
      "metadata": {
        "id": "5F0yUw30hcRR",
        "outputId": "21de23e6-4224-4147-f6e8-73a5915e1b63"
      },
      "source": [
        "# Just an example, it's not used later on\n",
        "city_hash = tf.feature_column.categorical_column_with_hash_bucket(\n",
        "    \"city\", hash_bucket_size=1000)\n",
        "city_hash"
      ],
      "execution_count": null,
      "outputs": [
        {
          "output_type": "execute_result",
          "data": {
            "text/plain": [
              "HashedCategoricalColumn(key='city', hash_bucket_size=1000, dtype=tf.string)"
            ]
          },
          "metadata": {
            "tags": []
          },
          "execution_count": 95
        }
      ]
    },
    {
      "cell_type": "code",
      "metadata": {
        "id": "a6wrVoiohcRT"
      },
      "source": [
        "bucketized_age = tf.feature_column.bucketized_column(\n",
        "    housing_median_age, boundaries=[-1., -0.5, 0., 0.5, 1.]) # age was scaled\n",
        "age_and_ocean_proximity = tf.feature_column.crossed_column(\n",
        "    [bucketized_age, ocean_proximity], hash_bucket_size=100)"
      ],
      "execution_count": null,
      "outputs": []
    },
    {
      "cell_type": "code",
      "metadata": {
        "id": "y7xbbimChcRU"
      },
      "source": [
        "latitude = tf.feature_column.numeric_column(\"latitude\")\n",
        "longitude = tf.feature_column.numeric_column(\"longitude\")\n",
        "bucketized_latitude = tf.feature_column.bucketized_column(\n",
        "    latitude, boundaries=list(np.linspace(32., 42., 20 - 1)))\n",
        "bucketized_longitude = tf.feature_column.bucketized_column(\n",
        "    longitude, boundaries=list(np.linspace(-125., -114., 20 - 1)))\n",
        "location = tf.feature_column.crossed_column(\n",
        "    [bucketized_latitude, bucketized_longitude], hash_bucket_size=1000)"
      ],
      "execution_count": null,
      "outputs": []
    },
    {
      "cell_type": "code",
      "metadata": {
        "id": "DNOmKm3VhcRV"
      },
      "source": [
        "ocean_proximity_one_hot = tf.feature_column.indicator_column(ocean_proximity)"
      ],
      "execution_count": null,
      "outputs": []
    },
    {
      "cell_type": "code",
      "metadata": {
        "id": "teVyH29VhcRW"
      },
      "source": [
        "ocean_proximity_embed = tf.feature_column.embedding_column(ocean_proximity,\n",
        "                                                           dimension=2)"
      ],
      "execution_count": null,
      "outputs": []
    },
    {
      "cell_type": "markdown",
      "metadata": {
        "id": "Q02aFdKmhcRZ"
      },
      "source": [
        "### Using Feature Columns for Parsing"
      ]
    },
    {
      "cell_type": "code",
      "metadata": {
        "id": "hWn0kAm6hcRZ"
      },
      "source": [
        "median_house_value = tf.feature_column.numeric_column(\"median_house_value\")"
      ],
      "execution_count": null,
      "outputs": []
    },
    {
      "cell_type": "code",
      "metadata": {
        "id": "q_6gDBpjhcRa",
        "outputId": "5e5825a8-f6bd-4da0-f9b2-7aff42b3bfd8"
      },
      "source": [
        "columns = [housing_median_age, median_house_value]\n",
        "feature_descriptions = tf.feature_column.make_parse_example_spec(columns)\n",
        "feature_descriptions"
      ],
      "execution_count": null,
      "outputs": [
        {
          "output_type": "execute_result",
          "data": {
            "text/plain": [
              "{'housing_median_age': FixedLenFeature(shape=(1,), dtype=tf.float32, default_value=None),\n",
              " 'median_house_value': FixedLenFeature(shape=(1,), dtype=tf.float32, default_value=None)}"
            ]
          },
          "metadata": {
            "tags": []
          },
          "execution_count": 101
        }
      ]
    },
    {
      "cell_type": "code",
      "metadata": {
        "id": "yEzpYbAOhcRc"
      },
      "source": [
        "with tf.io.TFRecordWriter(\"my_data_with_features.tfrecords\") as f:\n",
        "    for x, y in zip(X_train[:, 1:2], y_train):\n",
        "        example = Example(features=Features(feature={\n",
        "            \"housing_median_age\": Feature(float_list=FloatList(value=[x])),\n",
        "            \"median_house_value\": Feature(float_list=FloatList(value=[y]))\n",
        "        }))\n",
        "        f.write(example.SerializeToString())"
      ],
      "execution_count": null,
      "outputs": []
    },
    {
      "cell_type": "code",
      "metadata": {
        "id": "dJPGt1QWhcRd"
      },
      "source": [
        "keras.backend.clear_session()\n",
        "np.random.seed(42)\n",
        "tf.random.set_seed(42)"
      ],
      "execution_count": null,
      "outputs": []
    },
    {
      "cell_type": "code",
      "metadata": {
        "id": "ib45DbvOhcRe"
      },
      "source": [
        "def parse_examples(serialized_examples):\n",
        "    examples = tf.io.parse_example(serialized_examples, feature_descriptions)\n",
        "    targets = examples.pop(\"median_house_value\") # separate the targets\n",
        "    return examples, targets\n",
        "\n",
        "batch_size = 32\n",
        "dataset = tf.data.TFRecordDataset([\"my_data_with_features.tfrecords\"])\n",
        "dataset = dataset.repeat().shuffle(10000).batch(batch_size).map(parse_examples)"
      ],
      "execution_count": null,
      "outputs": []
    },
    {
      "cell_type": "markdown",
      "metadata": {
        "id": "3LP_jQq3hcRh"
      },
      "source": [
        "**Warning**: the `DenseFeatures` layer currently does not work with the Functional API, see [TF issue #27416](https://github.com/tensorflow/tensorflow/issues/27416). Hopefully this will be resolved before the final release of TF 2.0."
      ]
    },
    {
      "cell_type": "code",
      "metadata": {
        "id": "lW3aFHcohcRh",
        "outputId": "f498c78d-c142-4581-da1b-d6386b93e5fc"
      },
      "source": [
        "columns_without_target = columns[:-1]\n",
        "model = keras.models.Sequential([\n",
        "    keras.layers.DenseFeatures(feature_columns=columns_without_target),\n",
        "    keras.layers.Dense(1)\n",
        "])\n",
        "model.compile(loss=\"mse\",\n",
        "              optimizer=keras.optimizers.SGD(lr=1e-3),\n",
        "              metrics=[\"accuracy\"])\n",
        "model.fit(dataset, steps_per_epoch=len(X_train) // batch_size, epochs=5)"
      ],
      "execution_count": null,
      "outputs": [
        {
          "output_type": "stream",
          "text": [
            "Train for 362 steps\n",
            "Epoch 1/5\n",
            "362/362 [==============================] - 0s 1ms/step - loss: 3.8260 - accuracy: 0.0016\n",
            "Epoch 2/5\n",
            "362/362 [==============================] - 0s 681us/step - loss: 1.8512 - accuracy: 0.0024\n",
            "Epoch 3/5\n",
            "362/362 [==============================] - 0s 676us/step - loss: 1.4748 - accuracy: 0.0032\n",
            "Epoch 4/5\n",
            "362/362 [==============================] - 0s 693us/step - loss: 1.3447 - accuracy: 0.0028\n",
            "Epoch 5/5\n",
            "362/362 [==============================] - 0s 754us/step - loss: 1.3325 - accuracy: 0.0032\n"
          ],
          "name": "stdout"
        },
        {
          "output_type": "execute_result",
          "data": {
            "text/plain": [
              "<tensorflow.python.keras.callbacks.History at 0x7fa791219e90>"
            ]
          },
          "metadata": {
            "tags": []
          },
          "execution_count": 105
        }
      ]
    },
    {
      "cell_type": "code",
      "metadata": {
        "id": "b1t8dr2jhcRi",
        "outputId": "c4287f29-ffa4-4cc3-e1d1-41b90ffa0116"
      },
      "source": [
        "some_columns = [ocean_proximity_embed, bucketized_income]\n",
        "dense_features = keras.layers.DenseFeatures(some_columns)\n",
        "dense_features({\n",
        "    \"ocean_proximity\": [[\"NEAR OCEAN\"], [\"INLAND\"], [\"INLAND\"]],\n",
        "    \"median_income\": [[3.], [7.2], [1.]]\n",
        "})"
      ],
      "execution_count": null,
      "outputs": [
        {
          "output_type": "execute_result",
          "data": {
            "text/plain": [
              "<tf.Tensor: shape=(3, 7), dtype=float32, numpy=\n",
              "array([[ 0.        ,  0.        ,  1.        ,  0.        ,  0.        ,\n",
              "        -0.14504611,  0.7563394 ],\n",
              "       [ 0.        ,  0.        ,  0.        ,  0.        ,  1.        ,\n",
              "        -1.1119912 ,  0.56957847],\n",
              "       [ 1.        ,  0.        ,  0.        ,  0.        ,  0.        ,\n",
              "        -1.1119912 ,  0.56957847]], dtype=float32)>"
            ]
          },
          "metadata": {
            "tags": []
          },
          "execution_count": 106
        }
      ]
    },
    {
      "cell_type": "markdown",
      "metadata": {
        "id": "GKyhZnvOhcRj"
      },
      "source": [
        "# TF Transform"
      ]
    },
    {
      "cell_type": "code",
      "metadata": {
        "id": "lzCmwqTQhcRk"
      },
      "source": [
        "try:\n",
        "    import tensorflow_transform as tft\n",
        "\n",
        "    def preprocess(inputs):  # inputs is a batch of input features\n",
        "        median_age = inputs[\"housing_median_age\"]\n",
        "        ocean_proximity = inputs[\"ocean_proximity\"]\n",
        "        standardized_age = tft.scale_to_z_score(median_age - tft.mean(median_age))\n",
        "        ocean_proximity_id = tft.compute_and_apply_vocabulary(ocean_proximity)\n",
        "        return {\n",
        "            \"standardized_median_age\": standardized_age,\n",
        "            \"ocean_proximity_id\": ocean_proximity_id\n",
        "        }\n",
        "except ImportError:\n",
        "    print(\"TF Transform is not installed. Try running: pip3 install -U tensorflow-transform\")"
      ],
      "execution_count": null,
      "outputs": []
    },
    {
      "cell_type": "markdown",
      "metadata": {
        "id": "pWs_y-gShcRr"
      },
      "source": [
        "# TensorFlow Hub"
      ]
    },
    {
      "cell_type": "code",
      "metadata": {
        "id": "zWd-Gj9GhcRr"
      },
      "source": [
        "keras.backend.clear_session()\n",
        "np.random.seed(42)\n",
        "tf.random.set_seed(42)"
      ],
      "execution_count": null,
      "outputs": []
    },
    {
      "cell_type": "code",
      "metadata": {
        "id": "Vos25yruhcRs",
        "outputId": "e9864879-b1b0-4940-e7c3-f2a6c9954064"
      },
      "source": [
        "import tensorflow_hub as hub\n",
        "\n",
        "hub_layer = hub.KerasLayer(\"https://tfhub.dev/google/tf2-preview/nnlm-en-dim50/1\",\n",
        "                           output_shape=[50], input_shape=[], dtype=tf.string)\n",
        "\n",
        "model = keras.Sequential()\n",
        "model.add(hub_layer)\n",
        "model.add(keras.layers.Dense(16, activation='relu'))\n",
        "model.add(keras.layers.Dense(1, activation='sigmoid'))\n",
        "\n",
        "model.summary()"
      ],
      "execution_count": null,
      "outputs": [
        {
          "output_type": "stream",
          "text": [
            "Model: \"sequential\"\n",
            "_________________________________________________________________\n",
            "Layer (type)                 Output Shape              Param #   \n",
            "=================================================================\n",
            "keras_layer (KerasLayer)     (None, 50)                48190600  \n",
            "_________________________________________________________________\n",
            "dense (Dense)                (None, 16)                816       \n",
            "_________________________________________________________________\n",
            "dense_1 (Dense)              (None, 1)                 17        \n",
            "=================================================================\n",
            "Total params: 48,191,433\n",
            "Trainable params: 833\n",
            "Non-trainable params: 48,190,600\n",
            "_________________________________________________________________\n"
          ],
          "name": "stdout"
        }
      ]
    },
    {
      "cell_type": "code",
      "metadata": {
        "id": "ghc3CwgyhcRt"
      },
      "source": [
        "sentences = tf.constant([\"It was a great movie\", \"The actors were amazing\"])\n",
        "embeddings = hub_layer(sentences)"
      ],
      "execution_count": null,
      "outputs": []
    },
    {
      "cell_type": "code",
      "metadata": {
        "id": "4wVL82fghcRu",
        "outputId": "efcbd115-6bae-4808-988e-f9e72e1808c3"
      },
      "source": [
        "embeddings"
      ],
      "execution_count": null,
      "outputs": [
        {
          "output_type": "execute_result",
          "data": {
            "text/plain": [
              "<tf.Tensor: shape=(2, 50), dtype=float32, numpy=\n",
              "array([[ 7.45939985e-02,  2.76720114e-02,  9.38646123e-02,\n",
              "         1.25124469e-01,  5.40293928e-04, -1.09435350e-01,\n",
              "         1.34755149e-01, -9.57818255e-02, -1.85177118e-01,\n",
              "        -1.69703495e-02,  1.75612606e-02, -9.06603858e-02,\n",
              "         1.12110220e-01,  1.04646273e-01,  3.87700424e-02,\n",
              "        -7.71859884e-02, -3.12189370e-01,  6.99466765e-02,\n",
              "        -4.88970093e-02, -2.99049795e-01,  1.31183028e-01,\n",
              "        -2.12630898e-01,  6.96169436e-02,  1.63592950e-01,\n",
              "         1.05169769e-02,  7.79720694e-02, -2.55230188e-01,\n",
              "        -1.80790052e-01,  2.93739915e-01,  1.62875261e-02,\n",
              "        -2.80566931e-01,  1.60284728e-01,  9.87277832e-03,\n",
              "         8.44555616e-04,  8.39456245e-02,  3.24002892e-01,\n",
              "         1.53253034e-01, -3.01048346e-02,  8.94618109e-02,\n",
              "        -2.39153411e-02, -1.50188789e-01, -1.81733668e-02,\n",
              "        -1.20483577e-01,  1.32937476e-01, -3.35325629e-01,\n",
              "        -1.46504581e-01, -1.25251599e-02, -1.64428815e-01,\n",
              "        -7.00765476e-02,  3.60923223e-02],\n",
              "       [-1.56998575e-01,  4.24599349e-02, -5.57703003e-02,\n",
              "        -8.08446854e-03,  1.23733155e-01,  3.89427543e-02,\n",
              "        -4.37901802e-02, -1.86987907e-01, -2.29341656e-01,\n",
              "        -1.27766818e-01,  3.83025259e-02, -1.07057482e-01,\n",
              "        -6.11584112e-02,  2.49654502e-01, -1.39712945e-01,\n",
              "        -3.91289443e-02, -1.35873526e-01, -3.58613044e-01,\n",
              "         2.53462754e-02, -1.58370987e-01, -1.38350084e-01,\n",
              "        -3.90771806e-01, -6.63642734e-02, -3.24838236e-02,\n",
              "        -2.20453963e-02, -1.68282315e-01, -7.40613639e-02,\n",
              "        -2.49074101e-02,  2.46460736e-01,  9.87201929e-05,\n",
              "        -1.85390845e-01, -4.92824614e-02,  1.09015472e-01,\n",
              "        -9.54203904e-02, -1.60352528e-01, -2.59811729e-02,\n",
              "         1.13778859e-01, -2.09578887e-01,  2.18261331e-01,\n",
              "        -3.11211571e-02, -6.12562597e-02, -8.66057724e-02,\n",
              "        -1.10762455e-01, -5.73977083e-03, -1.08923554e-01,\n",
              "        -1.72919363e-01,  1.00515485e-01, -5.64153939e-02,\n",
              "        -4.97694984e-02, -1.07776590e-01]], dtype=float32)>"
            ]
          },
          "metadata": {
            "tags": []
          },
          "execution_count": 117
        }
      ]
    }
  ]
}