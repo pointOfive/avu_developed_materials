{
 "cells": [
  {
   "cell_type": "code",
   "execution_count": 645,
   "metadata": {},
   "outputs": [
    {
     "ename": "SyntaxError",
     "evalue": "invalid syntax (<ipython-input-645-3351cd882185>, line 1)",
     "output_type": "error",
     "traceback": [
      "\u001b[0;36m  File \u001b[0;32m\"<ipython-input-645-3351cd882185>\"\u001b[0;36m, line \u001b[0;32m1\u001b[0m\n\u001b[0;31m    1: sports: +Youseff (21/k)\u001b[0m\n\u001b[0m             ^\u001b[0m\n\u001b[0;31mSyntaxError\u001b[0m\u001b[0;31m:\u001b[0m invalid syntax\n"
     ]
    }
   ],
   "source": [
    "1: sports: +Youseff (21/k); john zhang/joe cho\n",
    "        \n",
    "2: learning: +kevin hoffman(5/e); gabe/andrew graves\n",
    "    \n",
    "3: alex/joseph wysocki(6: colorization)\n",
    "{26: (3,6,26,30,12)}\n",
    "{26: Beverly Dobrenz}\n",
    "{26: \"The Effects of Data Augmentation on Vehicle Image Classification\"}\n",
    "\n",
    "\n",
    "{32: (32, 21,11,18)}# a(24)+h(27) amanda west + sean grace; Ben Cosgro\n",
    "{9: (1, 9, 14)}# andre Z + clair McCaffery; Charlie\n",
    "{30: (26, 28, 12, 11)} # jae yoon (m/28) + rachel filderman (l/22) + Congxin(David) Xu  \n",
    "{4 : (4, 35, 1, 21)} # Gaurav Anand + Jordan Machita; Holden Bridge\n",
    "\n",
    "{34:(34, 14, 25, 19, 11)} # swathi (f/17) + JAY CHOI; Kaleb Shikur  \n",
    "\n",
    "{15: {15,12,9}} # paven (f/6) and siddharth (g/8); Kip\n",
    "{12: (12, 9, 26, 4, 14, 31, 32)} # Ashley (c/10) Emily (d/36); Marrisa Shand\n",
    "\n",
    "{11: (11,8,12,29,21)} # ** 11/31/19\n",
    "{18: (18, 12, 21)} # + Joon + David Vann\n",
    "{19: (19, 32, 11, 21)} # 11/31/19\n",
    "{31: (11, 32, 9, 31)} # ** 11/31/19\n",
    "{25: (25, 12, 26, 2, 4)}# 18+Joon\n",
    "{14: (14, 12, 9)}# + Diyu + surbhi\n",
    "\n",
    "\n",
    "\n",
    "\n",
    "{32: \"Benjamin Cosgro\"}\n",
    "{9: \"Charlie Putnam\"}#/Clair\n",
    "{30: \"Congxin Xu\"}#<-Beverly\n",
    "{4: 'Holden Bridge'}# Gaurav Anand + ?\n",
    "{34: \"Kaleb Shikur\"}\n",
    "{15: \"Kip McCharen\"}\n",
    "{12: \"Marissa Shand\"}\n",
    "{11: 'Taylor Rohrich'}\n",
    "{18: \"Vasudha Manikandan\"}\n",
    "{19: \"Yusheng Jiang\"}\n",
    "{31: \"Michael Pajewski\"}\n",
    "{25: 'David Vann'}\n",
    "{14: \"Haizhu Hong\"}\n",
    "\n",
    "\n",
    "{32 : \"Predicting Chronic Wasting Disease in White-tailed Deer in Virginia\"}\n",
    "{9: \"Summarize ML Papers Using NLP and Transformers\"}\n",
    "{30: \"The Effects of Data Augmentation on Vehicle Image Classification\"}#<-Beverly\n",
    "{4 : 'Detecting Drunkenness From Smartphone Data'}\n",
    "{34: \"Driver Injury Severity Prediction\"}\n",
    "{15: \"Phoneme Prediction from Voice Audio\"}\n",
    "{12: \"Goodreads Book Recommendation Model\"}\n",
    "{11: 'using deep learning to predict clickbait'}\n",
    "{18: \"Currency classification\"}\n",
    "{19: \"Face Mask Detection\"}\n",
    "{31: \"Predicting Building Damage Gorkha Earthquake Nepal\"}\n",
    "{25: 'Food Recognition'}\n",
    "{14: \"Predict Yelp Ratings Using Text and Metadata\"}\n",
    "\n",
    "\n",
    "\n",
    "\n",
    "\n",
    "\n",
    "\n",
    "{24: (21, 32, 18, 14, 31, 26, 19)} \n",
    "{43: (14, 9, 18, 15, 12, 25, 26)}\n",
    "{10: (12, 11, 32, 9, 18, 2)}\n",
    "{36: (12,14,11,31,18)}\n",
    "{5: (2,9,11,32)}\n",
    "{16: (11, 25, 15, 12, 18, 4)}\n",
    "{8: (11,12,29,15,21)}\n",
    "{27: (21, 1, 11, 32, 4)}\n",
    "{20: (14,9, 18, 35, 11)}\n",
    "{17: (29, 11, 34, 12, 18)}\n",
    "{21: (1, 4,9, 2, 26, 29, 32)}\n",
    "{22: (26,11,12,31,41)}\n",
    "{28: (26, 2, 21, 4, 12)}\n",
    "{7: (12, 35, 21, 4, 26, 11, 31)}\n",
    "\n",
    "{24: \"Amanda West\"}\n",
    "{43: 'André Zazzera'}\n",
    "{10: 'Ashley Scurlock'}\n",
    "{36: 'Emily Murphy'}\n",
    "{5: \"Kevin Hoffman\"}\n",
    "{16: \"Pavan Kumar Bondalapati\"}\n",
    "{8: 'Siddharth Surapaneni'}\n",
    "{27: \"Sean Grace\"}\n",
    "{20: \"Surbhi Singh\"}\n",
    "{17: 'Swathi Samuel'}\n",
    "{21: \"Youssef Abubaker\"}\n",
    "{22: \"Rachel Filderman\"}\n",
    "{28: \"Jae Yoon Sung\"}\n",
    "{7: \"Jordan Machita\"}\n",
    "\n",
    "\n",
    "{24: \"Aerial Image Recognition with CNNs\"}\n",
    "{43: 'Speech to text recognition'}\n",
    "{10: 'Sentiment Analysis of Tweets During the Coronavirus Pandemic.'}\n",
    "{36:'Predicting Enrollment in Higher Ed'}\n",
    "{5: \"Benchmarking Malware Detection Models\"}\n",
    "{16: \"Emotional Speech Generation Using a Conditional GAN\"}\n",
    "{8: 'pass'}\n",
    "{27: \"Traffic Sign Recognition with Deep Learning\"}\n",
    "{20: \"Covid Detection CNNS\"}\n",
    "{17: 'Digit Detection for Teachers'}\n",
    "{21: \"Predicting Neighborhood Wealth using Google StreetView.\"}\n",
    "{22: \"ANALYZING THE UTILIZATION OF DEEP LEARNING TECHNIQUES FOR IMAGE RECOGNITION IN FINE ART\"\n",
    "{28: \"Pass\"}\n",
    "{7: \"Pass\"}\n",
    "\n",
    "\n",
    "\n",
    "\n",
    "\n"
   ]
  },
  {
   "cell_type": "code",
   "execution_count": 445,
   "metadata": {},
   "outputs": [
    {
     "name": "stdout",
     "output_type": "stream",
     "text": [
      "# conda environments:\r\n",
      "#\r\n",
      "base                     /Users/gck8gd/opt/anaconda3\r\n",
      "PyMC                     /Users/gck8gd/opt/anaconda3/envs/PyMC\r\n",
      "comm_w_data_3003         /Users/gck8gd/opt/anaconda3/envs/comm_w_data_3003\r\n",
      "deep_learning_6018    *  /Users/gck8gd/opt/anaconda3/envs/deep_learning_6018\r\n",
      "\r\n"
     ]
    }
   ],
   "source": [
    "! conda env list"
   ]
  },
  {
   "cell_type": "code",
   "execution_count": 552,
   "metadata": {},
   "outputs": [
    {
     "data": {
      "text/plain": [
       "{'A': (32, 21, 11, 18),\n",
       " 'B': (1, 9, 14),\n",
       " 'C': (26, 28, 12, 11),\n",
       " 'D': (4, 35, 1, 21),\n",
       " 'E': (34, 14, 25, 19, 11),\n",
       " 'F': {9, 12, 15},\n",
       " 'G': (12, 9, 26, 4, 14, 31, 32),\n",
       " 'H': (11, 8, 12, 29, 21),\n",
       " 'I': (18, 12, 21),\n",
       " 'J': (19, 32, 11, 21),\n",
       " 'K': (11, 32, 9, 31),\n",
       " 'L': (25, 12, 26, 2, 4),\n",
       " 'M': (14, 12, 9)}"
      ]
     },
     "execution_count": 552,
     "metadata": {},
     "output_type": "execute_result"
    }
   ],
   "source": [
    "tmp = {32: (32, 21,11,18),\n",
    "       9: (1, 9, 14), \n",
    "       26: (26, 28, 12, 11),#26<-30\n",
    "       4 : (4, 35, 1, 21),\n",
    "       34:(34, 14, 25, 19, 11),\n",
    "       15: {15,12,9},\n",
    "       12: (12, 9, 26, 4, 14, 31, 32),\n",
    "       11: (11,8,12,29,21),\n",
    "       18: (18, 12, 21),\n",
    "       19: (19, 32, 11, 21),\n",
    "       31: (11, 32, 9, 31),\n",
    "       25: (25, 12, 26, 2, 4),\n",
    "       14: (14, 12, 9)}\n",
    "\n",
    "sho = {}\n",
    "anon_sho = 'ABCDEFGHIJKLMNOP'\n",
    "anon_id = {}\n",
    "id_anon = {}\n",
    "\n",
    "for i,(k,v) in enumerate(tmp.items()):\n",
    "    sho[anon_sho[i]] = v\n",
    "    anon_id[anon_sho[i]] = k\n",
    "    id_anon[k] = anon_sho[i]\n",
    "\n",
    "sho"
   ]
  },
  {
   "cell_type": "code",
   "execution_count": 553,
   "metadata": {},
   "outputs": [
    {
     "data": {
      "text/plain": [
       "{'a': (21, 32, 18, 14, 31, 26, 19),\n",
       " 'b': (14, 9, 18, 15, 12, 25, 26),\n",
       " 'c': (12, 11, 32, 9, 18, 2),\n",
       " 'd': (12, 14, 11, 31, 18),\n",
       " 'e': (2, 9, 11, 32),\n",
       " 'f': (11, 25, 15, 12, 18, 4),\n",
       " 'g': (11, 12, 29, 15, 21),\n",
       " 'h': (21, 1, 11, 32, 4),\n",
       " 'i': (14, 9, 18, 35, 11),\n",
       " 'j': (29, 11, 34, 12, 18),\n",
       " 'k': (1, 4, 9, 2, 26, 29, 32),\n",
       " 'l': (26, 11, 12, 31, 41),\n",
       " 'm': (26, 2, 21, 4, 12)}"
      ]
     },
     "execution_count": 553,
     "metadata": {},
     "output_type": "execute_result"
    }
   ],
   "source": [
    "tmp = {24: (21, 32, 18, 14, 31, 26, 19), \n",
    "       43: (14, 9, 18, 15, 12, 25, 26), \n",
    "       10: (12, 11, 32, 9, 18, 2),\n",
    "       36: (12,14,11,31,18), \n",
    "       5: (2,9,11,32),\n",
    "       16: (11, 25, 15, 12, 18, 4), \n",
    "       8: (11,12,29,15,21),\n",
    "       27: (21, 1, 11, 32, 4),\n",
    "       20: (14,9, 18, 35, 11), \n",
    "       17: (29, 11, 34, 12, 18),\n",
    "       21: (1, 4,9, 2, 26, 29, 32),\n",
    "       22: (26,11,12,31,41),\n",
    "       28: (26, 2, 21, 4, 12)}\n",
    "\n",
    "pas = {}\n",
    "anon_pas = 'abcdefghijklmnop'\n",
    "\n",
    "for i,(k,v) in enumerate(tmp.items()):\n",
    "    pas[anon_pas[i]] = v\n",
    "    anon_id[anon_pas[i]] = k\n",
    "    id_anon[k] = anon_pas[i]\n",
    "\n",
    "pas"
   ]
  },
  {
   "cell_type": "code",
   "execution_count": 554,
   "metadata": {},
   "outputs": [
    {
     "data": {
      "text/plain": [
       "({'A': 32,\n",
       "  'B': 9,\n",
       "  'C': 26,\n",
       "  'D': 4,\n",
       "  'E': 34,\n",
       "  'F': 15,\n",
       "  'G': 12,\n",
       "  'H': 11,\n",
       "  'I': 18,\n",
       "  'J': 19,\n",
       "  'K': 31,\n",
       "  'L': 25,\n",
       "  'M': 14,\n",
       "  'a': 24,\n",
       "  'b': 43,\n",
       "  'c': 10,\n",
       "  'd': 36,\n",
       "  'e': 5,\n",
       "  'f': 16,\n",
       "  'g': 8,\n",
       "  'h': 27,\n",
       "  'i': 20,\n",
       "  'j': 17,\n",
       "  'k': 21,\n",
       "  'l': 22,\n",
       "  'm': 28},\n",
       " {32: 'A',\n",
       "  9: 'B',\n",
       "  26: 'C',\n",
       "  4: 'D',\n",
       "  34: 'E',\n",
       "  15: 'F',\n",
       "  12: 'G',\n",
       "  11: 'H',\n",
       "  18: 'I',\n",
       "  19: 'J',\n",
       "  31: 'K',\n",
       "  25: 'L',\n",
       "  14: 'M',\n",
       "  24: 'a',\n",
       "  43: 'b',\n",
       "  10: 'c',\n",
       "  36: 'd',\n",
       "  5: 'e',\n",
       "  16: 'f',\n",
       "  8: 'g',\n",
       "  27: 'h',\n",
       "  20: 'i',\n",
       "  17: 'j',\n",
       "  21: 'k',\n",
       "  22: 'l',\n",
       "  28: 'm'})"
      ]
     },
     "execution_count": 554,
     "metadata": {},
     "output_type": "execute_result"
    }
   ],
   "source": [
    "anon_id, id_anon"
   ]
  },
  {
   "cell_type": "code",
   "execution_count": 555,
   "metadata": {},
   "outputs": [
    {
     "data": {
      "text/plain": [
       "{'A': (32, 21, 11, 18),\n",
       " 'B': (1, 9, 14),\n",
       " 'C': (26, 28, 12, 11),\n",
       " 'D': (4, 35, 1, 21),\n",
       " 'E': (34, 14, 25, 19, 11),\n",
       " 'F': {9, 12, 15},\n",
       " 'G': (12, 9, 26, 4, 14, 31, 32),\n",
       " 'H': (11, 8, 12, 29, 21),\n",
       " 'I': (18, 12, 21),\n",
       " 'J': (19, 32, 11, 21),\n",
       " 'K': (11, 32, 9, 31),\n",
       " 'L': (25, 12, 26, 2, 4),\n",
       " 'M': (14, 12, 9),\n",
       " 'a': (21, 32, 18, 14, 31, 26, 19),\n",
       " 'b': (14, 9, 18, 15, 12, 25, 26),\n",
       " 'c': (12, 11, 32, 9, 18, 2),\n",
       " 'd': (12, 14, 11, 31, 18),\n",
       " 'e': (2, 9, 11, 32),\n",
       " 'f': (11, 25, 15, 12, 18, 4),\n",
       " 'g': (11, 12, 29, 15, 21),\n",
       " 'h': (21, 1, 11, 32, 4),\n",
       " 'i': (14, 9, 18, 35, 11),\n",
       " 'j': (29, 11, 34, 12, 18),\n",
       " 'k': (1, 4, 9, 2, 26, 29, 32),\n",
       " 'l': (26, 11, 12, 31, 41),\n",
       " 'm': (26, 2, 21, 4, 12)}"
      ]
     },
     "execution_count": 555,
     "metadata": {},
     "output_type": "execute_result"
    }
   ],
   "source": [
    "sho.update(pas)\n",
    "sho"
   ]
  },
  {
   "cell_type": "code",
   "execution_count": 556,
   "metadata": {},
   "outputs": [],
   "source": [
    "\n",
    "for k,v in sho.items():\n",
    "    prefs = sho[k]\n",
    "    sho[k] = [id_anon[i] for i in prefs if i in id_anon]\n",
    "\n"
   ]
  },
  {
   "cell_type": "code",
   "execution_count": 557,
   "metadata": {},
   "outputs": [
    {
     "data": {
      "text/plain": [
       "{'A': ['A', 'k', 'H', 'I'],\n",
       " 'B': ['B', 'M'],\n",
       " 'C': ['C', 'm', 'G', 'H'],\n",
       " 'D': ['D', 'k'],\n",
       " 'E': ['E', 'M', 'L', 'J', 'H'],\n",
       " 'F': ['B', 'G', 'F'],\n",
       " 'G': ['G', 'B', 'C', 'D', 'M', 'K', 'A'],\n",
       " 'H': ['H', 'g', 'G', 'k'],\n",
       " 'I': ['I', 'G', 'k'],\n",
       " 'J': ['J', 'A', 'H', 'k'],\n",
       " 'K': ['H', 'A', 'B', 'K'],\n",
       " 'L': ['L', 'G', 'C', 'D'],\n",
       " 'M': ['M', 'G', 'B'],\n",
       " 'a': ['k', 'A', 'I', 'M', 'K', 'C', 'J'],\n",
       " 'b': ['M', 'B', 'I', 'F', 'G', 'L', 'C'],\n",
       " 'c': ['G', 'H', 'A', 'B', 'I'],\n",
       " 'd': ['G', 'M', 'H', 'K', 'I'],\n",
       " 'e': ['B', 'H', 'A'],\n",
       " 'f': ['H', 'L', 'F', 'G', 'I', 'D'],\n",
       " 'g': ['H', 'G', 'F', 'k'],\n",
       " 'h': ['k', 'H', 'A', 'D'],\n",
       " 'i': ['M', 'B', 'I', 'H'],\n",
       " 'j': ['H', 'E', 'G', 'I'],\n",
       " 'k': ['D', 'B', 'C', 'A'],\n",
       " 'l': ['C', 'H', 'G', 'K'],\n",
       " 'm': ['C', 'k', 'D', 'G']}"
      ]
     },
     "execution_count": 557,
     "metadata": {},
     "output_type": "execute_result"
    }
   ],
   "source": [
    "sho"
   ]
  },
  {
   "cell_type": "code",
   "execution_count": 522,
   "metadata": {},
   "outputs": [
    {
     "name": "stdout",
     "output_type": "stream",
     "text": [
      "Collecting package metadata (current_repodata.json): done\n",
      "Solving environment: \\ \n",
      "The environment is inconsistent, please check the package plan carefully\n",
      "The following packages are causing the inconsistency:\n",
      "\n",
      "  - defaults/osx-64::mkl_random==1.1.1=py38h959d312_0\n",
      "  - conda-forge/osx-64::gym==0.18.0=py38h9bb44b7_0\n",
      "  - defaults/osx-64::scipy==1.5.0=py38hbab996c_0\n",
      "  - defaults/osx-64::patsy==0.5.1=py38_0\n",
      "  - defaults/osx-64::matplotlib==3.3.1=0\n",
      "  - defaults/osx-64::statsmodels==0.12.0=py38haf1e3a3_0\n",
      "  - defaults/osx-64::pandas==1.1.2=py38hb1e8313_0\n",
      "  - defaults/osx-64::matplotlib-base==3.3.1=py38h181983e_0\n",
      "  - defaults/osx-64::numpy==1.19.1=py38h3b9f5b6_0\n",
      "  - defaults/osx-64::mkl_fft==1.2.0=py38hc64f4ea_0\n",
      "done\n",
      "\n",
      "\n",
      "==> WARNING: A newer version of conda exists. <==\n",
      "  current version: 4.8.5\n",
      "  latest version: 4.9.2\n",
      "\n",
      "Please update conda by running\n",
      "\n",
      "    $ conda update -n base -c defaults conda\n",
      "\n",
      "\n",
      "\n",
      "## Package Plan ##\n",
      "\n",
      "  environment location: /Users/gck8gd/opt/anaconda3/envs/deep_learning_6018\n",
      "\n",
      "  added / updated specs:\n",
      "    - networkx\n",
      "\n",
      "\n",
      "The following packages will be downloaded:\n",
      "\n",
      "    package                    |            build\n",
      "    ---------------------------|-----------------\n",
      "    ca-certificates-2021.1.19  |       hecd8cb5_1         118 KB\n",
      "    openssl-1.1.1j             |       h9ed2024_0         2.2 MB\n",
      "    ------------------------------------------------------------\n",
      "                                           Total:         2.3 MB\n",
      "\n",
      "The following NEW packages will be INSTALLED:\n",
      "\n",
      "  networkx           pkgs/main/noarch::networkx-2.5-py_0\n",
      "  numpy-base         pkgs/main/osx-64::numpy-base-1.19.2-py38hcfb5961_0\n",
      "\n",
      "The following packages will be UPDATED:\n",
      "\n",
      "  ca-certificates    conda-forge::ca-certificates-2020.12.~ --> pkgs/main::ca-certificates-2021.1.19-hecd8cb5_1\n",
      "  numpy                               1.19.1-py38h3b9f5b6_0 --> 1.19.2-py38h456fd55_0\n",
      "  openssl            conda-forge::openssl-1.1.1i-h35c211d_0 --> pkgs/main::openssl-1.1.1j-h9ed2024_0\n",
      "\n",
      "The following packages will be SUPERSEDED by a higher-priority channel:\n",
      "\n",
      "  certifi            conda-forge::certifi-2020.12.5-py38h5~ --> pkgs/main::certifi-2020.12.5-py38hecd8cb5_0\n",
      "\n",
      "\n",
      "Proceed ([y]/n)? \n",
      "\n",
      "Downloading and Extracting Packages\n",
      "ca-certificates-2021 | 118 KB    | ##################################### | 100% \n",
      "openssl-1.1.1j       | 2.2 MB    | ##################################### | 100% \n",
      "Preparing transaction: done\n",
      "Verifying transaction: done\n",
      "Executing transaction: done\n",
      "^C\n"
     ]
    }
   ],
   "source": [
    "! yes y | conda install networkx"
   ]
  },
  {
   "cell_type": "code",
   "execution_count": 523,
   "metadata": {},
   "outputs": [],
   "source": [
    "import networkx as nx"
   ]
  },
  {
   "cell_type": "code",
   "execution_count": 558,
   "metadata": {},
   "outputs": [],
   "source": [
    "# https://towardsdatascience.com/visualizing-networks-in-python-d70f4cbeb259\n",
    "G = nx.from_dict_of_lists(sho)"
   ]
  },
  {
   "cell_type": "code",
   "execution_count": 584,
   "metadata": {},
   "outputs": [
    {
     "data": {
      "text/plain": [
       "['__abstractmethods__',\n",
       " '__and__',\n",
       " '__call__',\n",
       " '__class__',\n",
       " '__contains__',\n",
       " '__delattr__',\n",
       " '__dir__',\n",
       " '__doc__',\n",
       " '__eq__',\n",
       " '__format__',\n",
       " '__ge__',\n",
       " '__getattribute__',\n",
       " '__getitem__',\n",
       " '__getstate__',\n",
       " '__gt__',\n",
       " '__hash__',\n",
       " '__init__',\n",
       " '__init_subclass__',\n",
       " '__iter__',\n",
       " '__le__',\n",
       " '__len__',\n",
       " '__lt__',\n",
       " '__module__',\n",
       " '__ne__',\n",
       " '__new__',\n",
       " '__or__',\n",
       " '__rand__',\n",
       " '__reduce__',\n",
       " '__reduce_ex__',\n",
       " '__repr__',\n",
       " '__reversed__',\n",
       " '__ror__',\n",
       " '__rsub__',\n",
       " '__rxor__',\n",
       " '__setattr__',\n",
       " '__setstate__',\n",
       " '__sizeof__',\n",
       " '__slots__',\n",
       " '__str__',\n",
       " '__sub__',\n",
       " '__subclasshook__',\n",
       " '__xor__',\n",
       " '_abc_impl',\n",
       " '_from_iterable',\n",
       " '_hash',\n",
       " '_nodes',\n",
       " 'data',\n",
       " 'get',\n",
       " 'isdisjoint',\n",
       " 'items',\n",
       " 'keys',\n",
       " 'values']"
      ]
     },
     "execution_count": 584,
     "metadata": {},
     "output_type": "execute_result"
    }
   ],
   "source": [
    "dir(G.nodes)"
   ]
  },
  {
   "cell_type": "code",
   "execution_count": 572,
   "metadata": {},
   "outputs": [
    {
     "data": {
      "image/png": "[encoded data removed]",
      "text/plain": [
       "<Figure size 432x288 with 1 Axes>"
      ]
     },
     "metadata": {},
     "output_type": "display_data"
    }
   ],
   "source": [
    "#https://stackoverflow.com/questions/27030473/how-to-set-colors-for-nodes-in-networkx\n",
    "nx.draw(G, node_color=['blue']*13+['red']*13,\n",
    "        edge_color=[('black','gray')[i[0].isupper()!=i[1].islower()] for i in G.edges])"
   ]
  },
  {
   "cell_type": "code",
   "execution_count": 529,
   "metadata": {
    "scrolled": true
   },
   "outputs": [
    {
     "name": "stdout",
     "output_type": "stream",
     "text": [
      "Collecting package metadata (current_repodata.json): done\n",
      "Solving environment: done\n",
      "\n",
      "\n",
      "==> WARNING: A newer version of conda exists. <==\n",
      "  current version: 4.8.5\n",
      "  latest version: 4.9.2\n",
      "\n",
      "Please update conda by running\n",
      "\n",
      "    $ conda update -n base -c defaults conda\n",
      "\n",
      "\n",
      "\n",
      "## Package Plan ##\n",
      "\n",
      "  environment location: /Users/gck8gd/opt/anaconda3/envs/deep_learning_6018\n",
      "\n",
      "  added / updated specs:\n",
      "    - pyvis\n",
      "\n",
      "\n",
      "The following packages will be downloaded:\n",
      "\n",
      "    package                    |            build\n",
      "    ---------------------------|-----------------\n",
      "    ca-certificates-2019.11.28 |       hecc5488_0         145 KB  conda-forge/label/cf202003\n",
      "    certifi-2019.11.28         |   py38h32f6830_1         149 KB  conda-forge/label/cf202003\n",
      "    pyvis-0.1.7.0              |             py_0          21 KB  conda-forge/label/cf202003\n",
      "    ------------------------------------------------------------\n",
      "                                           Total:         315 KB\n",
      "\n",
      "The following NEW packages will be INSTALLED:\n",
      "\n",
      "  pyvis              conda-forge/label/cf202003/noarch::pyvis-0.1.7.0-py_0\n",
      "\n",
      "The following packages will be SUPERSEDED by a higher-priority channel:\n",
      "\n",
      "  ca-certificates    pkgs/main::ca-certificates-2021.1.19-~ --> conda-forge/label/cf202003::ca-certificates-2019.11.28-hecc5488_0\n",
      "  certifi            pkgs/main::certifi-2020.12.5-py38hecd~ --> conda-forge/label/cf202003::certifi-2019.11.28-py38h32f6830_1\n",
      "\n",
      "\n",
      "Proceed ([y]/n)? \n",
      "\n",
      "Downloading and Extracting Packages\n",
      "pyvis-0.1.7.0        | 21 KB     | ##################################### | 100% \n",
      "ca-certificates-2019 | 145 KB    | ##################################### | 100% \n",
      "certifi-2019.11.28   | 149 KB    | ##################################### | 100% \n",
      "Preparing transaction: done\n",
      "Verifying transaction: done\n",
      "Executing transaction: done\n",
      "^C\n"
     ]
    }
   ],
   "source": [
    "! yes y | conda install -c conda-forge/label/cf202003 pyvis"
   ]
  },
  {
   "cell_type": "code",
   "execution_count": 530,
   "metadata": {},
   "outputs": [],
   "source": [
    "from pyvis.network import Network"
   ]
  },
  {
   "cell_type": "code",
   "execution_count": 602,
   "metadata": {},
   "outputs": [],
   "source": [
    "net = Network(notebook=True)\n",
    "net.from_nx(G)\n",
    "net.toggle_physics(False)"
   ]
  },
  {
   "cell_type": "code",
   "execution_count": 612,
   "metadata": {
    "scrolled": true
   },
   "outputs": [
    {
     "data": {
      "text/plain": [
       "[{'from': 'A', 'to': 'A', 'color': 'gray'},\n",
       " {'from': 'A', 'to': 'k', 'color': 'black', 'width': 3},\n",
       " {'from': 'A', 'to': 'H', 'color': 'gray'},\n",
       " {'from': 'A', 'to': 'I', 'color': 'gray'},\n",
       " {'from': 'A', 'to': 'G', 'color': 'gray'},\n",
       " {'from': 'A', 'to': 'J', 'color': 'gray'},\n",
       " {'from': 'A', 'to': 'K', 'color': 'gray'},\n",
       " {'from': 'A', 'to': 'a', 'color': 'black', 'width': 3},\n",
       " {'from': 'A', 'to': 'c', 'color': 'black', 'width': 3},\n",
       " {'from': 'A', 'to': 'e', 'color': 'black', 'width': 3},\n",
       " {'from': 'A', 'to': 'h', 'color': 'black', 'width': 3},\n",
       " {'from': 'B', 'to': 'B', 'color': 'gray'},\n",
       " {'from': 'B', 'to': 'M', 'color': 'gray'},\n",
       " {'from': 'B', 'to': 'F', 'color': 'gray'},\n",
       " {'from': 'B', 'to': 'G', 'color': 'gray'},\n",
       " {'from': 'B', 'to': 'K', 'color': 'gray'},\n",
       " {'from': 'B', 'to': 'b', 'color': 'black', 'width': 3},\n",
       " {'from': 'B', 'to': 'c', 'color': 'black', 'width': 3},\n",
       " {'from': 'B', 'to': 'e', 'color': 'black', 'width': 3},\n",
       " {'from': 'B', 'to': 'i', 'color': 'black', 'width': 3},\n",
       " {'from': 'B', 'to': 'k', 'color': 'black', 'width': 3},\n",
       " {'from': 'C', 'to': 'C', 'color': 'gray'},\n",
       " {'from': 'C', 'to': 'm', 'color': 'black', 'width': 3},\n",
       " {'from': 'C', 'to': 'G', 'color': 'gray'},\n",
       " {'from': 'C', 'to': 'H', 'color': 'gray'},\n",
       " {'from': 'C', 'to': 'L', 'color': 'gray'},\n",
       " {'from': 'C', 'to': 'a', 'color': 'black', 'width': 3},\n",
       " {'from': 'C', 'to': 'b', 'color': 'black', 'width': 3},\n",
       " {'from': 'C', 'to': 'k', 'color': 'black', 'width': 3},\n",
       " {'from': 'C', 'to': 'l', 'color': 'black', 'width': 3},\n",
       " {'from': 'D', 'to': 'D', 'color': 'gray'},\n",
       " {'from': 'D', 'to': 'k', 'color': 'black', 'width': 3},\n",
       " {'from': 'D', 'to': 'G', 'color': 'gray'},\n",
       " {'from': 'D', 'to': 'L', 'color': 'gray'},\n",
       " {'from': 'D', 'to': 'f', 'color': 'black', 'width': 3},\n",
       " {'from': 'D', 'to': 'h', 'color': 'black', 'width': 3},\n",
       " {'from': 'D', 'to': 'm', 'color': 'black', 'width': 3},\n",
       " {'from': 'E', 'to': 'E', 'color': 'gray'},\n",
       " {'from': 'E', 'to': 'M', 'color': 'gray'},\n",
       " {'from': 'E', 'to': 'L', 'color': 'gray'},\n",
       " {'from': 'E', 'to': 'J', 'color': 'gray'},\n",
       " {'from': 'E', 'to': 'H', 'color': 'gray'},\n",
       " {'from': 'E', 'to': 'j', 'color': 'black', 'width': 3},\n",
       " {'from': 'F', 'to': 'G', 'color': 'gray'},\n",
       " {'from': 'F', 'to': 'F', 'color': 'gray'},\n",
       " {'from': 'F', 'to': 'b', 'color': 'black', 'width': 3},\n",
       " {'from': 'F', 'to': 'f', 'color': 'black', 'width': 3},\n",
       " {'from': 'F', 'to': 'g', 'color': 'black', 'width': 3},\n",
       " {'from': 'G', 'to': 'G', 'color': 'gray'},\n",
       " {'from': 'G', 'to': 'M', 'color': 'gray'},\n",
       " {'from': 'G', 'to': 'K', 'color': 'gray'},\n",
       " {'from': 'G', 'to': 'H', 'color': 'gray'},\n",
       " {'from': 'G', 'to': 'I', 'color': 'gray'},\n",
       " {'from': 'G', 'to': 'L', 'color': 'gray'},\n",
       " {'from': 'G', 'to': 'b', 'color': 'black', 'width': 3},\n",
       " {'from': 'G', 'to': 'c', 'color': 'black', 'width': 3},\n",
       " {'from': 'G', 'to': 'd', 'color': 'black', 'width': 3},\n",
       " {'from': 'G', 'to': 'f', 'color': 'black', 'width': 3},\n",
       " {'from': 'G', 'to': 'g', 'color': 'black', 'width': 3},\n",
       " {'from': 'G', 'to': 'j', 'color': 'black', 'width': 3},\n",
       " {'from': 'G', 'to': 'l', 'color': 'black', 'width': 3},\n",
       " {'from': 'G', 'to': 'm', 'color': 'black', 'width': 3},\n",
       " {'from': 'H', 'to': 'H', 'color': 'gray'},\n",
       " {'from': 'H', 'to': 'g', 'color': 'black', 'width': 3},\n",
       " {'from': 'H', 'to': 'k', 'color': 'black', 'width': 3},\n",
       " {'from': 'H', 'to': 'J', 'color': 'gray'},\n",
       " {'from': 'H', 'to': 'K', 'color': 'gray'},\n",
       " {'from': 'H', 'to': 'c', 'color': 'black', 'width': 3},\n",
       " {'from': 'H', 'to': 'd', 'color': 'black', 'width': 3},\n",
       " {'from': 'H', 'to': 'e', 'color': 'black', 'width': 3},\n",
       " {'from': 'H', 'to': 'f', 'color': 'black', 'width': 3},\n",
       " {'from': 'H', 'to': 'h', 'color': 'black', 'width': 3},\n",
       " {'from': 'H', 'to': 'i', 'color': 'black', 'width': 3},\n",
       " {'from': 'H', 'to': 'j', 'color': 'black', 'width': 3},\n",
       " {'from': 'H', 'to': 'l', 'color': 'black', 'width': 3},\n",
       " {'from': 'I', 'to': 'I', 'color': 'gray'},\n",
       " {'from': 'I', 'to': 'k', 'color': 'black', 'width': 3},\n",
       " {'from': 'I', 'to': 'a', 'color': 'black', 'width': 3},\n",
       " {'from': 'I', 'to': 'b', 'color': 'black', 'width': 3},\n",
       " {'from': 'I', 'to': 'c', 'color': 'black', 'width': 3},\n",
       " {'from': 'I', 'to': 'd', 'color': 'black', 'width': 3},\n",
       " {'from': 'I', 'to': 'f', 'color': 'black', 'width': 3},\n",
       " {'from': 'I', 'to': 'i', 'color': 'black', 'width': 3},\n",
       " {'from': 'I', 'to': 'j', 'color': 'black', 'width': 3},\n",
       " {'from': 'J', 'to': 'J', 'color': 'gray'},\n",
       " {'from': 'J', 'to': 'k', 'color': 'black', 'width': 3},\n",
       " {'from': 'J', 'to': 'a', 'color': 'black', 'width': 3},\n",
       " {'from': 'K', 'to': 'K', 'color': 'gray'},\n",
       " {'from': 'K', 'to': 'a', 'color': 'black', 'width': 3},\n",
       " {'from': 'K', 'to': 'd', 'color': 'black', 'width': 3},\n",
       " {'from': 'K', 'to': 'l', 'color': 'black', 'width': 3},\n",
       " {'from': 'L', 'to': 'L', 'color': 'gray'},\n",
       " {'from': 'L', 'to': 'b', 'color': 'black', 'width': 3},\n",
       " {'from': 'L', 'to': 'f', 'color': 'black', 'width': 3},\n",
       " {'from': 'M', 'to': 'M', 'color': 'gray'},\n",
       " {'from': 'M', 'to': 'a', 'color': 'black', 'width': 3},\n",
       " {'from': 'M', 'to': 'b', 'color': 'black', 'width': 3},\n",
       " {'from': 'M', 'to': 'd', 'color': 'black', 'width': 3},\n",
       " {'from': 'M', 'to': 'i', 'color': 'black', 'width': 3},\n",
       " {'from': 'a', 'to': 'k', 'color': 'black', 'width': 3},\n",
       " {'from': 'g', 'to': 'k', 'color': 'black', 'width': 3},\n",
       " {'from': 'h', 'to': 'k', 'color': 'black', 'width': 3},\n",
       " {'from': 'k', 'to': 'm', 'color': 'black', 'width': 3}]"
      ]
     },
     "execution_count": 612,
     "metadata": {},
     "output_type": "execute_result"
    }
   ],
   "source": [
    "for i in net.edges:\n",
    "    if i['from'].isupper() and i['to'].isupper():\n",
    "        i['color'] = 'gray'\n",
    "    else:\n",
    "        i['color'] = 'black'\n",
    "        i['width'] = 3\n",
    "\n",
    "\n",
    "net.edges        "
   ]
  },
  {
   "cell_type": "code",
   "execution_count": 607,
   "metadata": {
    "scrolled": true
   },
   "outputs": [
    {
     "data": {
      "text/plain": [
       "[{'title': 'A', 'id': 'A', 'label': 'A', 'shape': 'dot', 'color': 'blue'},\n",
       " {'title': 'k', 'id': 'k', 'label': 'k', 'shape': 'dot', 'color': 'red'},\n",
       " {'title': 'H', 'id': 'H', 'label': 'H', 'shape': 'dot', 'color': 'blue'},\n",
       " {'title': 'I', 'id': 'I', 'label': 'I', 'shape': 'dot', 'color': 'blue'},\n",
       " {'title': 'G', 'id': 'G', 'label': 'G', 'shape': 'dot', 'color': 'blue'},\n",
       " {'title': 'J', 'id': 'J', 'label': 'J', 'shape': 'dot', 'color': 'blue'},\n",
       " {'title': 'K', 'id': 'K', 'label': 'K', 'shape': 'dot', 'color': 'blue'},\n",
       " {'title': 'a', 'id': 'a', 'label': 'a', 'shape': 'dot', 'color': 'red'},\n",
       " {'title': 'c', 'id': 'c', 'label': 'c', 'shape': 'dot', 'color': 'red'},\n",
       " {'title': 'e', 'id': 'e', 'label': 'e', 'shape': 'dot', 'color': 'red'},\n",
       " {'title': 'h', 'id': 'h', 'label': 'h', 'shape': 'dot', 'color': 'red'},\n",
       " {'title': 'B', 'id': 'B', 'label': 'B', 'shape': 'dot', 'color': 'blue'},\n",
       " {'title': 'M', 'id': 'M', 'label': 'M', 'shape': 'dot', 'color': 'blue'},\n",
       " {'title': 'F', 'id': 'F', 'label': 'F', 'shape': 'dot', 'color': 'blue'},\n",
       " {'title': 'b', 'id': 'b', 'label': 'b', 'shape': 'dot', 'color': 'red'},\n",
       " {'title': 'i', 'id': 'i', 'label': 'i', 'shape': 'dot', 'color': 'red'},\n",
       " {'title': 'C', 'id': 'C', 'label': 'C', 'shape': 'dot', 'color': 'blue'},\n",
       " {'title': 'm', 'id': 'm', 'label': 'm', 'shape': 'dot', 'color': 'red'},\n",
       " {'title': 'L', 'id': 'L', 'label': 'L', 'shape': 'dot', 'color': 'blue'},\n",
       " {'title': 'l', 'id': 'l', 'label': 'l', 'shape': 'dot', 'color': 'red'},\n",
       " {'title': 'D', 'id': 'D', 'label': 'D', 'shape': 'dot', 'color': 'blue'},\n",
       " {'title': 'f', 'id': 'f', 'label': 'f', 'shape': 'dot', 'color': 'red'},\n",
       " {'title': 'E', 'id': 'E', 'label': 'E', 'shape': 'dot', 'color': 'blue'},\n",
       " {'title': 'j', 'id': 'j', 'label': 'j', 'shape': 'dot', 'color': 'red'},\n",
       " {'title': 'g', 'id': 'g', 'label': 'g', 'shape': 'dot', 'color': 'red'},\n",
       " {'title': 'd', 'id': 'd', 'label': 'd', 'shape': 'dot', 'color': 'red'}]"
      ]
     },
     "execution_count": 607,
     "metadata": {},
     "output_type": "execute_result"
    }
   ],
   "source": [
    "[i.update({'color':'blue'}) if i['title'].isupper() else i.update({'color':'red'}) for i in net.nodes]\n",
    "net.nodes"
   ]
  },
  {
   "cell_type": "code",
   "execution_count": 608,
   "metadata": {},
   "outputs": [
    {
     "data": {
      "text/plain": [
       "[{'title': 'A', 'id': 'A', 'label': 'A', 'shape': 'dot', 'color': 'blue'},\n",
       " {'title': 'k', 'id': 'k', 'label': 'k', 'shape': 'dot', 'color': 'red'},\n",
       " {'title': 'H', 'id': 'H', 'label': 'H', 'shape': 'dot', 'color': 'blue'},\n",
       " {'title': 'I', 'id': 'I', 'label': 'I', 'shape': 'dot', 'color': 'blue'},\n",
       " {'title': 'G', 'id': 'G', 'label': 'G', 'shape': 'dot', 'color': 'blue'},\n",
       " {'title': 'J', 'id': 'J', 'label': 'J', 'shape': 'dot', 'color': 'blue'},\n",
       " {'title': 'K', 'id': 'K', 'label': 'K', 'shape': 'dot', 'color': 'blue'},\n",
       " {'title': 'a', 'id': 'a', 'label': 'a', 'shape': 'dot', 'color': 'red'},\n",
       " {'title': 'c', 'id': 'c', 'label': 'c', 'shape': 'dot', 'color': 'red'},\n",
       " {'title': 'e', 'id': 'e', 'label': 'e', 'shape': 'dot', 'color': 'red'},\n",
       " {'title': 'h', 'id': 'h', 'label': 'h', 'shape': 'dot', 'color': 'red'},\n",
       " {'title': 'B', 'id': 'B', 'label': 'B', 'shape': 'dot', 'color': 'blue'},\n",
       " {'title': 'M', 'id': 'M', 'label': 'M', 'shape': 'dot', 'color': 'blue'},\n",
       " {'title': 'F', 'id': 'F', 'label': 'F', 'shape': 'dot', 'color': 'blue'},\n",
       " {'title': 'b', 'id': 'b', 'label': 'b', 'shape': 'dot', 'color': 'red'},\n",
       " {'title': 'i', 'id': 'i', 'label': 'i', 'shape': 'dot', 'color': 'red'},\n",
       " {'title': 'C', 'id': 'C', 'label': 'C', 'shape': 'dot', 'color': 'blue'},\n",
       " {'title': 'm', 'id': 'm', 'label': 'm', 'shape': 'dot', 'color': 'red'},\n",
       " {'title': 'L', 'id': 'L', 'label': 'L', 'shape': 'dot', 'color': 'blue'},\n",
       " {'title': 'l', 'id': 'l', 'label': 'l', 'shape': 'dot', 'color': 'red'},\n",
       " {'title': 'D', 'id': 'D', 'label': 'D', 'shape': 'dot', 'color': 'blue'},\n",
       " {'title': 'f', 'id': 'f', 'label': 'f', 'shape': 'dot', 'color': 'red'},\n",
       " {'title': 'E', 'id': 'E', 'label': 'E', 'shape': 'dot', 'color': 'blue'},\n",
       " {'title': 'j', 'id': 'j', 'label': 'j', 'shape': 'dot', 'color': 'red'},\n",
       " {'title': 'g', 'id': 'g', 'label': 'g', 'shape': 'dot', 'color': 'red'},\n",
       " {'title': 'd', 'id': 'd', 'label': 'd', 'shape': 'dot', 'color': 'red'}]"
      ]
     },
     "execution_count": 608,
     "metadata": {},
     "output_type": "execute_result"
    }
   ],
   "source": [
    "net.nodes"
   ]
  },
  {
   "cell_type": "code",
   "execution_count": 613,
   "metadata": {
    "scrolled": false
   },
   "outputs": [
    {
     "data": {
      "text/html": [
       "\n",
       "        <iframe\n",
       "            width=\"500px\"\n",
       "            height=\"500px\"\n",
       "            src=\"example.html\"\n",
       "            frameborder=\"0\"\n",
       "            allowfullscreen\n",
       "        ></iframe>\n",
       "        "
      ],
      "text/plain": [
       "<IPython.lib.display.IFrame at 0x7f89312810d0>"
      ]
     },
     "execution_count": 613,
     "metadata": {},
     "output_type": "execute_result"
    }
   ],
   "source": [
    "net.show(\"example.html\")"
   ]
  },
  {
   "cell_type": "code",
   "execution_count": 627,
   "metadata": {},
   "outputs": [
    {
     "data": {
      "text/plain": [
       "('B', 'M')"
      ]
     },
     "execution_count": 627,
     "metadata": {},
     "output_type": "execute_result"
    }
   ],
   "source": [
    "id_anon[9],id_anon[14],"
   ]
  },
  {
   "cell_type": "code",
   "execution_count": 643,
   "metadata": {},
   "outputs": [
    {
     "name": "stdout",
     "output_type": "stream",
     "text": [
      "i 20\n",
      "Surbhi Singh\n",
      "Covid Detection CNNS\n",
      "\n"
     ]
    }
   ],
   "source": [
    "for i in 'i':\n",
    "    print(i,anon_id[i])\n",
    "    print(who[anon_id[i]])\n",
    "    print(wha[anon_id[i]])  \n",
    "    print()"
   ]
  },
  {
   "cell_type": "code",
   "execution_count": 620,
   "metadata": {},
   "outputs": [
    {
     "data": {
      "text/plain": [
       "{'A': ['A', 'k', 'H', 'I'],\n",
       " 'B': ['B', 'M'],\n",
       " 'C': ['C', 'm', 'G', 'H'],\n",
       " 'D': ['D', 'k'],\n",
       " 'E': ['E', 'M', 'L', 'J', 'H'],\n",
       " 'F': ['B', 'G', 'F'],\n",
       " 'G': ['G', 'B', 'C', 'D', 'M', 'K', 'A'],\n",
       " 'H': ['H', 'g', 'G', 'k'],\n",
       " 'I': ['I', 'G', 'k'],\n",
       " 'J': ['J', 'A', 'H', 'k'],\n",
       " 'K': ['H', 'A', 'B', 'K'],\n",
       " 'L': ['L', 'G', 'C', 'D'],\n",
       " 'M': ['M', 'G', 'B'],\n",
       " 'a': ['k', 'A', 'I', 'M', 'K', 'C', 'J'],\n",
       " 'b': ['M', 'B', 'I', 'F', 'G', 'L', 'C'],\n",
       " 'c': ['G', 'H', 'A', 'B', 'I'],\n",
       " 'd': ['G', 'M', 'H', 'K', 'I'],\n",
       " 'e': ['B', 'H', 'A'],\n",
       " 'f': ['H', 'L', 'F', 'G', 'I', 'D'],\n",
       " 'g': ['H', 'G', 'F', 'k'],\n",
       " 'h': ['k', 'H', 'A', 'D'],\n",
       " 'i': ['M', 'B', 'I', 'H'],\n",
       " 'j': ['H', 'E', 'G', 'I'],\n",
       " 'k': ['D', 'B', 'C', 'A'],\n",
       " 'l': ['C', 'H', 'G', 'K'],\n",
       " 'm': ['C', 'k', 'D', 'G']}"
      ]
     },
     "execution_count": 620,
     "metadata": {},
     "output_type": "execute_result"
    }
   ],
   "source": [
    "sho"
   ]
  },
  {
   "cell_type": "code",
   "execution_count": 615,
   "metadata": {},
   "outputs": [],
   "source": [
    "who = {24: \"Amanda West\",\n",
    "       43: 'André Zazzera',\n",
    "       10: 'Ashley Scurlock',\n",
    "       36: 'Emily Murphy',\n",
    "       5: \"Kevin Hoffman\", \n",
    "       16: \"Pavan Kumar Bondalapati\",\n",
    "       18: 'Siddharth Surapaneni',\n",
    "       27: \"Sean Grace\",\n",
    "       20: \"Surbhi Singh\",\n",
    "       17: 'Swathi Samuel',\n",
    "       21: \"Youssef Abubaker\",\n",
    "       22: \"Rachel Filderman\",\n",
    "       28: \"Jae Yoon Sung\"}\n",
    "\n",
    "wha = {24: \"Aerial Image Recognition with CNNs\",\n",
    "       43: 'Speech to text recognition',\n",
    "       10: 'Sentiment Analysis of Tweets During the Coronavirus Pandemic.',\n",
    "       36:'Predicting Enrollment in Higher Ed',\n",
    "       5: \"Benchmarking Malware Detection Models\",\n",
    "       16: \"Emotional Speech Generation Using a Conditional GAN\",\n",
    "       18: 'pass',\n",
    "       27: \"Traffic Sign Recognition with Deep Learning\",\n",
    "       20: \"Covid Detection CNNS\",\n",
    "       17: 'Digit Detection for Teachers',\n",
    "       21: \"Predicting Neighborhood Wealth using Google StreetView.\",\n",
    "       22: \"ANALYZING THE UTILIZATION OF DEEP LEARNING TECHNIQUES FOR IMAGE RECOGNITION IN FINE ART\",\n",
    "       28: \"Pass\"}\n",
    "\n"
   ]
  },
  {
   "cell_type": "code",
   "execution_count": 471,
   "metadata": {},
   "outputs": [
    {
     "data": {
      "text/plain": [
       "(21, 32, 18, 14, 31, 26, 19)"
      ]
     },
     "execution_count": 471,
     "metadata": {},
     "output_type": "execute_result"
    }
   ],
   "source": [
    "out = Counter()\n",
    "from collections import Counter\n",
    "for k,v in pas.items():\n",
    "    out += Counter(v)\n",
    "\n",
    "[(i,out[i]) for i in sorted(out, key = lambda k: -out[k])]"
   ]
  },
  {
   "cell_type": "code",
   "execution_count": 469,
   "metadata": {},
   "outputs": [
    {
     "data": {
      "text/plain": [
       "{24: 'a',\n",
       " 43: 'b',\n",
       " 10: 'c',\n",
       " 36: 'd',\n",
       " 5: 'e',\n",
       " 16: 'f',\n",
       " 8: 'g',\n",
       " 27: 'h',\n",
       " 20: 'i',\n",
       " 17: 'j',\n",
       " 21: 'k',\n",
       " 22: 'l',\n",
       " 28: 'm'}"
      ]
     },
     "execution_count": 469,
     "metadata": {},
     "output_type": "execute_result"
    }
   ],
   "source": [
    "id_anon_map"
   ]
  },
  {
   "cell_type": "code",
   "execution_count": null,
   "metadata": {},
   "outputs": [],
   "source": []
  }
 ],
 "metadata": {
  "kernelspec": {
   "display_name": "Python 3",
   "language": "python",
   "name": "python3"
  },
  "language_info": {
   "codemirror_mode": {
    "name": "ipython",
    "version": 3
   },
   "file_extension": ".py",
   "mimetype": "text/x-python",
   "name": "python",
   "nbconvert_exporter": "python",
   "pygments_lexer": "ipython3",
   "version": "3.8.5"
  }
 },
 "nbformat": 4,
 "nbformat_minor": 4
}
