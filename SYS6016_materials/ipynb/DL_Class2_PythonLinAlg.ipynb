{
 "cells": [
  {
   "cell_type": "markdown",
   "metadata": {},
   "source": [
    "*(a) Linear Algebra flashcards and (b) some notes on numerical computation available at bottom of notebook*"
   ]
  },
  {
   "cell_type": "markdown",
   "metadata": {},
   "source": [
    "Generally, however, this notebook addresses selected topics\n",
    "\n",
    "- Matrix Multiplicatiton\n",
    "- Eigenvectors/values\n",
    "- Matrix Definiteness \n",
    "- Gradients/Hessians\n",
    "\n",
    "as an excuse to do some \n",
    "# Python\n",
    "and a little $\\LaTeX$"
   ]
  },
  {
   "cell_type": "code",
   "execution_count": 2,
   "metadata": {},
   "outputs": [],
   "source": [
    "import numpy as np\n",
    "import matplotlib.pyplot as plt\n",
    "\n",
    "# I personally don't care where you have your imports, tbh.  Do you? \n",
    "# Please change my mind!"
   ]
  },
  {
   "cell_type": "code",
   "execution_count": 3,
   "metadata": {},
   "outputs": [],
   "source": [
    "# Oh!--Unrelated: I like the concept \"Model Capacity\" a lot... Do you?/Have you heard of it?"
   ]
  },
  {
   "cell_type": "markdown",
   "metadata": {},
   "source": [
    "## Vectors\n",
    "\n",
    "- Like, duh, the basic building block of everything ML: \"Everything's a vector...\""
   ]
  },
  {
   "cell_type": "code",
   "execution_count": 4,
   "metadata": {},
   "outputs": [
    {
     "data": {
      "text/plain": [
       "array([[2. ],\n",
       "       [0.5]])"
      ]
     },
     "execution_count": 4,
     "metadata": {},
     "output_type": "execute_result"
    }
   ],
   "source": [
    "X = np.array([[2],[.5]])\n",
    "X"
   ]
  },
  {
   "cell_type": "markdown",
   "metadata": {},
   "source": [
    "## (Linaer) Transformations\n",
    "- E.g., [rotations](https://en.wikipedia.org/wiki/Rotation_matrix): \"[orthogonal](https://en.wikipedia.org/wiki/Orthogonal_matrix) matrices with [determinant](https://en.wikipedia.org/wiki/Determinant#Relation_to_eigenvalues_and_trace) 1\"\n",
    "\n",
    "- Let's make a symmetric matrices (with this trick) [Why?][Because:]\n",
    "    - Non-Symmetric matrices usually have complex eigenvectors (and we'll not mess with that)\n",
    "    - \"Every real symmetric matrix is Hermitian, and therefore all its [eigenvalues are real](https://en.wikipedia.org/wiki/Symmetric_matrix#Real_symmetric_matrices)\" \n"
   ]
  },
  {
   "cell_type": "code",
   "execution_count": 11,
   "metadata": {},
   "outputs": [
    {
     "data": {
      "text/plain": [
       "array([[-0.5 ,  1.25],\n",
       "       [ 1.25,  1.  ]])"
      ]
     },
     "execution_count": 11,
     "metadata": {},
     "output_type": "execute_result"
    }
   ],
   "source": [
    "C = np.array([[-0.5,1.5],[1,1]])    \n",
    "        \n",
    "C = (C+C.T)/2\n",
    "C"
   ]
  },
  {
   "cell_type": "code",
   "execution_count": null,
   "metadata": {},
   "outputs": [],
   "source": [
    "# Wait -- is this a Symmetric Matrix?"
   ]
  },
  {
   "cell_type": "code",
   "execution_count": 14,
   "metadata": {},
   "outputs": [
    {
     "data": {
      "text/plain": [
       "(-2.0625, -2.0624999999999996)"
      ]
     },
     "execution_count": 14,
     "metadata": {},
     "output_type": "execute_result"
    }
   ],
   "source": [
    "# https://numpy.org/doc/stable/reference/generated/numpy.linalg.eig.html\n",
    "np.prod(np.linalg.eigvals(C)), np.linalg.det(C)"
   ]
  },
  {
   "cell_type": "code",
   "execution_count": null,
   "metadata": {},
   "outputs": [],
   "source": [
    "# Wait -- if the determinant has a \"volume\" expansion/reduction interpretation\n",
    "# Can I have a negative determinant?\n",
    "\n",
    "# https://math.stackexchange.com/questions/1584748/whats-the-geometric-meaning-of-a-negative-determinant"
   ]
  },
  {
   "cell_type": "markdown",
   "metadata": {},
   "source": [
    "### Matrix Multiplication (I.E./A.K.A. Linaer Transformation of a Vector X)\n",
    "- By now you should finally \"understand\" matrix multiplication:\n",
    "    - *It's just a **maths notation** to conveniently represent linear transformations computations!*"
   ]
  },
  {
   "cell_type": "code",
   "execution_count": 18,
   "metadata": {},
   "outputs": [
    {
     "data": {
      "text/plain": [
       "array([[-0.375],\n",
       "       [ 3.   ]])"
      ]
     },
     "execution_count": 18,
     "metadata": {},
     "output_type": "execute_result"
    }
   ],
   "source": [
    "# Do you like this \"@\" multiplication notation?  \n",
    "# Obviously, but it doesn't always work in PyMC ugh\n",
    "\n",
    "C @ X"
   ]
  },
  {
   "cell_type": "code",
   "execution_count": 20,
   "metadata": {},
   "outputs": [
    {
     "data": {
      "text/plain": [
       "array([[2. ],\n",
       "       [0.5]])"
      ]
     },
     "execution_count": 20,
     "metadata": {},
     "output_type": "execute_result"
    }
   ],
   "source": [
    "X"
   ]
  },
  {
   "cell_type": "code",
   "execution_count": 66,
   "metadata": {},
   "outputs": [
    {
     "data": {
      "text/plain": [
       "array([[-0.5 ,  1.25],\n",
       "       [ 1.25,  1.  ]])"
      ]
     },
     "execution_count": 66,
     "metadata": {},
     "output_type": "execute_result"
    }
   ],
   "source": [
    "C"
   ]
  },
  {
   "cell_type": "code",
   "execution_count": 67,
   "metadata": {},
   "outputs": [
    {
     "data": {
      "text/plain": [
       "array([1.25, 1.  ])"
      ]
     },
     "execution_count": 67,
     "metadata": {},
     "output_type": "execute_result"
    }
   ],
   "source": [
    "C[:,1]"
   ]
  },
  {
   "cell_type": "code",
   "execution_count": 136,
   "metadata": {},
   "outputs": [
    {
     "data": {
      "image/png": "[encoded data removed]",
      "text/plain": [
       "<Figure size 504x504 with 1 Axes>"
      ]
     },
     "metadata": {
      "needs_background": "light"
     },
     "output_type": "display_data"
    }
   ],
   "source": [
    "fig = plt.figure(figsize=(7,7))\n",
    "\n",
    "plt.quiver([0],[0], X[0,:], X[1,:], \n",
    "           angles='xy', scale_units='xy', scale=1, color='blue', label='Original Vector')\n",
    "\n",
    "plt.quiver([0],[0], (C@X)[0,:], (C@X)[1,:], \n",
    "           angles='xy', scale_units='xy', scale=1, color='orange', width=1/50, label='Tranformed Vector')\n",
    "\n",
    "plt.quiver(0*C[:,0], 0*C[:,1], C[0,:], C[1,:], \n",
    "           angles='xy', scale_units='xy', scale=1, color='black',\n",
    "           label='Transformation Rows')\n",
    "\n",
    "\n",
    "plt.text(C[0,0],C[0,1],\"$f_{x}$\", size=30)\n",
    "plt.text(C[1,0],C[1,1],\"$f_{y}$\", size=30)\n",
    "\n",
    "plt.legend(loc='upper right', prop={'size': 16})\n",
    "plt.xlabel('$x$', size=30)\n",
    "plt.ylabel('$y$', size=30)\n",
    "plt.title('Transformation Rows: dot product specifications')\n",
    "\n",
    "plt.xlim(-1, 2.5)\n",
    "_=plt.ylim(-0.5, 3)"
   ]
  },
  {
   "cell_type": "markdown",
   "metadata": {},
   "source": [
    "- Interprete this transformation using the dot product\n",
    "\n",
    "$$\\LARGE \\vec x \\cdot \\vec y = ||\\vec x|| \\cdot ||\\vec y|| \\cdot cos(\\theta_{\\vec x \\vec y})$$"
   ]
  },
  {
   "cell_type": "code",
   "execution_count": 101,
   "metadata": {},
   "outputs": [
    {
     "data": {
      "image/png": "[encoded data removed]",
      "text/plain": [
       "<Figure size 432x288 with 1 Axes>"
      ]
     },
     "metadata": {
      "needs_background": "light"
     },
     "output_type": "display_data"
    }
   ],
   "source": [
    "theta = np.linspace(0,2*np.pi,100)\n",
    "plt.plot(theta, np.cos(theta))\n",
    "plt.plot([0, 2*np.pi],[0]*2, c='black')\n",
    "plt.plot([np.pi/2]*2,[0,1], c='gray')\n",
    "plt.plot([np.pi]*2,[-1,1], c='gray')\n",
    "_=plt.title(\"$cos(0)=1, \\quad cos(\\pi/2)=0, \\quad cos(\\pi)=-1, \\quad cos(2\\pi)=1$\")\n"
   ]
  },
  {
   "cell_type": "markdown",
   "metadata": {},
   "source": [
    "## Eigenvalues/Vectors\n",
    "- The things you casually reference drop in conversations when you want to put the headlights in the deers eyes\n",
    "    - So... what are they?\n",
    "        - A nicer way to understand linear transformations (I.E./A.K.A. Matrix Multiplications)"
   ]
  },
  {
   "cell_type": "code",
   "execution_count": 165,
   "metadata": {},
   "outputs": [],
   "source": [
    "# https://numpy.org/doc/stable/reference/generated/numpy.linalg.eig.html\n",
    "# https://numpy.org/doc/stable/reference/generated/numpy.linalg.det.html\n",
    "\n",
    "eigval,eigvec = np.linalg.eig(C)\n",
    "eigval,eigvec = -eigval, -eigvec"
   ]
  },
  {
   "cell_type": "code",
   "execution_count": 163,
   "metadata": {},
   "outputs": [],
   "source": [
    "# oh, wait: what?\n",
    "# https://stats.stackexchange.com/questions/205713/does-the-sign-of-eigenvectors-matter"
   ]
  },
  {
   "cell_type": "markdown",
   "metadata": {},
   "source": [
    "- $$"
   ]
  },
  {
   "cell_type": "code",
   "execution_count": 186,
   "metadata": {},
   "outputs": [
    {
     "data": {
      "image/png": "[encoded data removed]",
      "text/plain": [
       "<Figure size 504x504 with 1 Axes>"
      ]
     },
     "metadata": {
      "needs_background": "light"
     },
     "output_type": "display_data"
    }
   ],
   "source": [
    "fig = plt.figure(figsize=(7,7))\n",
    "\n",
    "\n",
    "plt.quiver([0],[0], X[0,:], X[1,:], \n",
    "           angles='xy', scale_units='xy', scale=1, color='blue', label='Original Vector')\n",
    "\n",
    "plt.quiver([0],[0], (C@X)[0,:], (C@X)[1,:], \n",
    "           angles='xy', scale_units='xy', scale=1, color='orange', width=1/50, label='Tranformed Vector')\n",
    "\n",
    "\n",
    "ev_i = 0\n",
    "plt.quiver([0],[0], eigvec[0,ev_i], eigvec[1,ev_i], width=1/50, \n",
    "           angles='xy', scale_units='xy', scale=1, color='pink', label='Eigenvector')\n",
    "plt.quiver([0],[0], (C@eigvec[:,[ev_i]])[0,:], (C@eigvec[:,[ev_i]])[1,:],\n",
    "           angles='xy', scale_units='xy', scale=1, color='red', label='Transformed Eigenvector')\n",
    "\n",
    "ev_i = 1\n",
    "plt.quiver([0],[0], eigvec[0,ev_i], eigvec[1,ev_i], width=1/50, \n",
    "           angles='xy', scale_units='xy', scale=1, hatch='ooo', facecolor='pink')\n",
    "plt.quiver([0],[0], (C@eigvec[:,[ev_i]])[0,:], (C@eigvec[:,[ev_i]])[1,:],\n",
    "           angles='xy', scale_units='xy', scale=1, hatch='ooo', facecolor='red')\n",
    "\n",
    "\n",
    "plt.legend(loc='upper right', prop={'size': 12})\n",
    "plt.xlabel('$x$', size=30)\n",
    "plt.ylabel('$y$', size=30)\n",
    "plt.title(\"C@$V_0 = \\lambda_0 V_0, \\quad \\lambda_0 = $\"+str(np.round(eigval[0],2))+\"\\n\"+\n",
    "          \"C@$V_1 = \\lambda_1 V_1, \\quad \\lambda_1 = $\"+str(np.round(eigval[1],2)), size=30)\n",
    "plt.xlim(-2, 3)\n",
    "_=plt.ylim(-2, 3)"
   ]
  },
  {
   "cell_type": "code",
   "execution_count": null,
   "metadata": {},
   "outputs": [],
   "source": [
    "# Hmm... the Eigenvectors are a little bit \"normal\" looking, no?"
   ]
  },
  {
   "cell_type": "code",
   "execution_count": 192,
   "metadata": {},
   "outputs": [],
   "source": [
    "# Yep:\n",
    "# np.sum(eigvec[:,0]**2),np.sum(eigvec[:,1]**2)\n"
   ]
  },
  {
   "cell_type": "code",
   "execution_count": 193,
   "metadata": {},
   "outputs": [],
   "source": [
    "# What would this do? \n",
    "# np.round(eigvec @ eigvec.T)\n",
    "\n",
    "# now that's interesting, isn't it!?\n",
    "#https://en.wikipedia.org/wiki/Orthogonal_matrix"
   ]
  },
  {
   "cell_type": "markdown",
   "metadata": {},
   "source": [
    "## Some *more* cool things about *Eigenvalues*\n",
    "\n",
    "### Condition Numbers\n",
    "\n",
    "If $\\underset{i,j}{max} \\frac{\\lambda_i}{\\lambda_j}$ then `C@X` is \"extremely unstable\"\n",
    "- small changes in `X` mean large changes in `C@X`\n",
    "\n",
    "### Definiteness\n",
    "\n",
    "*Positive Definite Matrix*: \n",
    "- $X^T C X > 0$ for all $X$ (`X.T @ (C @ X) > 0`)\n",
    "- Symmetric matrix eigenvalues are *all* positive: $\\lambda_i > 0$\n",
    "\n",
    "\n",
    "*Negative Definite Matrix*: \n",
    "- $X^T C X < 0$ for all $X$ (`X.T @ (C @ X) < 0`)\n",
    "- Symmetric matrix eigenvalues are *all* negative: $\\lambda_i < 0$\n"
   ]
  },
  {
   "cell_type": "markdown",
   "metadata": {},
   "source": [
    "## Gradient $\\nabla_{\\boldsymbol{\\theta}} f_{\\boldsymbol{\\theta}}(\\textbf{x})$ and Hessian $\\mathbf{H}_{\\boldsymbol{\\theta}} f_{\\boldsymbol{\\theta}}(\\textbf{x})$\n",
    "\n",
    "$\n",
    "\\begin{array}{ccc}\n",
    "\\nabla_{\\boldsymbol{\\theta}} f_{\\boldsymbol{\\theta}}(\\textbf{x}) = \\left[ \n",
    "\\begin{array}{c}\n",
    "\\frac{\\partial}{\\partial \\theta_1} f_{\\boldsymbol{\\theta}}(\\mathbf{x})\\\\\n",
    "\\frac{\\partial}{\\partial \\theta_2} f_{\\boldsymbol{\\theta}}(\\mathbf{x})\\\\\n",
    "\\vdots\\\\\n",
    "\\frac{\\partial}{\\partial \\theta_j} f_{\\boldsymbol{\\theta}}(\\mathbf{x})\\\\\n",
    "\\vdots\\\\\n",
    "\\frac{\\partial}{\\partial \\theta_p} f_{\\boldsymbol{\\theta}}(\\mathbf{x})\\\\\n",
    "\\end{array}\n",
    "\\right]\n",
    "& and &\n",
    "\\mathbf{H}_{\\boldsymbol{\\theta}} f_{\\boldsymbol{\\theta}}(\\textbf{x}) = \\left[ \n",
    "\\begin{array}{cccc}\n",
    "\\frac{\\partial^2}{\\partial \\theta_1\\partial \\theta_1} f_{\\boldsymbol{\\theta}}(\\mathbf{x}) &\n",
    "\\frac{\\partial^2}{\\partial \\theta_1\\partial \\theta_2} f_{\\boldsymbol{\\theta}}(\\mathbf{x}) &\\cdots&\n",
    "\\frac{\\partial^2}{\\partial \\theta_1\\partial \\theta_p} f_{\\boldsymbol{\\theta}}(\\mathbf{x})\\\\\n",
    "\\frac{\\partial^2}{\\partial \\theta_2\\partial \\theta_1} f_{\\boldsymbol{\\theta}}(\\mathbf{x}) &\n",
    "\\frac{\\partial^2}{\\partial \\theta_2\\partial \\theta_2} f_{\\boldsymbol{\\theta}}(\\mathbf{x}) &\\cdots&\n",
    "\\frac{\\partial^2}{\\partial \\theta_2\\partial \\theta_p} f_{\\boldsymbol{\\theta}}(\\mathbf{x})\\\\\n",
    "\\vdots & \\vdots &\\ddots& \\vdots\\\\\n",
    "\\frac{\\partial^2}{\\partial \\theta_j\\partial \\theta_1} f_{\\boldsymbol{\\theta}}(\\mathbf{x}) &\n",
    "\\frac{\\partial^2}{\\partial \\theta_j\\partial \\theta_2} f_{\\boldsymbol{\\theta}}(\\mathbf{x}) &\\cdots&\n",
    "\\frac{\\partial^2}{\\partial \\theta_j\\partial \\theta_p} f_{\\boldsymbol{\\theta}}(\\mathbf{x})\\\\\n",
    "\\vdots & \\vdots &\\ddots& \\vdots\\\\\n",
    "\\frac{\\partial^2}{\\partial \\theta_p\\partial \\theta_1} f_{\\boldsymbol{\\theta}}(\\mathbf{x}) &\n",
    "\\frac{\\partial^2}{\\partial \\theta_p\\partial \\theta_2} f_{\\boldsymbol{\\theta}}(\\mathbf{x}) &\\cdots&\n",
    "\\frac{\\partial^2}{\\partial \\theta_p\\partial \\theta_2} f_{\\boldsymbol{\\theta}}(\\mathbf{x})\\\\\n",
    "\\end{array}\n",
    "\\right]\n",
    "\\end{array}$\n",
    "\n",
    "- *If the derivatives exist, the function is continuous, and [the matrix is symmetric](https://en.wikipedia.org/wiki/Hessian_matrix)*"
   ]
  },
  {
   "cell_type": "markdown",
   "metadata": {},
   "source": [
    "## Critical Points (of a function)\n",
    "\n",
    "If $\\nabla_{\\boldsymbol{\\theta}} f_{\\boldsymbol{\\theta}}(\\textbf{x}) = 0$ at $\\boldsymbol{\\theta}_0$, then $\\boldsymbol{\\theta}_0$ is a\n",
    "\n",
    "- ***local minima[maxima]*** if $\\mathbf{H}_{\\boldsymbol{\\theta}} f_{\\boldsymbol{\\theta}}(\\textbf{x})$ is **positive[negative]** definite at $\\boldsymbol{\\theta}_0$\n",
    "    \n",
    "- otherwise $\\boldsymbol{\\theta}_0$ may be a saddle point\n",
    "    - and can't tell if $\\lambda_i=0$ for some $i$\n"
   ]
  },
  {
   "cell_type": "markdown",
   "metadata": {},
   "source": [
    "### Proof\n",
    "\n",
    "\n",
    "Remember the [Taylor Series](https://en.wikipedia.org/wiki/Taylor_series) for arbitrary function approximation?\n",
    "\n",
    "$\\displaystyle \n",
    "\\begin{align*}\n",
    "f(\\theta) = {} & \\sum_{n=0}^{\\infty} \\frac{1}{n!}\\frac{ \\partial^n f(\\theta_0)}{\\partial \\theta^n}(\\theta-\\theta_0)^n \\\\\n",
    "\\overset{e.g.}{\\approx} {} &  \n",
    "\\underbrace{f(\\theta_0)}_{\\text{start at $\\theta_0$}} + \n",
    "\\underset{\\text{linear change at $\\theta_0$}}{\\underbrace{\\frac{ \\partial f(\\theta_0)}{\\partial \\theta}\n",
    "(\\overbrace{\\theta-\\theta_0}^{\\text{move this far}})}_{\\text{in the direction of}}} + \n",
    "\\underset{\\text{quadratic change at $\\theta_0$}}{\\underbrace{\\frac{1}{2}\\frac{ \\partial^2 f(\\theta_0)}{\\partial \\theta^2}\n",
    "(\\overbrace{\\theta-\\theta_0}^{\\text{move this far}})^2}_{\\text{in the direction of}}}\\\\\n",
    "\\end{align*}$\n",
    "\n",
    "- The approximation is better for points near $\\theta_0$ since there's less time for the higher order terms to contribute their deviation away from the linear trend\n",
    "\n",
    "<br>\n",
    "\n",
    "Second order Taylor series expansion of $f_{\\boldsymbol{\\theta}}(\\textbf{x})$ at $\\boldsymbol{\\theta}_0$:\n",
    "\n",
    "$f_{\\boldsymbol{\\theta}}(\\textbf{x}) \\approx \\underset{\\text{at}\\;\\boldsymbol{\\theta}_0}{f_{\\boldsymbol{\\theta}}(\\textbf{x})} + \n",
    "(\\boldsymbol{\\theta} - \\boldsymbol{\\theta}_0) \\cdot\n",
    "\\underset{\\text{at}\\;\\boldsymbol{\\theta}_0} {\\nabla_{\\boldsymbol{\\theta}} f_{\\boldsymbol{\\theta}}(\\textbf{x})} \n",
    "+ \\frac{1}{2}(\\boldsymbol{\\theta} - \\boldsymbol{\\theta}_0)^T \\cdot\n",
    "\\underset{\\text{at}\\;\\boldsymbol{\\theta}_0}\n",
    "{\\mathbf{H}_{\\boldsymbol{\\theta}} f_{\\boldsymbol{\\theta}}(\\textbf{x})}\n",
    "\\cdot (\\boldsymbol{\\theta} - \\boldsymbol{\\theta}_0)$\n",
    "\n",
    "At $\\boldsymbol{\\theta}_0$ a ***local minimum[maximum]***\n",
    "- the middle term goes to 0 **[*WHY?*]**\n",
    "- the quadratic term must be positive[negative] for any $\\boldsymbol{\\theta} = \\boldsymbol{\\theta}_0 + \\epsilon$ for any small $\\epsilon$ **[*WHY?*]**\n"
   ]
  },
  {
   "cell_type": "markdown",
   "metadata": {},
   "source": [
    "## In addition to the above\n",
    "\n",
    "## here are the things you should have understood from your reading\n",
    "- How softmax can correct for under/overflow\n",
    "- How Hill Climbing works\n",
    "    - that step size is an issue\n",
    "    - that the step size issue can be analyzed, to some degree, using the Hession\n",
    "- That thee Jacobian is a thing\n",
    "- If you have a quadratic function, Newton's method can optimize it in one step\n",
    "    - and if you have an approximately quadratic function, Newton's method (if used carefully) could optimize it quickly with a few iterations\n",
    "- That constrained optimization started off based on \n",
    "    - the Lagrangian\n",
    "    - and is now based on the KKT approach\n",
    "        - and this can be used in, e.g.,\n",
    "            - ridge/lasso regularization\n",
    "            - SVM optimization\n",
    "- $L_p$ norms, unit vectors (could be \\emph{orthonormal} if they're also \\emph{orthogonal})\n",
    "    - Frobenius norm $\\sqrt{Tr(AA^T)}$\n",
    "- $x^Ty = ||x|| \\cdot ||y|| \\cdot cos(\\theta)$\n",
    "    - $=0$ if $\\theta=\\pi/2$... i.e., $x$ and $y$ are \\emph{orthogonal}\n",
    "        - a square matrix with mutually \\emph{orthonormal} rows and mutually \\emph{orthonormal} columns is called an \\emph{orthogonal} matrix and $A^TA=AA^T=I$ and $A^T=A^-1$\n",
    "- PCA"
   ]
  },
  {
   "cell_type": "markdown",
   "metadata": {},
   "source": [
    "## And here are some Linear Algebra notes that you should be comfortable reading\n",
    "\n",
    "- $(AB)^T = B^TA^T, \\quad (x^Ty) = (x^Ty)^T = y^Tx$\n",
    "- $A^T=A$ means $A$ is symmetric\n",
    "- $A^{-1}A = I \\;(= AA^{-1} \\; \\text{if $A$ is square... otherwise left and right inverses might exist and could be used})$\n",
    "    - $(X^TX)^{-1}X^T y = \\hat \\beta$\n",
    "    - $X\\hat\\beta = \\hat y$\n",
    "    - $X(X^TX)^{-1}X^T y = \\hat y$\n",
    "    - $H y = \\hat y$\n",
    "- $y = H^{-1}\\hat y$\n",
    "    - $H^{-1}$?\n",
    "    - $(X^TX)^{-1}$?\n",
    "- $A^{-1}$ of $A$ exists if \n",
    "    - $b$ and $x$ form a bijective 1:1 mapping in $Ax = b$ \n",
    "        - otherwise, if different $x_i$ map to the same $b$, then a single $b$ maps back to multiple $x_i$ in \"$x = A^{-1}b$\"\n",
    "        - which is not possible for the function $A^{-1}$, so the inverse of $A$ cannot exist: the function $A$ is not invertable\n",
    "    - Certainly *it could* be possible for multiple distinct $x_i$ to map to the same $b$ for some choices of $A$... e.g., $A=\\textbf{0}$\n",
    "        - but then that $A$ is not invertible.\n",
    "    - If $x_i$ and $x_j$ are solutions to $Ax = b$ then so is $x_k = \\alpha x_i + (1-\\alpha) x_j$ for any real $\\alpha$\n",
    "    - It's *also* the case that **no** solutions exist to $Ax = b$\n",
    "        - this would be the case if $b$ was not in the span of the column vectors of $A$\n",
    "            - i.e., $x$ specifies the weighted average of the columns of $A$\n",
    "                - if $b$ can't be made in this manner then it's not in the column space (also called the range) of $A$.              \n",
    "- If the columns of square (m by m) matrix $A$ are linearly independent\n",
    "    - (linearly independent: cannot be constructed from each other)\n",
    "- then $A$ is called non-singular, and $A^-1$ exists. \n",
    "    - Solutions $x$ to $Ax = b$ can exist for non-square or singular (i.e., non-invertible) matrices... but you won't be able to use $A^{-1}$ to find them, since \n",
    "- Eigen decomposition of $A$ is $V \\textbf{diag}(\\boldsymbol{\\lambda}) V^-1$ where the columns of $V$ are linearly independent eigenvectors of $A$ with corresponding eigenvalues $\\boldsymbol{\\lambda}$\n",
    "    - eigen decompositions can involve imaginary numbers\n",
    "    - symmetric, real-valued matrices decompose as $Q \\textbf{diag}(\\boldsymbol{\\lambda}) Q^T$ where $Q$ is real valued and orthogonal\n",
    "    - this eigen decomposition is unique if all eigenvalues are unique\n",
    "    - A is singular iff (if and only if) any eigenvalue is 0.\n",
    "        - $x^T A x$ for $||x||=1$ is maximally the largest eigenvalue and minimally the smallest.\n",
    "    - All eigenvalues positive[negative] means positive[negative] definite: $x^T A x [>/<] 0$  \n",
    "        - some 0's mean semi-definite: $x^T A x [\\geq/\\leq] 0$\n",
    "- A real matrices have a real valued *singular value decomposition*: $A = U_{m\\times m}D_{m\\times n}V_{n\\times n}^T$\n",
    "    - $U$ (left singular vectors) and $V$ (right singular vectors) are orthogonal, and $D$ (holding the singular values) is diagonal \n",
    "        - $U$ is the eigenvectors of $AA^T$\n",
    "        - $V$ is the eigenvectors of $A^TA$\n",
    "        - the square roots of the singular values are the eigenvalues of $AA^T$ and $A^TA$\n",
    "- *Moore-Penrose pseudoinverse*: $A^+ = \\underset{\\alpha \\rightarrow 0}{lim}(A^TA + \\alpha I)^{-1} A^T$\n",
    "\\begin{align*}\n",
    "(A^+)A =& I = (VD^+U^T)UDV^T\\\\\n",
    "A^+ =& (VD^+U^T)\\\\\n",
    "\\end{align*}\n",
    "    - Solution $x = A^+b$ for $Ax = b$ has minimum $||x||$ for all possible solutions $x$\n",
    "    - If no solution $x$ exists for $Ax = b$ for $b$ then $||Ax - b||$ is the minimum possible if $x = A^+b$\n",
    "    \n",
    "- $Tr(ABC)=Tr(BCA)=Tr(CAB)$\n",
    "- $Det(A)$ is the product of the eigenvalues\n",
    "    - it is therefore a measure of \"space expansion\" of the matrix $A$\n"
   ]
  },
  {
   "cell_type": "markdown",
   "metadata": {},
   "source": [
    "# And *OF COURSE* you must be Python proficient... git gud!!"
   ]
  },
  {
   "cell_type": "code",
   "execution_count": null,
   "metadata": {},
   "outputs": [],
   "source": []
  }
 ],
 "metadata": {
  "kernelspec": {
   "display_name": "Python 3",
   "language": "python",
   "name": "python3"
  },
  "language_info": {
   "codemirror_mode": {
    "name": "ipython",
    "version": 3
   },
   "file_extension": ".py",
   "mimetype": "text/x-python",
   "name": "python",
   "nbconvert_exporter": "python",
   "pygments_lexer": "ipython3",
   "version": "3.8.5"
  }
 },
 "nbformat": 4,
 "nbformat_minor": 4
}
